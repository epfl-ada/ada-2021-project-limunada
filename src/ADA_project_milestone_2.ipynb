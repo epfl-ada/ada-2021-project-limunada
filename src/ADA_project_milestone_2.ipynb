{
  "nbformat": 4,
  "nbformat_minor": 0,
  "metadata": {
    "colab": {
      "name": "ADA_project_milestone_2.ipynb",
      "provenance": [],
      "collapsed_sections": []
    },
    "kernelspec": {
      "display_name": "Python 3",
      "language": "python",
      "name": "python3"
    },
    "language_info": {
      "codemirror_mode": {
        "name": "ipython",
        "version": 3
      },
      "file_extension": ".py",
      "mimetype": "text/x-python",
      "name": "python",
      "nbconvert_exporter": "python",
      "pygments_lexer": "ipython3",
      "version": "3.7.6"
    }
  },
  "cells": [
    {
      "cell_type": "markdown",
      "metadata": {
        "id": "I26btByJ57tw"
      },
      "source": [
        "# ToDo\n",
        "\n",
        "* map speaker attribute entries from Qids to meaningful labels\n",
        "  * save all dictionaries as JSONs\n",
        "\n",
        "* Jana - loading Quotebank per year, discarding None speakers, saving as JSON\n"
      ]
    },
    {
      "cell_type": "markdown",
      "metadata": {
        "id": "bbUCbI8orIeL"
      },
      "source": [
        "## Installing and importing dependencies, mounting to drive"
      ]
    },
    {
      "cell_type": "code",
      "metadata": {
        "id": "k_fK6UaVrkcG"
      },
      "source": [
        "!pip install tld\n",
        "!pip install pyarrow\n",
        "!pip install Wikidata\n",
        "!pip install aspect_based_sentiment_analysis"
      ],
      "execution_count": null,
      "outputs": []
    },
    {
      "cell_type": "code",
      "metadata": {
        "colab": {
          "base_uri": "https://localhost:8080/"
        },
        "id": "SfD2Porh5YGV",
        "outputId": "9cb70b94-c85c-42ab-f6bd-dfa374874f65"
      },
      "source": [
        "import numpy as np \n",
        "import pandas as pd\n",
        "import matplotlib.pyplot as plt \n",
        "import json\n",
        "import os\n",
        "import bz2\n",
        "import itertools \n",
        "\n",
        "# Import NLP library\n",
        "import aspect_based_sentiment_analysis as absa\n",
        "nlp = absa.load()\n",
        "\n",
        "from google.colab import drive\n",
        "drive.mount('/content/drive')\n",
        "\n",
        "from wikidata.client import Client\n",
        "wiki_client = Client()"
      ],
      "execution_count": null,
      "outputs": [
        {
          "name": "stderr",
          "output_type": "stream",
          "text": [
            "Some layers from the model checkpoint at absa/classifier-rest-0.2 were not used when initializing BertABSClassifier: ['dropout_379']\n",
            "- This IS expected if you are initializing BertABSClassifier from the checkpoint of a model trained on another task or with another architecture (e.g. initializing a BertForSequenceClassification model from a BertForPreTraining model).\n",
            "- This IS NOT expected if you are initializing BertABSClassifier from the checkpoint of a model that you expect to be exactly identical (initializing a BertForSequenceClassification model from a BertForSequenceClassification model).\n",
            "Some layers of BertABSClassifier were not initialized from the model checkpoint at absa/classifier-rest-0.2 and are newly initialized: ['dropout_37']\n",
            "You should probably TRAIN this model on a down-stream task to be able to use it for predictions and inference.\n"
          ]
        },
        {
          "name": "stdout",
          "output_type": "stream",
          "text": [
            "Drive already mounted at /content/drive; to attempt to forcibly remount, call drive.mount(\"/content/drive\", force_remount=True).\n"
          ]
        }
      ]
    },
    {
      "cell_type": "markdown",
      "metadata": {
        "id": "f_NXDgakYc8T"
      },
      "source": [
        "## Load Quotebank and discard 'None' speakers"
      ]
    },
    {
      "cell_type": "code",
      "metadata": {
        "colab": {
          "background_save": true
        },
        "id": "6ntF2MdCAvOM"
      },
      "source": [
        "# Iterate through the years of existing Quotebank files\n",
        "for year in range(2015, 2021):\n",
        "\n",
        "  path_to_file = f'/content/drive/MyDrive/Quotebank/quotes-{year}.json.bz2' \n",
        "  path_to_out = f'/content/drive/MyDrive/Quotebank_limunADA/quotes-no-nones-{year}.json.bz2'\n",
        "\n",
        "  # If it already exists, skip it\n",
        "  if os.path.isfile(path_to_out):\n",
        "    print(f'\\nFile for year {year} already exists. Moving on...')\n",
        "    continue\n",
        "\n",
        "  print(f'\\nExtracting non-None quotations for year {year}')\n",
        "\n",
        "  with bz2.open(path_to_file, 'rb') as s_file:\n",
        "    with bz2.open(path_to_out, 'wb') as d_file:\n",
        "      for instance in s_file:\n",
        "        # loading a sample\n",
        "        instance = json.loads(instance) \n",
        "        \n",
        "        if instance['speaker'] == 'None':\n",
        "          continue\n",
        "\n",
        "        # writing in the new file\n",
        "        d_file.write((json.dumps(instance)+'\\n').encode('utf-8')) "
      ],
      "execution_count": null,
      "outputs": []
    },
    {
      "cell_type": "markdown",
      "metadata": {
        "id": "S6UKKz4GktIt"
      },
      "source": [
        "## Speaker attributes parquet"
      ]
    },
    {
      "cell_type": "code",
      "metadata": {
        "id": "t_ASp9FBzpCX"
      },
      "source": [
        "parquet_path = '/content/drive/MyDrive/Project datasets/speaker_attributes.parquet'\n",
        "speaker_attributes = pd.read_parquet(parquet_path)"
      ],
      "execution_count": null,
      "outputs": []
    },
    {
      "cell_type": "code",
      "metadata": {
        "colab": {
          "base_uri": "https://localhost:8080/",
          "height": 581
        },
        "id": "204qSRlMzpE2",
        "outputId": "dce4ebd9-506a-44c3-de9b-7997bc7aca8c"
      },
      "source": [
        "speaker_attributes.head()"
      ],
      "execution_count": null,
      "outputs": [
        {
          "data": {
            "text/html": [
              "<div>\n",
              "<style scoped>\n",
              "    .dataframe tbody tr th:only-of-type {\n",
              "        vertical-align: middle;\n",
              "    }\n",
              "\n",
              "    .dataframe tbody tr th {\n",
              "        vertical-align: top;\n",
              "    }\n",
              "\n",
              "    .dataframe thead th {\n",
              "        text-align: right;\n",
              "    }\n",
              "</style>\n",
              "<table border=\"1\" class=\"dataframe\">\n",
              "  <thead>\n",
              "    <tr style=\"text-align: right;\">\n",
              "      <th></th>\n",
              "      <th>aliases</th>\n",
              "      <th>date_of_birth</th>\n",
              "      <th>nationality</th>\n",
              "      <th>gender</th>\n",
              "      <th>lastrevid</th>\n",
              "      <th>ethnic_group</th>\n",
              "      <th>US_congress_bio_ID</th>\n",
              "      <th>occupation</th>\n",
              "      <th>party</th>\n",
              "      <th>academic_degree</th>\n",
              "      <th>id</th>\n",
              "      <th>label</th>\n",
              "      <th>candidacy</th>\n",
              "      <th>type</th>\n",
              "      <th>religion</th>\n",
              "    </tr>\n",
              "  </thead>\n",
              "  <tbody>\n",
              "    <tr>\n",
              "      <th>0</th>\n",
              "      <td>[Washington, President Washington, G. Washingt...</td>\n",
              "      <td>[+1732-02-22T00:00:00Z]</td>\n",
              "      <td>[Q161885, Q30]</td>\n",
              "      <td>[Q6581097]</td>\n",
              "      <td>1395141751</td>\n",
              "      <td>None</td>\n",
              "      <td>W000178</td>\n",
              "      <td>[Q82955, Q189290, Q131512, Q1734662, Q294126, ...</td>\n",
              "      <td>[Q327591]</td>\n",
              "      <td>None</td>\n",
              "      <td>Q23</td>\n",
              "      <td>George Washington</td>\n",
              "      <td>[Q698073, Q697949]</td>\n",
              "      <td>item</td>\n",
              "      <td>[Q682443]</td>\n",
              "    </tr>\n",
              "    <tr>\n",
              "      <th>1</th>\n",
              "      <td>[Douglas Noel Adams, Douglas Noël Adams, Dougl...</td>\n",
              "      <td>[+1952-03-11T00:00:00Z]</td>\n",
              "      <td>[Q145]</td>\n",
              "      <td>[Q6581097]</td>\n",
              "      <td>1395737157</td>\n",
              "      <td>[Q7994501]</td>\n",
              "      <td>None</td>\n",
              "      <td>[Q214917, Q28389, Q6625963, Q4853732, Q1884422...</td>\n",
              "      <td>None</td>\n",
              "      <td>None</td>\n",
              "      <td>Q42</td>\n",
              "      <td>Douglas Adams</td>\n",
              "      <td>None</td>\n",
              "      <td>item</td>\n",
              "      <td>None</td>\n",
              "    </tr>\n",
              "    <tr>\n",
              "      <th>2</th>\n",
              "      <td>[Paul Marie Ghislain Otlet, Paul Marie Otlet]</td>\n",
              "      <td>[+1868-08-23T00:00:00Z]</td>\n",
              "      <td>[Q31]</td>\n",
              "      <td>[Q6581097]</td>\n",
              "      <td>1380367296</td>\n",
              "      <td>None</td>\n",
              "      <td>None</td>\n",
              "      <td>[Q36180, Q40348, Q182436, Q1265807, Q205375, Q...</td>\n",
              "      <td>None</td>\n",
              "      <td>None</td>\n",
              "      <td>Q1868</td>\n",
              "      <td>Paul Otlet</td>\n",
              "      <td>None</td>\n",
              "      <td>item</td>\n",
              "      <td>None</td>\n",
              "    </tr>\n",
              "    <tr>\n",
              "      <th>3</th>\n",
              "      <td>[George Walker Bush, Bush Jr., Dubya, GWB, Bus...</td>\n",
              "      <td>[+1946-07-06T00:00:00Z]</td>\n",
              "      <td>[Q30]</td>\n",
              "      <td>[Q6581097]</td>\n",
              "      <td>1395142029</td>\n",
              "      <td>None</td>\n",
              "      <td>None</td>\n",
              "      <td>[Q82955, Q15982858, Q18814623, Q1028181, Q1408...</td>\n",
              "      <td>[Q29468]</td>\n",
              "      <td>None</td>\n",
              "      <td>Q207</td>\n",
              "      <td>George W. Bush</td>\n",
              "      <td>[Q327959, Q464075, Q3586276, Q4450587]</td>\n",
              "      <td>item</td>\n",
              "      <td>[Q329646, Q682443, Q33203]</td>\n",
              "    </tr>\n",
              "    <tr>\n",
              "      <th>4</th>\n",
              "      <td>[Velázquez, Diego Rodríguez de Silva y Velázqu...</td>\n",
              "      <td>[+1599-06-06T00:00:00Z]</td>\n",
              "      <td>[Q29]</td>\n",
              "      <td>[Q6581097]</td>\n",
              "      <td>1391704596</td>\n",
              "      <td>None</td>\n",
              "      <td>None</td>\n",
              "      <td>[Q1028181]</td>\n",
              "      <td>None</td>\n",
              "      <td>None</td>\n",
              "      <td>Q297</td>\n",
              "      <td>Diego Velázquez</td>\n",
              "      <td>None</td>\n",
              "      <td>item</td>\n",
              "      <td>None</td>\n",
              "    </tr>\n",
              "  </tbody>\n",
              "</table>\n",
              "</div>"
            ],
            "text/plain": [
              "                                             aliases  ...                    religion\n",
              "0  [Washington, President Washington, G. Washingt...  ...                   [Q682443]\n",
              "1  [Douglas Noel Adams, Douglas Noël Adams, Dougl...  ...                        None\n",
              "2      [Paul Marie Ghislain Otlet, Paul Marie Otlet]  ...                        None\n",
              "3  [George Walker Bush, Bush Jr., Dubya, GWB, Bus...  ...  [Q329646, Q682443, Q33203]\n",
              "4  [Velázquez, Diego Rodríguez de Silva y Velázqu...  ...                        None\n",
              "\n",
              "[5 rows x 15 columns]"
            ]
          },
          "execution_count": 5,
          "metadata": {},
          "output_type": "execute_result"
        }
      ]
    },
    {
      "cell_type": "markdown",
      "metadata": {
        "id": "O0PWRwvdknRW"
      },
      "source": [
        "## Quotebank samples from 2019"
      ]
    },
    {
      "cell_type": "code",
      "metadata": {
        "id": "e9D7so_kzpIx"
      },
      "source": [
        "quotes_19_sample = pd.read_json(\n",
        "    '/content/drive/MyDrive/quotes-2019-nytimes.json.bz2', \n",
        "    compression='bz2', \n",
        "    lines=True\n",
        "    )"
      ],
      "execution_count": null,
      "outputs": []
    },
    {
      "cell_type": "code",
      "metadata": {
        "colab": {
          "base_uri": "https://localhost:8080/",
          "height": 306
        },
        "id": "JHws6mTL3RNh",
        "outputId": "e4a95be6-0327-4b3f-d27f-0f0e56847d43"
      },
      "source": [
        " quotes_19_sample.head()"
      ],
      "execution_count": null,
      "outputs": [
        {
          "data": {
            "text/html": [
              "<div>\n",
              "<style scoped>\n",
              "    .dataframe tbody tr th:only-of-type {\n",
              "        vertical-align: middle;\n",
              "    }\n",
              "\n",
              "    .dataframe tbody tr th {\n",
              "        vertical-align: top;\n",
              "    }\n",
              "\n",
              "    .dataframe thead th {\n",
              "        text-align: right;\n",
              "    }\n",
              "</style>\n",
              "<table border=\"1\" class=\"dataframe\">\n",
              "  <thead>\n",
              "    <tr style=\"text-align: right;\">\n",
              "      <th></th>\n",
              "      <th>quoteID</th>\n",
              "      <th>quotation</th>\n",
              "      <th>speaker</th>\n",
              "      <th>qids</th>\n",
              "      <th>date</th>\n",
              "      <th>numOccurrences</th>\n",
              "      <th>probas</th>\n",
              "      <th>urls</th>\n",
              "      <th>phase</th>\n",
              "    </tr>\n",
              "  </thead>\n",
              "  <tbody>\n",
              "    <tr>\n",
              "      <th>0</th>\n",
              "      <td>2019-04-17-024782</td>\n",
              "      <td>It is not a low-income immigration,</td>\n",
              "      <td>James Fisher</td>\n",
              "      <td>[Q16213953, Q20707104, Q43143598, Q58886302, Q...</td>\n",
              "      <td>2019-04-17 13:31:18</td>\n",
              "      <td>1</td>\n",
              "      <td>[[James Fisher, 0.7475], [None, 0.2525]]</td>\n",
              "      <td>[https://www.nytimes.com/2019/04/17/realestate...</td>\n",
              "      <td>E</td>\n",
              "    </tr>\n",
              "    <tr>\n",
              "      <th>1</th>\n",
              "      <td>2019-04-02-001128</td>\n",
              "      <td>a champion figure skater switching to roller s...</td>\n",
              "      <td>John Updike</td>\n",
              "      <td>[Q105756]</td>\n",
              "      <td>2019-04-02 14:58:33</td>\n",
              "      <td>2</td>\n",
              "      <td>[[John Updike, 0.5856], [None, 0.4144]]</td>\n",
              "      <td>[https://www.nytimes.com/2019/04/02/opinion/vl...</td>\n",
              "      <td>E</td>\n",
              "    </tr>\n",
              "    <tr>\n",
              "      <th>2</th>\n",
              "      <td>2019-05-09-055187</td>\n",
              "      <td>It makes it much more difficult for him to mak...</td>\n",
              "      <td>None</td>\n",
              "      <td>[]</td>\n",
              "      <td>2019-05-09 18:11:29</td>\n",
              "      <td>1</td>\n",
              "      <td>[[None, 0.6493], [President Bill Clinton, 0.27...</td>\n",
              "      <td>[http://mobile.nytimes.com/2019/05/09/world/as...</td>\n",
              "      <td>E</td>\n",
              "    </tr>\n",
              "    <tr>\n",
              "      <th>3</th>\n",
              "      <td>2019-10-31-056366</td>\n",
              "      <td>It puts me in a predicament,</td>\n",
              "      <td>Xavier Becerra</td>\n",
              "      <td>[Q1855840]</td>\n",
              "      <td>2019-10-31 16:45:15</td>\n",
              "      <td>3</td>\n",
              "      <td>[[Xavier Becerra, 0.9065], [None, 0.0909], [St...</td>\n",
              "      <td>[http://www.nytimes.com/2019/10/31/technology/...</td>\n",
              "      <td>E</td>\n",
              "    </tr>\n",
              "    <tr>\n",
              "      <th>4</th>\n",
              "      <td>2019-01-04-001792</td>\n",
              "      <td>A Pile of Leaves.</td>\n",
              "      <td>None</td>\n",
              "      <td>[]</td>\n",
              "      <td>2019-01-04 10:00:07</td>\n",
              "      <td>1</td>\n",
              "      <td>[[None, 0.8737], [Jason Fulford, 0.1263]]</td>\n",
              "      <td>[https://www.nytimes.com/2019/01/04/books/revi...</td>\n",
              "      <td>E</td>\n",
              "    </tr>\n",
              "  </tbody>\n",
              "</table>\n",
              "</div>"
            ],
            "text/plain": [
              "             quoteID  ... phase\n",
              "0  2019-04-17-024782  ...     E\n",
              "1  2019-04-02-001128  ...     E\n",
              "2  2019-05-09-055187  ...     E\n",
              "3  2019-10-31-056366  ...     E\n",
              "4  2019-01-04-001792  ...     E\n",
              "\n",
              "[5 rows x 9 columns]"
            ]
          },
          "execution_count": 13,
          "metadata": {},
          "output_type": "execute_result"
        }
      ]
    },
    {
      "cell_type": "markdown",
      "metadata": {
        "id": "XE1jfUFylMFr"
      },
      "source": [
        "## Separating Trump quotes from the sample"
      ]
    },
    {
      "cell_type": "code",
      "metadata": {
        "id": "228Dmgl53RP6"
      },
      "source": [
        "TRUMP_ALIASES = ['Donald Trump', 'President Donald Trump', 'President Trump']\n",
        "\n",
        "trump_quotes = quotes_19_sample[\n",
        "  quotes_19_sample.apply(lambda row: row['speaker'] in TRUMP_ALIASES, axis=1)\n",
        "  ]\n"
      ],
      "execution_count": null,
      "outputs": []
    },
    {
      "cell_type": "code",
      "metadata": {
        "colab": {
          "base_uri": "https://localhost:8080/",
          "height": 289
        },
        "id": "tKKqaYhy5B3B",
        "outputId": "49b5cb15-28a8-4656-86b0-9f3d37c16c67"
      },
      "source": [
        "trump_quotes.head()"
      ],
      "execution_count": null,
      "outputs": [
        {
          "data": {
            "text/html": [
              "<div>\n",
              "<style scoped>\n",
              "    .dataframe tbody tr th:only-of-type {\n",
              "        vertical-align: middle;\n",
              "    }\n",
              "\n",
              "    .dataframe tbody tr th {\n",
              "        vertical-align: top;\n",
              "    }\n",
              "\n",
              "    .dataframe thead th {\n",
              "        text-align: right;\n",
              "    }\n",
              "</style>\n",
              "<table border=\"1\" class=\"dataframe\">\n",
              "  <thead>\n",
              "    <tr style=\"text-align: right;\">\n",
              "      <th></th>\n",
              "      <th>quoteID</th>\n",
              "      <th>quotation</th>\n",
              "      <th>speaker</th>\n",
              "      <th>qids</th>\n",
              "      <th>date</th>\n",
              "      <th>numOccurrences</th>\n",
              "      <th>probas</th>\n",
              "      <th>urls</th>\n",
              "      <th>phase</th>\n",
              "    </tr>\n",
              "  </thead>\n",
              "  <tbody>\n",
              "    <tr>\n",
              "      <th>15</th>\n",
              "      <td>2019-02-15-009152</td>\n",
              "      <td>Asylum seekers in Mexico face a heightened ris...</td>\n",
              "      <td>President Donald Trump</td>\n",
              "      <td>[Q22686]</td>\n",
              "      <td>2019-02-15 03:20:00</td>\n",
              "      <td>5</td>\n",
              "      <td>[[President Donald Trump, 0.7752], [None, 0.22...</td>\n",
              "      <td>[http://www.abajournal.com/news/article/lawsui...</td>\n",
              "      <td>E</td>\n",
              "    </tr>\n",
              "    <tr>\n",
              "      <th>202</th>\n",
              "      <td>2019-05-13-016076</td>\n",
              "      <td>Don't forget they're a member of NATO, and a v...</td>\n",
              "      <td>President Donald Trump</td>\n",
              "      <td>[Q22686]</td>\n",
              "      <td>2019-05-13 00:00:00</td>\n",
              "      <td>68</td>\n",
              "      <td>[[President Donald Trump, 0.6683], [None, 0.23...</td>\n",
              "      <td>[http://kazu.org/post/trump-greets-hungarys-ha...</td>\n",
              "      <td>E</td>\n",
              "    </tr>\n",
              "    <tr>\n",
              "      <th>244</th>\n",
              "      <td>2019-08-25-016871</td>\n",
              "      <td>I think it's a positive. Other people agree wi...</td>\n",
              "      <td>President Donald Trump</td>\n",
              "      <td>[Q22686]</td>\n",
              "      <td>2019-08-25 23:19:22</td>\n",
              "      <td>7</td>\n",
              "      <td>[[President Donald Trump, 0.6994], [None, 0.15...</td>\n",
              "      <td>[http://www.nytimes.com/2019/08/25/world/europ...</td>\n",
              "      <td>E</td>\n",
              "    </tr>\n",
              "    <tr>\n",
              "      <th>254</th>\n",
              "      <td>2019-08-31-024043</td>\n",
              "      <td>In other words, they're running badly and they...</td>\n",
              "      <td>President Donald Trump</td>\n",
              "      <td>[Q22686]</td>\n",
              "      <td>2019-08-31 00:21:27</td>\n",
              "      <td>2</td>\n",
              "      <td>[[President Donald Trump, 0.7363], [None, 0.26...</td>\n",
              "      <td>[http://www.nytimes.com/2019/08/30/us/politics...</td>\n",
              "      <td>E</td>\n",
              "    </tr>\n",
              "    <tr>\n",
              "      <th>255</th>\n",
              "      <td>2019-05-09-051472</td>\n",
              "      <td>In typical fashion, as soon as Trump Park was ...</td>\n",
              "      <td>President Trump</td>\n",
              "      <td>[Q22686]</td>\n",
              "      <td>2019-05-09 09:25:21</td>\n",
              "      <td>1</td>\n",
              "      <td>[[President Trump, 0.6722], [None, 0.3037], [D...</td>\n",
              "      <td>[https://www.nytimes.com/2019/05/09/nyregion/n...</td>\n",
              "      <td>E</td>\n",
              "    </tr>\n",
              "  </tbody>\n",
              "</table>\n",
              "</div>"
            ],
            "text/plain": [
              "               quoteID  ... phase\n",
              "15   2019-02-15-009152  ...     E\n",
              "202  2019-05-13-016076  ...     E\n",
              "244  2019-08-25-016871  ...     E\n",
              "254  2019-08-31-024043  ...     E\n",
              "255  2019-05-09-051472  ...     E\n",
              "\n",
              "[5 rows x 9 columns]"
            ]
          },
          "execution_count": 15,
          "metadata": {},
          "output_type": "execute_result"
        }
      ]
    },
    {
      "cell_type": "markdown",
      "metadata": {
        "id": "UA55xlBwi-AR"
      },
      "source": [
        "## Get quotes mentioning given keywords (Biden in this case)"
      ]
    },
    {
      "cell_type": "code",
      "metadata": {
        "id": "8WblLqzN6m5E"
      },
      "source": [
        "def get_mentions(quotes_df, keyword):\n",
        "  \"\"\" \n",
        "  Returns a DataFrame of quotations containing the keyword in them. \n",
        "  \"\"\"\n",
        "  keyword = keyword.lower()\n",
        "  mentions_bool = quotes_df.apply(\n",
        "      lambda row: keyword in row['quotation'].lower(), axis=1\n",
        "      )\n",
        "  \n",
        "  return quotes_df[mentions_bool]"
      ],
      "execution_count": null,
      "outputs": []
    },
    {
      "cell_type": "code",
      "metadata": {
        "colab": {
          "base_uri": "https://localhost:8080/",
          "height": 289
        },
        "id": "B-rT8mHl7M1q",
        "outputId": "ab79e691-0695-4d69-957c-6027cb54423e"
      },
      "source": [
        "biden_mentions = get_mentions(trump_quotes, 'biden')\n",
        "biden_mentions.head()"
      ],
      "execution_count": null,
      "outputs": [
        {
          "data": {
            "text/html": [
              "<div>\n",
              "<style scoped>\n",
              "    .dataframe tbody tr th:only-of-type {\n",
              "        vertical-align: middle;\n",
              "    }\n",
              "\n",
              "    .dataframe tbody tr th {\n",
              "        vertical-align: top;\n",
              "    }\n",
              "\n",
              "    .dataframe thead th {\n",
              "        text-align: right;\n",
              "    }\n",
              "</style>\n",
              "<table border=\"1\" class=\"dataframe\">\n",
              "  <thead>\n",
              "    <tr style=\"text-align: right;\">\n",
              "      <th></th>\n",
              "      <th>quoteID</th>\n",
              "      <th>quotation</th>\n",
              "      <th>speaker</th>\n",
              "      <th>qids</th>\n",
              "      <th>date</th>\n",
              "      <th>numOccurrences</th>\n",
              "      <th>probas</th>\n",
              "      <th>urls</th>\n",
              "      <th>phase</th>\n",
              "    </tr>\n",
              "  </thead>\n",
              "  <tbody>\n",
              "    <tr>\n",
              "      <th>4302</th>\n",
              "      <td>2019-10-02-015565</td>\n",
              "      <td>China should start an investigation into the B...</td>\n",
              "      <td>President Donald Trump</td>\n",
              "      <td>[Q22686]</td>\n",
              "      <td>2019-10-02 21:33:06</td>\n",
              "      <td>902</td>\n",
              "      <td>[[President Donald Trump, 0.4752], [None, 0.3]...</td>\n",
              "      <td>[https://www.seattletimes.com/nation-world/nat...</td>\n",
              "      <td>E</td>\n",
              "    </tr>\n",
              "    <tr>\n",
              "      <th>5172</th>\n",
              "      <td>2019-09-25-097031</td>\n",
              "      <td>there's a lot of talk about Biden's son....</td>\n",
              "      <td>President Donald Trump</td>\n",
              "      <td>[Q22686]</td>\n",
              "      <td>2019-09-25 00:00:00</td>\n",
              "      <td>167</td>\n",
              "      <td>[[President Donald Trump, 0.6706], [None, 0.23...</td>\n",
              "      <td>[http://dailyherald.com/article/20190925/news/...</td>\n",
              "      <td>E</td>\n",
              "    </tr>\n",
              "    <tr>\n",
              "      <th>11201</th>\n",
              "      <td>2019-09-20-074323</td>\n",
              "      <td>Someone ought to look into Joe Biden.</td>\n",
              "      <td>President Donald Trump</td>\n",
              "      <td>[Q22686]</td>\n",
              "      <td>2019-09-20 00:00:00</td>\n",
              "      <td>65</td>\n",
              "      <td>[[President Donald Trump, 0.5329], [None, 0.24...</td>\n",
              "      <td>[https://www.rawstory.com/2019/09/defiant-trum...</td>\n",
              "      <td>E</td>\n",
              "    </tr>\n",
              "    <tr>\n",
              "      <th>17845</th>\n",
              "      <td>2019-04-16-026156</td>\n",
              "      <td>I believe it will be Crazy Bernie Sanders vs. ...</td>\n",
              "      <td>President Donald Trump</td>\n",
              "      <td>[Q22686]</td>\n",
              "      <td>2019-04-16 00:00:00</td>\n",
              "      <td>14</td>\n",
              "      <td>[[President Donald Trump, 0.5721], [None, 0.32...</td>\n",
              "      <td>[https://www.foxnews.com/politics/trump-bernie...</td>\n",
              "      <td>E</td>\n",
              "    </tr>\n",
              "    <tr>\n",
              "      <th>21544</th>\n",
              "      <td>2019-10-12-037463</td>\n",
              "      <td>quite a bit of background on Hunter Biden from...</td>\n",
              "      <td>Donald Trump</td>\n",
              "      <td>[Q22686, Q27947481]</td>\n",
              "      <td>2019-10-12 01:03:48</td>\n",
              "      <td>2</td>\n",
              "      <td>[[Donald Trump, 0.3729], [Michael Pillsbury, 0...</td>\n",
              "      <td>[http://mobile.nytimes.com/2019/10/11/opinion/...</td>\n",
              "      <td>E</td>\n",
              "    </tr>\n",
              "  </tbody>\n",
              "</table>\n",
              "</div>"
            ],
            "text/plain": [
              "                 quoteID  ... phase\n",
              "4302   2019-10-02-015565  ...     E\n",
              "5172   2019-09-25-097031  ...     E\n",
              "11201  2019-09-20-074323  ...     E\n",
              "17845  2019-04-16-026156  ...     E\n",
              "21544  2019-10-12-037463  ...     E\n",
              "\n",
              "[5 rows x 9 columns]"
            ]
          },
          "execution_count": 18,
          "metadata": {},
          "output_type": "execute_result"
        }
      ]
    },
    {
      "cell_type": "markdown",
      "metadata": {
        "id": "uCcbcNn8nvje"
      },
      "source": [
        "## Add sentiment analysis columns (towards a keyword) to DataFrame"
      ]
    },
    {
      "cell_type": "code",
      "metadata": {
        "id": "OJQOV2rQ-pVS"
      },
      "source": [
        "# Dictionary for mapping sentiment to index, corresponding to \n",
        "# the output of the NLP model from ABSA\n",
        "SENTIMENT_INDEXING = {'neutral': 0, 'negative': 1, 'positive': 2}\n",
        "\n",
        "def add_sentiment_columns(df_original, keyword, nlp_model):\n",
        "  \"\"\" \n",
        "  Function that computes Aspect Based Sentiment Analysis towards the \n",
        "  given keyword, for each quote in the DataFrame.\n",
        "  Also, it adds 3 columns (neutral, negative, positive) to the DataFrame, \n",
        "  containing sentiment scores corresponding to each of the columns.  \n",
        "  \"\"\"\n",
        "  df = df_original.copy()\n",
        "  for sentiment_key in SENTIMENT_INDEXING:\n",
        "    df[sentiment_key] = 0\n",
        "\n",
        "  for ind, row in df.iterrows():\n",
        "    text = row['quotation'].lower()\n",
        "    completed_task = nlp_model(text, aspects=[keyword])\n",
        "    sentiment_scores = completed_task.examples[0].scores \n",
        "\n",
        "    for sentiment_key, sentiment_ind in SENTIMENT_INDEXING.items():\n",
        "      df.loc[ind, sentiment_key] = sentiment_scores[sentiment_ind]\n",
        "\n",
        "  return df"
      ],
      "execution_count": null,
      "outputs": []
    },
    {
      "cell_type": "code",
      "metadata": {
        "colab": {
          "base_uri": "https://localhost:8080/",
          "height": 459
        },
        "id": "gyMu7BmX-3X3",
        "outputId": "41f51eb0-0918-47da-c4d1-ece063722203"
      },
      "source": [
        "biden_sentiment = add_sentiment_columns(biden_mentions, 'biden', nlp)\n",
        "biden_sentiment.head()"
      ],
      "execution_count": null,
      "outputs": [
        {
          "data": {
            "text/html": [
              "<div>\n",
              "<style scoped>\n",
              "    .dataframe tbody tr th:only-of-type {\n",
              "        vertical-align: middle;\n",
              "    }\n",
              "\n",
              "    .dataframe tbody tr th {\n",
              "        vertical-align: top;\n",
              "    }\n",
              "\n",
              "    .dataframe thead th {\n",
              "        text-align: right;\n",
              "    }\n",
              "</style>\n",
              "<table border=\"1\" class=\"dataframe\">\n",
              "  <thead>\n",
              "    <tr style=\"text-align: right;\">\n",
              "      <th></th>\n",
              "      <th>quoteID</th>\n",
              "      <th>quotation</th>\n",
              "      <th>speaker</th>\n",
              "      <th>qids</th>\n",
              "      <th>date</th>\n",
              "      <th>numOccurrences</th>\n",
              "      <th>probas</th>\n",
              "      <th>urls</th>\n",
              "      <th>phase</th>\n",
              "      <th>neutral</th>\n",
              "      <th>negative</th>\n",
              "      <th>positive</th>\n",
              "    </tr>\n",
              "  </thead>\n",
              "  <tbody>\n",
              "    <tr>\n",
              "      <th>4302</th>\n",
              "      <td>2019-10-02-015565</td>\n",
              "      <td>China should start an investigation into the B...</td>\n",
              "      <td>President Donald Trump</td>\n",
              "      <td>[Q22686]</td>\n",
              "      <td>2019-10-02 21:33:06</td>\n",
              "      <td>902</td>\n",
              "      <td>[[President Donald Trump, 0.4752], [None, 0.3]...</td>\n",
              "      <td>[https://www.seattletimes.com/nation-world/nat...</td>\n",
              "      <td>E</td>\n",
              "      <td>0.714220</td>\n",
              "      <td>0.164673</td>\n",
              "      <td>0.121108</td>\n",
              "    </tr>\n",
              "    <tr>\n",
              "      <th>5172</th>\n",
              "      <td>2019-09-25-097031</td>\n",
              "      <td>there's a lot of talk about Biden's son....</td>\n",
              "      <td>President Donald Trump</td>\n",
              "      <td>[Q22686]</td>\n",
              "      <td>2019-09-25 00:00:00</td>\n",
              "      <td>167</td>\n",
              "      <td>[[President Donald Trump, 0.6706], [None, 0.23...</td>\n",
              "      <td>[http://dailyherald.com/article/20190925/news/...</td>\n",
              "      <td>E</td>\n",
              "      <td>0.986754</td>\n",
              "      <td>0.005743</td>\n",
              "      <td>0.007503</td>\n",
              "    </tr>\n",
              "    <tr>\n",
              "      <th>11201</th>\n",
              "      <td>2019-09-20-074323</td>\n",
              "      <td>Someone ought to look into Joe Biden.</td>\n",
              "      <td>President Donald Trump</td>\n",
              "      <td>[Q22686]</td>\n",
              "      <td>2019-09-20 00:00:00</td>\n",
              "      <td>65</td>\n",
              "      <td>[[President Donald Trump, 0.5329], [None, 0.24...</td>\n",
              "      <td>[https://www.rawstory.com/2019/09/defiant-trum...</td>\n",
              "      <td>E</td>\n",
              "      <td>0.022231</td>\n",
              "      <td>0.002093</td>\n",
              "      <td>0.975676</td>\n",
              "    </tr>\n",
              "    <tr>\n",
              "      <th>17845</th>\n",
              "      <td>2019-04-16-026156</td>\n",
              "      <td>I believe it will be Crazy Bernie Sanders vs. ...</td>\n",
              "      <td>President Donald Trump</td>\n",
              "      <td>[Q22686]</td>\n",
              "      <td>2019-04-16 00:00:00</td>\n",
              "      <td>14</td>\n",
              "      <td>[[President Donald Trump, 0.5721], [None, 0.32...</td>\n",
              "      <td>[https://www.foxnews.com/politics/trump-bernie...</td>\n",
              "      <td>E</td>\n",
              "      <td>0.165820</td>\n",
              "      <td>0.293936</td>\n",
              "      <td>0.540244</td>\n",
              "    </tr>\n",
              "    <tr>\n",
              "      <th>21544</th>\n",
              "      <td>2019-10-12-037463</td>\n",
              "      <td>quite a bit of background on Hunter Biden from...</td>\n",
              "      <td>Donald Trump</td>\n",
              "      <td>[Q22686, Q27947481]</td>\n",
              "      <td>2019-10-12 01:03:48</td>\n",
              "      <td>2</td>\n",
              "      <td>[[Donald Trump, 0.3729], [Michael Pillsbury, 0...</td>\n",
              "      <td>[http://mobile.nytimes.com/2019/10/11/opinion/...</td>\n",
              "      <td>E</td>\n",
              "      <td>0.032083</td>\n",
              "      <td>0.003521</td>\n",
              "      <td>0.964396</td>\n",
              "    </tr>\n",
              "  </tbody>\n",
              "</table>\n",
              "</div>"
            ],
            "text/plain": [
              "                 quoteID  ...  positive\n",
              "4302   2019-10-02-015565  ...  0.121108\n",
              "5172   2019-09-25-097031  ...  0.007503\n",
              "11201  2019-09-20-074323  ...  0.975676\n",
              "17845  2019-04-16-026156  ...  0.540244\n",
              "21544  2019-10-12-037463  ...  0.964396\n",
              "\n",
              "[5 rows x 12 columns]"
            ]
          },
          "execution_count": 21,
          "metadata": {},
          "output_type": "execute_result"
        }
      ]
    },
    {
      "cell_type": "code",
      "metadata": {
        "colab": {
          "base_uri": "https://localhost:8080/"
        },
        "id": "BoaiCG3IBisX",
        "outputId": "87486ced-024e-437e-f566-e5d60a677d6a"
      },
      "source": [
        "biden_sentiment.sort_values('negative', ascending=False, inplace=True)\n",
        "\n",
        "examples_number = 5\n",
        "for cnt, (ind, row) in enumerate(biden_sentiment.iterrows()):\n",
        "  if cnt == examples_number:\n",
        "    break\n",
        "    \n",
        "  print(f\"\\n\\nNEGATIVE SCORE: {row['negative']}\")\n",
        "  print(f\"POSITIVE SCORE: {row['positive']}\")\n",
        "  print(f\"NEUTRAL SCORE: {row['neutral']}\")\n",
        "\n",
        "  print(row['quotation'])"
      ],
      "execution_count": null,
      "outputs": [
        {
          "name": "stdout",
          "output_type": "stream",
          "text": [
            "\n",
            "\n",
            "NEGATIVE SCORE: 0.9939144253730774\n",
            "POSITIVE SCORE: 0.003951252903789282\n",
            "NEUTRAL SCORE: 0.002134413458406925\n",
            "Joe Biden was a disaster,\n",
            "\n",
            "\n",
            "NEGATIVE SCORE: 0.9912710189819336\n",
            "POSITIVE SCORE: 0.0073827290907502174\n",
            "NEUTRAL SCORE: 0.001346296863630414\n",
            "What Biden did is a disgrace. What his son did is a disgrace,\n",
            "\n",
            "\n",
            "NEGATIVE SCORE: 0.9894962906837463\n",
            "POSITIVE SCORE: 0.008044823072850704\n",
            "NEUTRAL SCORE: 0.002458946080878377\n",
            "Biden was never very smart. He was a terrible student. His gaffes are unbelievable. When I say something that you might think is a gaffe, it's on purpose; it's not a gaffe. When Biden say something dumb, it's because he's dumb.\n",
            "\n",
            "\n",
            "NEGATIVE SCORE: 0.9756239652633667\n",
            "POSITIVE SCORE: 0.00740540586411953\n",
            "NEUTRAL SCORE: 0.016970649361610413\n",
            "that Biden stopped the prosecution and a lot of people want to find out about that.\n",
            "\n",
            "\n",
            "NEGATIVE SCORE: 0.9736927151679993\n",
            "POSITIVE SCORE: 0.004033029079437256\n",
            "NEUTRAL SCORE: 0.02227422408759594\n",
            "I don't know what the hell happened to Biden - that doesn't look like the guy I knew,\n"
          ]
        }
      ]
    },
    {
      "cell_type": "markdown",
      "metadata": {
        "id": "YBttrvKrVktZ"
      },
      "source": [
        "## Wikidata Python API\n",
        "\n",
        "### Extracting a set of QIDs from a given column "
      ]
    },
    {
      "cell_type": "code",
      "metadata": {
        "id": "mti3EKE4speJ"
      },
      "source": [
        "def get_qid_set(df, column_name, num_of_rows=None):\n",
        "  \"\"\" \n",
        "  Given a DataFrame and column name, returns a set of QIDs in it. \n",
        "  \"\"\"\n",
        "  if num_of_rows is None:\n",
        "    num_of_rows = len(df[column_name])\n",
        "\n",
        "  # Join QIDs of each row (list -> string) to avoid working with np.array\n",
        "  joint_qids_list = df[column_name].head(num_of_rows).to_frame().apply(\n",
        "    lambda row: '' if row[0] is None else ','.join(row[0]), axis=1\n",
        "    ).unique()\n",
        "\n",
        "  # Iterate through the joint QIDs, split them, and add them to a set\n",
        "  qids_set = set()\n",
        "  for curr_joint_qids in joint_qids_list:\n",
        "    for qid in curr_joint_qids.split(','):\n",
        "      if not qid == '':\n",
        "        qids_set.add(qid)\n",
        "\n",
        "  return qids_set\n",
        "\n",
        "\n",
        "\n",
        "def map_qids_to_labels(qids, wiki_client):\n",
        "  \"\"\"\n",
        "  Given a set or list of QIDs, return a dictionary of format: {QID: label}\n",
        "  We get the labels for each QID using the Wikidata client.\n",
        "  \"\"\"\n",
        "  qids_labels_dict = dict()\n",
        "  for qid in qids:\n",
        "    try:\n",
        "      # Multilingual to basic string\n",
        "      qids_labels_dict[qid] = str(wiki_client.get(qid, load=True).label)\n",
        "    except Exception:\n",
        "      # In case the QID doesn't exist on Wikidata\n",
        "      print(f'Problem with {qid}. Skipping...')\n",
        "\n",
        "  return qids_labels_dict \n"
      ],
      "execution_count": null,
      "outputs": []
    },
    {
      "cell_type": "markdown",
      "metadata": {
        "id": "E2oH8tTE3X4B"
      },
      "source": [
        "### Get **genders** QID-label mapping"
      ]
    },
    {
      "cell_type": "code",
      "metadata": {
        "colab": {
          "base_uri": "https://localhost:8080/"
        },
        "id": "7UJLs-98zJUV",
        "outputId": "0ad209d7-7344-4540-88a7-271348af0278"
      },
      "source": [
        "print('Getting QIDs set')\n",
        "gender_qids = get_qid_set(speaker_attributes, 'gender')\n",
        "\n",
        "print('Getting labels from Wikidata')\n",
        "gender_label_dict = map_qids_to_labels(gender_qids, wiki_client)\n",
        "\n",
        "dict(itertools.islice(gender_label_dict.items(), 10))\n"
      ],
      "execution_count": 108,
      "outputs": [
        {
          "output_type": "execute_result",
          "data": {
            "text/plain": [
              "{'Q106299064': 'Erkek',\n",
              " 'Q1289754': 'neutrois',\n",
              " 'Q15145782': 'transgender female',\n",
              " 'Q1775415': 'feminine',\n",
              " 'Q18116794': 'genderfluid',\n",
              " 'Q189125': 'transgender person',\n",
              " 'Q207959': 'androgyny',\n",
              " 'Q301702': 'two-spirit',\n",
              " 'Q505371': 'agender',\n",
              " 'Q6636': 'homosexuality'}"
            ]
          },
          "metadata": {},
          "execution_count": 108
        }
      ]
    },
    {
      "cell_type": "code",
      "metadata": {
        "id": "Y_ofGSr74fNz"
      },
      "source": [
        "OVERWRITE_EXISTING = False\n",
        "\n",
        "# Save the mapping\n",
        "genders_save_path = '/content/drive/MyDrive/Quotebank_limunADA/genders_qids_labels.json'\n",
        "\n",
        "if OVERWRITE_EXISTING or not os.path.isfile(genders_save_path):\n",
        "  with open(, 'w') as f:\n",
        "      json.dump(gender_label_dict, f)"
      ],
      "execution_count": null,
      "outputs": []
    },
    {
      "cell_type": "markdown",
      "metadata": {
        "id": "05-1E9SRwnjU"
      },
      "source": [
        "### Get **occupations** QID-label mapping"
      ]
    },
    {
      "cell_type": "code",
      "metadata": {
        "colab": {
          "base_uri": "https://localhost:8080/"
        },
        "id": "4diC143dm-El",
        "outputId": "8c69f2c0-bb17-4a7f-beff-f5242cb27b08"
      },
      "source": [
        "print('Getting QIDs set')\n",
        "occupation_qids = get_qid_set(speaker_attributes, 'occupation')\n",
        "\n",
        "print('Getting labels from Wikidata')\n",
        "occupation_label_dict = map_qids_to_labels(occupation_qids, wiki_client)\n",
        "\n",
        "dict(itertools.islice(occupation_label_dict.items(), 10))\n"
      ],
      "execution_count": 109,
      "outputs": [
        {
          "output_type": "execute_result",
          "data": {
            "text/plain": [
              "{'Q11124885': 'martial artist',\n",
              " 'Q1157586': 'Daijō-daijin',\n",
              " 'Q1241157': 'Freedom Fighters',\n",
              " 'Q35377': 'Efik',\n",
              " 'Q4892566': 'Celedon',\n",
              " 'Q59314023': 'Knight Hospitaller',\n",
              " 'Q62116991': 'environmental toxicologist',\n",
              " 'Q66363203': 'art photographer',\n",
              " 'Q690928': 'Schultheiß',\n",
              " 'Q97768332': 'anciens ouvriers'}"
            ]
          },
          "metadata": {},
          "execution_count": 109
        }
      ]
    },
    {
      "cell_type": "code",
      "metadata": {
        "id": "naYHPlAA63r5"
      },
      "source": [
        "OVERWRITE_EXISTING = False\n",
        "\n",
        "# Save the mapping\n",
        "occupations_save_path = '/content/drive/MyDrive/Quotebank_limunADA/occupations_qids_labels.json'\n",
        "\n",
        "if OVERWRITE_EXISTING or not os.path.isfile(occupations_save_path):\n",
        "  with open(occupations_save_path, 'w') as f:\n",
        "      json.dump(occupation_label_dict, f)"
      ],
      "execution_count": 97,
      "outputs": []
    },
    {
      "cell_type": "markdown",
      "metadata": {
        "id": "rsngB7bYwrvX"
      },
      "source": [
        "### Get **religions** QID-label mapping"
      ]
    },
    {
      "cell_type": "code",
      "metadata": {
        "colab": {
          "base_uri": "https://localhost:8080/"
        },
        "id": "V4-qyjpSpvYZ",
        "outputId": "2ee88029-6311-4f7a-ef4c-a00afd788088"
      },
      "source": [
        "print('Getting QIDs set')\n",
        "religion_qids = get_qid_set(speaker_attributes, 'religion')\n",
        "\n",
        "print('Getting labels from Wikidata')\n",
        "religion_label_dict = map_qids_to_labels(religion_qids, wiki_client)\n",
        "\n",
        "dict(itertools.islice(religion_label_dict.items(), 10))\n"
      ],
      "execution_count": 110,
      "outputs": [
        {
          "output_type": "execute_result",
          "data": {
            "text/plain": [
              "{'Q10452632': 'Church of Christ',\n",
              " 'Q1089816': 'Church of South India',\n",
              " 'Q1258552': 'Celtic Christianity',\n",
              " 'Q2965829': 'Nicene Christianity',\n",
              " 'Q425381': 'Hanif',\n",
              " 'Q5043': 'Christianity',\n",
              " 'Q5883857': 'Holo',\n",
              " 'Q624477': 'Christian Science',\n",
              " 'Q6908412': 'Moorish Orthodox Church of America',\n",
              " 'Q910556': 'Brethren in Christ Church'}"
            ]
          },
          "metadata": {},
          "execution_count": 110
        }
      ]
    },
    {
      "cell_type": "code",
      "metadata": {
        "id": "8_z4zazdPWco"
      },
      "source": [
        "OVERWRITE_EXISTING = False\n",
        "\n",
        "# Save the mapping\n",
        "religions_save_path = '/content/drive/MyDrive/Quotebank_limunADA/religions_qids_labels.json'\n",
        "\n",
        "if OVERWRITE_EXISTING or not os.path.isfile(religions_save_path):\n",
        "  with open(religions_save_path, 'w') as f:\n",
        "      json.dump(religion_label_dict, f)"
      ],
      "execution_count": 99,
      "outputs": []
    },
    {
      "cell_type": "markdown",
      "metadata": {
        "id": "SZljobuxwusv"
      },
      "source": [
        "### Get **nationality** QID-label mapping"
      ]
    },
    {
      "cell_type": "code",
      "metadata": {
        "id": "bvd0NdYVq6MQ",
        "colab": {
          "base_uri": "https://localhost:8080/"
        },
        "outputId": "fc1f550a-797f-4654-ce23-9615f8db820a"
      },
      "source": [
        "print('Getting QIDs set')\n",
        "nationality_qids = get_qid_set(speaker_attributes, 'nationality')\n",
        "\n",
        "print('Getting labels from Wikidata')\n",
        "nationality_label_dict = map_qids_to_labels(nationality_qids, wiki_client)\n",
        "\n",
        "dict(itertools.islice(nationality_label_dict.items(), 10))\n"
      ],
      "execution_count": 111,
      "outputs": [
        {
          "output_type": "execute_result",
          "data": {
            "text/plain": [
              "{'Q109128': 'Gwynedd',\n",
              " 'Q140472': 'Silesians',\n",
              " 'Q1443132': 'Kalaureia',\n",
              " 'Q178630': 'Portuguese',\n",
              " 'Q218': 'Romania',\n",
              " 'Q284964': 'Cao',\n",
              " 'Q414': 'Argentina',\n",
              " 'Q63158027': 'Qajar Iran',\n",
              " 'Q639100': 'Principality of Reuss-Gera',\n",
              " 'Q6714285': 'MAM'}"
            ]
          },
          "metadata": {},
          "execution_count": 111
        }
      ]
    },
    {
      "cell_type": "code",
      "metadata": {
        "id": "CD4z5c_t68yi"
      },
      "source": [
        "OVERWRITE_EXISTING = False\n",
        "\n",
        "# Save the mapping\n",
        "nationality_save_path = '/content/drive/MyDrive/Quotebank_limunADA/nationalities_qids_labels.json'\n",
        "\n",
        "if OVERWRITE_EXISTING or not os.path.isfile(nationality_save_path):\n",
        "  with open(nationality_save_path, 'w') as f:\n",
        "      json.dump(nationality_label_dict, f)"
      ],
      "execution_count": 101,
      "outputs": []
    }
  ]
}