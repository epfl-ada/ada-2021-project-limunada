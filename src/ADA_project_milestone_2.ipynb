{
  "nbformat": 4,
  "nbformat_minor": 0,
  "metadata": {
    "colab": {
      "name": "ADA_project_milestone_2",
      "provenance": [],
      "collapsed_sections": []
    },
    "kernelspec": {
      "display_name": "Python 3",
      "name": "python3"
    }
  },
  "cells": [
    {
      "cell_type": "markdown",
      "metadata": {
        "id": "I26btByJ57tw"
      },
      "source": [
        "# ToDo\n",
        "\n",
        "* map speaker attribute entries from Qids to meaningful labels\n",
        "  * save all dictionaries as JSONs\n",
        "\n",
        "* Jana - loading Quotebank per year, discarding None speakers, saving as JSON\n"
      ]
    },
    {
      "cell_type": "markdown",
      "metadata": {
        "id": "bbUCbI8orIeL"
      },
      "source": [
        "## Mounting to drive + loading Quotebank"
      ]
    },
    {
      "cell_type": "code",
      "metadata": {
        "colab": {
          "base_uri": "https://localhost:8080/"
        },
        "id": "k_fK6UaVrkcG",
        "outputId": "86d82b46-21c7-49cb-f803-018e046cb0f7"
      },
      "source": [
        "!pip install tld\n",
        "!pip install pyarrow"
      ],
      "execution_count": 2,
      "outputs": [
        {
          "output_type": "stream",
          "name": "stdout",
          "text": [
            "Requirement already satisfied: tld in /usr/local/lib/python3.7/dist-packages (0.12.6)\n",
            "Requirement already satisfied: pyarrow in /usr/local/lib/python3.7/dist-packages (3.0.0)\n",
            "Requirement already satisfied: numpy>=1.16.6 in /usr/local/lib/python3.7/dist-packages (from pyarrow) (1.19.5)\n"
          ]
        }
      ]
    },
    {
      "cell_type": "code",
      "metadata": {
        "colab": {
          "base_uri": "https://localhost:8080/"
        },
        "id": "SfD2Porh5YGV",
        "outputId": "b1e5a1d2-2248-48fc-bcf9-5fecf638fc06"
      },
      "source": [
        "import numpy as np \n",
        "import pandas as pd\n",
        "import matplotlib.pyplot as plt \n",
        "import json\n",
        "\n",
        "from google.colab import drive\n",
        "drive.mount('/content/drive')\n",
        "\n",
        "from wikidata.client import Client\n",
        "client = Client()"
      ],
      "execution_count": 49,
      "outputs": [
        {
          "output_type": "stream",
          "name": "stdout",
          "text": [
            "Drive already mounted at /content/drive; to attempt to forcibly remount, call drive.mount(\"/content/drive\", force_remount=True).\n"
          ]
        }
      ]
    },
    {
      "cell_type": "markdown",
      "metadata": {
        "id": "S6UKKz4GktIt"
      },
      "source": [
        "## Speaker attributes parquet"
      ]
    },
    {
      "cell_type": "code",
      "metadata": {
        "id": "t_ASp9FBzpCX"
      },
      "source": [
        "parquet_path = '/content/drive/MyDrive/Project datasets/speaker_attributes.parquet'\n",
        "speaker_attributes = pd.read_parquet(parquet_path)"
      ],
      "execution_count": 3,
      "outputs": []
    },
    {
      "cell_type": "code",
      "metadata": {
        "colab": {
          "base_uri": "https://localhost:8080/",
          "height": 581
        },
        "id": "204qSRlMzpE2",
        "outputId": "54daebed-2dd4-4810-8952-b67326c7ca7d"
      },
      "source": [
        "speaker_attributes.head()"
      ],
      "execution_count": 4,
      "outputs": [
        {
          "output_type": "execute_result",
          "data": {
            "text/html": [
              "<div>\n",
              "<style scoped>\n",
              "    .dataframe tbody tr th:only-of-type {\n",
              "        vertical-align: middle;\n",
              "    }\n",
              "\n",
              "    .dataframe tbody tr th {\n",
              "        vertical-align: top;\n",
              "    }\n",
              "\n",
              "    .dataframe thead th {\n",
              "        text-align: right;\n",
              "    }\n",
              "</style>\n",
              "<table border=\"1\" class=\"dataframe\">\n",
              "  <thead>\n",
              "    <tr style=\"text-align: right;\">\n",
              "      <th></th>\n",
              "      <th>aliases</th>\n",
              "      <th>date_of_birth</th>\n",
              "      <th>nationality</th>\n",
              "      <th>gender</th>\n",
              "      <th>lastrevid</th>\n",
              "      <th>ethnic_group</th>\n",
              "      <th>US_congress_bio_ID</th>\n",
              "      <th>occupation</th>\n",
              "      <th>party</th>\n",
              "      <th>academic_degree</th>\n",
              "      <th>id</th>\n",
              "      <th>label</th>\n",
              "      <th>candidacy</th>\n",
              "      <th>type</th>\n",
              "      <th>religion</th>\n",
              "    </tr>\n",
              "  </thead>\n",
              "  <tbody>\n",
              "    <tr>\n",
              "      <th>0</th>\n",
              "      <td>[Washington, President Washington, G. Washingt...</td>\n",
              "      <td>[+1732-02-22T00:00:00Z]</td>\n",
              "      <td>[Q161885, Q30]</td>\n",
              "      <td>[Q6581097]</td>\n",
              "      <td>1395141751</td>\n",
              "      <td>None</td>\n",
              "      <td>W000178</td>\n",
              "      <td>[Q82955, Q189290, Q131512, Q1734662, Q294126, ...</td>\n",
              "      <td>[Q327591]</td>\n",
              "      <td>None</td>\n",
              "      <td>Q23</td>\n",
              "      <td>George Washington</td>\n",
              "      <td>[Q698073, Q697949]</td>\n",
              "      <td>item</td>\n",
              "      <td>[Q682443]</td>\n",
              "    </tr>\n",
              "    <tr>\n",
              "      <th>1</th>\n",
              "      <td>[Douglas Noel Adams, Douglas Noël Adams, Dougl...</td>\n",
              "      <td>[+1952-03-11T00:00:00Z]</td>\n",
              "      <td>[Q145]</td>\n",
              "      <td>[Q6581097]</td>\n",
              "      <td>1395737157</td>\n",
              "      <td>[Q7994501]</td>\n",
              "      <td>None</td>\n",
              "      <td>[Q214917, Q28389, Q6625963, Q4853732, Q1884422...</td>\n",
              "      <td>None</td>\n",
              "      <td>None</td>\n",
              "      <td>Q42</td>\n",
              "      <td>Douglas Adams</td>\n",
              "      <td>None</td>\n",
              "      <td>item</td>\n",
              "      <td>None</td>\n",
              "    </tr>\n",
              "    <tr>\n",
              "      <th>2</th>\n",
              "      <td>[Paul Marie Ghislain Otlet, Paul Marie Otlet]</td>\n",
              "      <td>[+1868-08-23T00:00:00Z]</td>\n",
              "      <td>[Q31]</td>\n",
              "      <td>[Q6581097]</td>\n",
              "      <td>1380367296</td>\n",
              "      <td>None</td>\n",
              "      <td>None</td>\n",
              "      <td>[Q36180, Q40348, Q182436, Q1265807, Q205375, Q...</td>\n",
              "      <td>None</td>\n",
              "      <td>None</td>\n",
              "      <td>Q1868</td>\n",
              "      <td>Paul Otlet</td>\n",
              "      <td>None</td>\n",
              "      <td>item</td>\n",
              "      <td>None</td>\n",
              "    </tr>\n",
              "    <tr>\n",
              "      <th>3</th>\n",
              "      <td>[George Walker Bush, Bush Jr., Dubya, GWB, Bus...</td>\n",
              "      <td>[+1946-07-06T00:00:00Z]</td>\n",
              "      <td>[Q30]</td>\n",
              "      <td>[Q6581097]</td>\n",
              "      <td>1395142029</td>\n",
              "      <td>None</td>\n",
              "      <td>None</td>\n",
              "      <td>[Q82955, Q15982858, Q18814623, Q1028181, Q1408...</td>\n",
              "      <td>[Q29468]</td>\n",
              "      <td>None</td>\n",
              "      <td>Q207</td>\n",
              "      <td>George W. Bush</td>\n",
              "      <td>[Q327959, Q464075, Q3586276, Q4450587]</td>\n",
              "      <td>item</td>\n",
              "      <td>[Q329646, Q682443, Q33203]</td>\n",
              "    </tr>\n",
              "    <tr>\n",
              "      <th>4</th>\n",
              "      <td>[Velázquez, Diego Rodríguez de Silva y Velázqu...</td>\n",
              "      <td>[+1599-06-06T00:00:00Z]</td>\n",
              "      <td>[Q29]</td>\n",
              "      <td>[Q6581097]</td>\n",
              "      <td>1391704596</td>\n",
              "      <td>None</td>\n",
              "      <td>None</td>\n",
              "      <td>[Q1028181]</td>\n",
              "      <td>None</td>\n",
              "      <td>None</td>\n",
              "      <td>Q297</td>\n",
              "      <td>Diego Velázquez</td>\n",
              "      <td>None</td>\n",
              "      <td>item</td>\n",
              "      <td>None</td>\n",
              "    </tr>\n",
              "  </tbody>\n",
              "</table>\n",
              "</div>"
            ],
            "text/plain": [
              "                                             aliases  ...                    religion\n",
              "0  [Washington, President Washington, G. Washingt...  ...                   [Q682443]\n",
              "1  [Douglas Noel Adams, Douglas Noël Adams, Dougl...  ...                        None\n",
              "2      [Paul Marie Ghislain Otlet, Paul Marie Otlet]  ...                        None\n",
              "3  [George Walker Bush, Bush Jr., Dubya, GWB, Bus...  ...  [Q329646, Q682443, Q33203]\n",
              "4  [Velázquez, Diego Rodríguez de Silva y Velázqu...  ...                        None\n",
              "\n",
              "[5 rows x 15 columns]"
            ]
          },
          "metadata": {},
          "execution_count": 4
        }
      ]
    },
    {
      "cell_type": "markdown",
      "metadata": {
        "id": "O0PWRwvdknRW"
      },
      "source": [
        "## Quotebank samples from 2019"
      ]
    },
    {
      "cell_type": "code",
      "metadata": {
        "id": "e9D7so_kzpIx"
      },
      "source": [
        "quotes_19_sample = pd.read_json(\n",
        "    '/content/drive/MyDrive/quotes-2019-nytimes.json.bz2', \n",
        "    compression='bz2', \n",
        "    lines=True\n",
        "    )"
      ],
      "execution_count": 5,
      "outputs": []
    },
    {
      "cell_type": "code",
      "metadata": {
        "colab": {
          "base_uri": "https://localhost:8080/",
          "height": 306
        },
        "id": "JHws6mTL3RNh",
        "outputId": "dc2d2070-2b5e-464f-9d9d-cbcb8c65b881"
      },
      "source": [
        " quotes_19_sample.head()"
      ],
      "execution_count": 6,
      "outputs": [
        {
          "output_type": "execute_result",
          "data": {
            "text/html": [
              "<div>\n",
              "<style scoped>\n",
              "    .dataframe tbody tr th:only-of-type {\n",
              "        vertical-align: middle;\n",
              "    }\n",
              "\n",
              "    .dataframe tbody tr th {\n",
              "        vertical-align: top;\n",
              "    }\n",
              "\n",
              "    .dataframe thead th {\n",
              "        text-align: right;\n",
              "    }\n",
              "</style>\n",
              "<table border=\"1\" class=\"dataframe\">\n",
              "  <thead>\n",
              "    <tr style=\"text-align: right;\">\n",
              "      <th></th>\n",
              "      <th>quoteID</th>\n",
              "      <th>quotation</th>\n",
              "      <th>speaker</th>\n",
              "      <th>qids</th>\n",
              "      <th>date</th>\n",
              "      <th>numOccurrences</th>\n",
              "      <th>probas</th>\n",
              "      <th>urls</th>\n",
              "      <th>phase</th>\n",
              "    </tr>\n",
              "  </thead>\n",
              "  <tbody>\n",
              "    <tr>\n",
              "      <th>0</th>\n",
              "      <td>2019-04-17-024782</td>\n",
              "      <td>It is not a low-income immigration,</td>\n",
              "      <td>James Fisher</td>\n",
              "      <td>[Q16213953, Q20707104, Q43143598, Q58886302, Q...</td>\n",
              "      <td>2019-04-17 13:31:18</td>\n",
              "      <td>1</td>\n",
              "      <td>[[James Fisher, 0.7475], [None, 0.2525]]</td>\n",
              "      <td>[https://www.nytimes.com/2019/04/17/realestate...</td>\n",
              "      <td>E</td>\n",
              "    </tr>\n",
              "    <tr>\n",
              "      <th>1</th>\n",
              "      <td>2019-04-02-001128</td>\n",
              "      <td>a champion figure skater switching to roller s...</td>\n",
              "      <td>John Updike</td>\n",
              "      <td>[Q105756]</td>\n",
              "      <td>2019-04-02 14:58:33</td>\n",
              "      <td>2</td>\n",
              "      <td>[[John Updike, 0.5856], [None, 0.4144]]</td>\n",
              "      <td>[https://www.nytimes.com/2019/04/02/opinion/vl...</td>\n",
              "      <td>E</td>\n",
              "    </tr>\n",
              "    <tr>\n",
              "      <th>2</th>\n",
              "      <td>2019-05-09-055187</td>\n",
              "      <td>It makes it much more difficult for him to mak...</td>\n",
              "      <td>None</td>\n",
              "      <td>[]</td>\n",
              "      <td>2019-05-09 18:11:29</td>\n",
              "      <td>1</td>\n",
              "      <td>[[None, 0.6493], [President Bill Clinton, 0.27...</td>\n",
              "      <td>[http://mobile.nytimes.com/2019/05/09/world/as...</td>\n",
              "      <td>E</td>\n",
              "    </tr>\n",
              "    <tr>\n",
              "      <th>3</th>\n",
              "      <td>2019-10-31-056366</td>\n",
              "      <td>It puts me in a predicament,</td>\n",
              "      <td>Xavier Becerra</td>\n",
              "      <td>[Q1855840]</td>\n",
              "      <td>2019-10-31 16:45:15</td>\n",
              "      <td>3</td>\n",
              "      <td>[[Xavier Becerra, 0.9065], [None, 0.0909], [St...</td>\n",
              "      <td>[http://www.nytimes.com/2019/10/31/technology/...</td>\n",
              "      <td>E</td>\n",
              "    </tr>\n",
              "    <tr>\n",
              "      <th>4</th>\n",
              "      <td>2019-01-04-001792</td>\n",
              "      <td>A Pile of Leaves.</td>\n",
              "      <td>None</td>\n",
              "      <td>[]</td>\n",
              "      <td>2019-01-04 10:00:07</td>\n",
              "      <td>1</td>\n",
              "      <td>[[None, 0.8737], [Jason Fulford, 0.1263]]</td>\n",
              "      <td>[https://www.nytimes.com/2019/01/04/books/revi...</td>\n",
              "      <td>E</td>\n",
              "    </tr>\n",
              "  </tbody>\n",
              "</table>\n",
              "</div>"
            ],
            "text/plain": [
              "             quoteID  ... phase\n",
              "0  2019-04-17-024782  ...     E\n",
              "1  2019-04-02-001128  ...     E\n",
              "2  2019-05-09-055187  ...     E\n",
              "3  2019-10-31-056366  ...     E\n",
              "4  2019-01-04-001792  ...     E\n",
              "\n",
              "[5 rows x 9 columns]"
            ]
          },
          "metadata": {},
          "execution_count": 6
        }
      ]
    },
    {
      "cell_type": "markdown",
      "metadata": {
        "id": "XE1jfUFylMFr"
      },
      "source": [
        "## Separating Trump quotes from the sample"
      ]
    },
    {
      "cell_type": "code",
      "metadata": {
        "id": "228Dmgl53RP6"
      },
      "source": [
        "TRUMP_ALIASES = ['Donald Trump', 'President Donald Trump', 'President Trump']\n",
        "\n",
        "trump_quotes = quotes_19_sample[\n",
        "  quotes_19_sample.apply(lambda row: row['speaker'] in TRUMP_ALIASES, axis=1)\n",
        "  ]\n"
      ],
      "execution_count": 9,
      "outputs": []
    },
    {
      "cell_type": "code",
      "metadata": {
        "colab": {
          "base_uri": "https://localhost:8080/",
          "height": 289
        },
        "id": "tKKqaYhy5B3B",
        "outputId": "b7e09125-593c-4ca5-e7f9-a443e2b1e829"
      },
      "source": [
        "trump_quotes.head()"
      ],
      "execution_count": 10,
      "outputs": [
        {
          "output_type": "execute_result",
          "data": {
            "text/html": [
              "<div>\n",
              "<style scoped>\n",
              "    .dataframe tbody tr th:only-of-type {\n",
              "        vertical-align: middle;\n",
              "    }\n",
              "\n",
              "    .dataframe tbody tr th {\n",
              "        vertical-align: top;\n",
              "    }\n",
              "\n",
              "    .dataframe thead th {\n",
              "        text-align: right;\n",
              "    }\n",
              "</style>\n",
              "<table border=\"1\" class=\"dataframe\">\n",
              "  <thead>\n",
              "    <tr style=\"text-align: right;\">\n",
              "      <th></th>\n",
              "      <th>quoteID</th>\n",
              "      <th>quotation</th>\n",
              "      <th>speaker</th>\n",
              "      <th>qids</th>\n",
              "      <th>date</th>\n",
              "      <th>numOccurrences</th>\n",
              "      <th>probas</th>\n",
              "      <th>urls</th>\n",
              "      <th>phase</th>\n",
              "    </tr>\n",
              "  </thead>\n",
              "  <tbody>\n",
              "    <tr>\n",
              "      <th>15</th>\n",
              "      <td>2019-02-15-009152</td>\n",
              "      <td>Asylum seekers in Mexico face a heightened ris...</td>\n",
              "      <td>President Donald Trump</td>\n",
              "      <td>[Q22686]</td>\n",
              "      <td>2019-02-15 03:20:00</td>\n",
              "      <td>5</td>\n",
              "      <td>[[President Donald Trump, 0.7752], [None, 0.22...</td>\n",
              "      <td>[http://www.abajournal.com/news/article/lawsui...</td>\n",
              "      <td>E</td>\n",
              "    </tr>\n",
              "    <tr>\n",
              "      <th>202</th>\n",
              "      <td>2019-05-13-016076</td>\n",
              "      <td>Don't forget they're a member of NATO, and a v...</td>\n",
              "      <td>President Donald Trump</td>\n",
              "      <td>[Q22686]</td>\n",
              "      <td>2019-05-13 00:00:00</td>\n",
              "      <td>68</td>\n",
              "      <td>[[President Donald Trump, 0.6683], [None, 0.23...</td>\n",
              "      <td>[http://kazu.org/post/trump-greets-hungarys-ha...</td>\n",
              "      <td>E</td>\n",
              "    </tr>\n",
              "    <tr>\n",
              "      <th>244</th>\n",
              "      <td>2019-08-25-016871</td>\n",
              "      <td>I think it's a positive. Other people agree wi...</td>\n",
              "      <td>President Donald Trump</td>\n",
              "      <td>[Q22686]</td>\n",
              "      <td>2019-08-25 23:19:22</td>\n",
              "      <td>7</td>\n",
              "      <td>[[President Donald Trump, 0.6994], [None, 0.15...</td>\n",
              "      <td>[http://www.nytimes.com/2019/08/25/world/europ...</td>\n",
              "      <td>E</td>\n",
              "    </tr>\n",
              "    <tr>\n",
              "      <th>254</th>\n",
              "      <td>2019-08-31-024043</td>\n",
              "      <td>In other words, they're running badly and they...</td>\n",
              "      <td>President Donald Trump</td>\n",
              "      <td>[Q22686]</td>\n",
              "      <td>2019-08-31 00:21:27</td>\n",
              "      <td>2</td>\n",
              "      <td>[[President Donald Trump, 0.7363], [None, 0.26...</td>\n",
              "      <td>[http://www.nytimes.com/2019/08/30/us/politics...</td>\n",
              "      <td>E</td>\n",
              "    </tr>\n",
              "    <tr>\n",
              "      <th>255</th>\n",
              "      <td>2019-05-09-051472</td>\n",
              "      <td>In typical fashion, as soon as Trump Park was ...</td>\n",
              "      <td>President Trump</td>\n",
              "      <td>[Q22686]</td>\n",
              "      <td>2019-05-09 09:25:21</td>\n",
              "      <td>1</td>\n",
              "      <td>[[President Trump, 0.6722], [None, 0.3037], [D...</td>\n",
              "      <td>[https://www.nytimes.com/2019/05/09/nyregion/n...</td>\n",
              "      <td>E</td>\n",
              "    </tr>\n",
              "  </tbody>\n",
              "</table>\n",
              "</div>"
            ],
            "text/plain": [
              "               quoteID  ... phase\n",
              "15   2019-02-15-009152  ...     E\n",
              "202  2019-05-13-016076  ...     E\n",
              "244  2019-08-25-016871  ...     E\n",
              "254  2019-08-31-024043  ...     E\n",
              "255  2019-05-09-051472  ...     E\n",
              "\n",
              "[5 rows x 9 columns]"
            ]
          },
          "metadata": {},
          "execution_count": 10
        }
      ]
    },
    {
      "cell_type": "code",
      "metadata": {
        "id": "8WblLqzN6m5E"
      },
      "source": [
        "def get_mentions(quotes_df, keyword):\n",
        "  keyword = keyword.lower()\n",
        "  mentions_bool = quotes_df.apply(\n",
        "      lambda row: keyword in row['quotation'].lower(), axis=1\n",
        "      )\n",
        "  return quotes_df[mentions_bool]"
      ],
      "execution_count": 30,
      "outputs": []
    },
    {
      "cell_type": "code",
      "metadata": {
        "colab": {
          "base_uri": "https://localhost:8080/",
          "height": 181
        },
        "id": "B-rT8mHl7M1q",
        "outputId": "c267d2e8-57fb-49be-ddb7-70a97338ca47"
      },
      "source": [
        "biden_mentions = get_mentions(trump_quotes, 'biden')\n",
        "biden_mentions.head()"
      ],
      "execution_count": 31,
      "outputs": [
        {
          "output_type": "error",
          "ename": "NameError",
          "evalue": "ignored",
          "traceback": [
            "\u001b[0;31m---------------------------------------------------------------------------\u001b[0m",
            "\u001b[0;31mNameError\u001b[0m                                 Traceback (most recent call last)",
            "\u001b[0;32m<ipython-input-31-3aefcc236834>\u001b[0m in \u001b[0;36m<module>\u001b[0;34m()\u001b[0m\n\u001b[0;32m----> 1\u001b[0;31m \u001b[0mbiden_mentions\u001b[0m \u001b[0;34m=\u001b[0m \u001b[0mget_mentions\u001b[0m\u001b[0;34m(\u001b[0m\u001b[0mtrump_quotes\u001b[0m\u001b[0;34m,\u001b[0m \u001b[0;34m'biden'\u001b[0m\u001b[0;34m)\u001b[0m\u001b[0;34m\u001b[0m\u001b[0;34m\u001b[0m\u001b[0m\n\u001b[0m\u001b[1;32m      2\u001b[0m \u001b[0mbiden_mentions\u001b[0m\u001b[0;34m.\u001b[0m\u001b[0mhead\u001b[0m\u001b[0;34m(\u001b[0m\u001b[0;34m)\u001b[0m\u001b[0;34m\u001b[0m\u001b[0;34m\u001b[0m\u001b[0m\n",
            "\u001b[0;31mNameError\u001b[0m: name 'trump_quotes' is not defined"
          ]
        }
      ]
    },
    {
      "cell_type": "code",
      "metadata": {
        "colab": {
          "base_uri": "https://localhost:8080/",
          "height": 52
        },
        "id": "CM-nLwGt7Xfd",
        "outputId": "57343d35-c76b-4d11-a128-f08caa94f85e"
      },
      "source": [
        "biden_mentions.loc[37913, 'quotation']"
      ],
      "execution_count": 59,
      "outputs": [
        {
          "output_type": "execute_result",
          "data": {
            "application/vnd.google.colaboratory.intrinsic+json": {
              "type": "string"
            },
            "text/plain": [
              "\"Biden was never very smart. He was a terrible student. His gaffes are unbelievable. When I say something that you might think is a gaffe, it's on purpose; it's not a gaffe. When Biden say something dumb, it's because he's dumb.\""
            ]
          },
          "metadata": {},
          "execution_count": 59
        }
      ]
    },
    {
      "cell_type": "code",
      "metadata": {
        "id": "G5NDzzKB8Jxj"
      },
      "source": [
        "# !pip install aspect_based_sentiment_analysis\n",
        "# import aspect_based_sentiment_analysis as absa\n",
        "nlp = absa.load()"
      ],
      "execution_count": 56,
      "outputs": []
    },
    {
      "cell_type": "code",
      "metadata": {
        "id": "Bw1tNGcE8Jmm"
      },
      "source": [
        "quotation_id = 37913\n",
        "text = (biden_mentions.loc[quotation_id, 'quotation'].lower())\n",
        "\n",
        "completed_task = nlp(text, aspects=['biden'])"
      ],
      "execution_count": 60,
      "outputs": []
    },
    {
      "cell_type": "code",
      "metadata": {
        "colab": {
          "base_uri": "https://localhost:8080/"
        },
        "id": "qZ-YvFPg8sqg",
        "outputId": "53529e30-2f74-4048-da2c-f6a7713f7413"
      },
      "source": [
        "biden_result = completed_task.examples\n",
        "\n",
        "print(absa.summary(biden_result[0]))"
      ],
      "execution_count": 61,
      "outputs": [
        {
          "output_type": "stream",
          "name": "stdout",
          "text": [
            "Sentiment.negative for \"biden\"\n",
            "Scores (neutral/negative/positive): [0.002 0.989 0.008]\n",
            "None\n"
          ]
        }
      ]
    },
    {
      "cell_type": "code",
      "metadata": {
        "colab": {
          "base_uri": "https://localhost:8080/"
        },
        "id": "Lw5Sv6GY9WO5",
        "outputId": "eb384211-c370-48cc-a79c-94afd83c3e18"
      },
      "source": [
        "dir(biden_result[0])\n",
        "biden_result[0].scores"
      ],
      "execution_count": 67,
      "outputs": [
        {
          "output_type": "execute_result",
          "data": {
            "text/plain": [
              "[0.0024589438, 0.9894963, 0.008044804]"
            ]
          },
          "metadata": {},
          "execution_count": 67
        }
      ]
    },
    {
      "cell_type": "code",
      "metadata": {
        "id": "OJQOV2rQ-pVS"
      },
      "source": [
        "SENTIMENT_INDEXING = {'neutral': 0, 'negative': 1, 'positive': 2}\n",
        "\n",
        "def add_sentiment_columns(df_original, keyword):\n",
        "  df = df_original.copy()\n",
        "  for sentiment_key in SENTIMENT_INDEXING:\n",
        "    df[sentiment_key] = 0\n",
        "\n",
        "  for ind, row in df.iterrows():\n",
        "    text = row['quotation'].lower()\n",
        "    completed_task = nlp(text, aspects=[keyword])\n",
        "    sentiment_scores = completed_task.examples[0].scores \n",
        "\n",
        "    for sentiment_key, sentiment_ind in SENTIMENT_INDEXING.items():\n",
        "      df.loc[ind, sentiment_key] = sentiment_scores[sentiment_ind]\n",
        "\n",
        "  return df"
      ],
      "execution_count": 90,
      "outputs": []
    },
    {
      "cell_type": "code",
      "metadata": {
        "colab": {
          "base_uri": "https://localhost:8080/",
          "height": 181
        },
        "id": "gyMu7BmX-3X3",
        "outputId": "9a15fd99-065f-4e84-815d-d725d30c2d37"
      },
      "source": [
        "biden_sentiment = add_sentiment_columns(biden_mentions, 'biden')\n",
        "biden_sentiment "
      ],
      "execution_count": 94,
      "outputs": [
        {
          "output_type": "error",
          "ename": "TypeError",
          "evalue": "ignored",
          "traceback": [
            "\u001b[0;31m---------------------------------------------------------------------------\u001b[0m",
            "\u001b[0;31mTypeError\u001b[0m                                 Traceback (most recent call last)",
            "\u001b[0;32m<ipython-input-94-5f2cfe621a30>\u001b[0m in \u001b[0;36m<module>\u001b[0;34m()\u001b[0m\n\u001b[0;32m----> 1\u001b[0;31m \u001b[0mbiden_sentiment\u001b[0m \u001b[0;34m=\u001b[0m \u001b[0madd_sentiment_columns\u001b[0m\u001b[0;34m(\u001b[0m\u001b[0mbiden_mentions\u001b[0m\u001b[0;34m.\u001b[0m\u001b[0mcopy\u001b[0m\u001b[0;34m(\u001b[0m\u001b[0;34m)\u001b[0m\u001b[0;34m,\u001b[0m \u001b[0;34m'biden'\u001b[0m\u001b[0;34m,\u001b[0m \u001b[0mAscending\u001b[0m\u001b[0;34m=\u001b[0m\u001b[0;32mTrue\u001b[0m\u001b[0;34m)\u001b[0m\u001b[0;34m\u001b[0m\u001b[0;34m\u001b[0m\u001b[0m\n\u001b[0m\u001b[1;32m      2\u001b[0m \u001b[0mbiden_sentiment\u001b[0m\u001b[0;34m\u001b[0m\u001b[0;34m\u001b[0m\u001b[0m\n",
            "\u001b[0;31mTypeError\u001b[0m: add_sentiment_columns() got an unexpected keyword argument 'Ascending'"
          ]
        }
      ]
    },
    {
      "cell_type": "code",
      "metadata": {
        "id": "hbCUEdW3-8AU"
      },
      "source": [
        "biden_sentiment.sort_values('negative', ascending=False, inplace=True)"
      ],
      "execution_count": 97,
      "outputs": []
    },
    {
      "cell_type": "code",
      "metadata": {
        "colab": {
          "base_uri": "https://localhost:8080/"
        },
        "id": "BoaiCG3IBisX",
        "outputId": "dd7caa2d-f2a1-4e5f-8091-64c67373bee1"
      },
      "source": [
        "for ind, row in biden_sentiment.iterrows():\n",
        "  print(f\"\\n\\nNEGATIVE SCORE: {row['negative']}\")\n",
        "  print(f\"POSITIVE SCORE: {row['positive']}\")\n",
        "  print(f\"NEUTRAL SCORE: {row['neutral']}\")\n",
        "\n",
        "  print(row['quotation'])"
      ],
      "execution_count": 102,
      "outputs": [
        {
          "output_type": "stream",
          "name": "stdout",
          "text": [
            "\n",
            "\n",
            "NEGATIVE SCORE: 0.9939144253730774\n",
            "POSITIVE SCORE: 0.003951251041144133\n",
            "NEUTRAL SCORE: 0.0021344113629311323\n",
            "Joe Biden was a disaster,\n",
            "\n",
            "\n",
            "NEGATIVE SCORE: 0.9912710189819336\n",
            "POSITIVE SCORE: 0.007382732350379229\n",
            "NEUTRAL SCORE: 0.001346296863630414\n",
            "What Biden did is a disgrace. What his son did is a disgrace,\n",
            "\n",
            "\n",
            "NEGATIVE SCORE: 0.9894962906837463\n",
            "POSITIVE SCORE: 0.008044804446399212\n",
            "NEUTRAL SCORE: 0.0024589437525719404\n",
            "Biden was never very smart. He was a terrible student. His gaffes are unbelievable. When I say something that you might think is a gaffe, it's on purpose; it's not a gaffe. When Biden say something dumb, it's because he's dumb.\n",
            "\n",
            "\n",
            "NEGATIVE SCORE: 0.9756238460540771\n",
            "POSITIVE SCORE: 0.007405432872474194\n",
            "NEUTRAL SCORE: 0.016970712691545486\n",
            "that Biden stopped the prosecution and a lot of people want to find out about that.\n",
            "\n",
            "\n",
            "NEGATIVE SCORE: 0.9736927151679993\n",
            "POSITIVE SCORE: 0.004033033270388842\n",
            "NEUTRAL SCORE: 0.022274235263466835\n",
            "I don't know what the hell happened to Biden - that doesn't look like the guy I knew,\n",
            "\n",
            "\n",
            "NEGATIVE SCORE: 0.9694924354553223\n",
            "POSITIVE SCORE: 0.01210600696504116\n",
            "NEUTRAL SCORE: 0.01840156689286232\n",
            "And I think they're all weak, but I think Biden has never been a smart guy and he's less smart now than he ever was.\n",
            "\n",
            "\n",
            "NEGATIVE SCORE: 0.9235487580299377\n",
            "POSITIVE SCORE: 0.05674341320991516\n",
            "NEUTRAL SCORE: 0.01970786415040493\n",
            "The Fake News Media and their partner, the Democrat Party, want to stay as far away as possible from the Joe Biden demand that the Ukrainian Government fire a prosecutor who was investigating his son,\n",
            "\n",
            "\n",
            "NEGATIVE SCORE: 0.8463163375854492\n",
            "POSITIVE SCORE: 0.05789846181869507\n",
            "NEUTRAL SCORE: 0.09578517079353333\n",
            "It was largely corruption -- all of the corruption taking place. It was largely the fact that we don't want our people, like Vice President Biden and his son, creating to the corruption already in the Ukraine.\n",
            "\n",
            "\n",
            "NEGATIVE SCORE: 0.822108268737793\n",
            "POSITIVE SCORE: 0.022363586351275444\n",
            "NEUTRAL SCORE: 0.15552812814712524\n",
            "Super Predator was the term associated with the 1994 Crime BIll that Sleepy Joe Biden was so heavily involved in passing,\n",
            "\n",
            "\n",
            "NEGATIVE SCORE: 0.7933836579322815\n",
            "POSITIVE SCORE: 0.0749737024307251\n",
            "NEUTRAL SCORE: 0.1316426694393158\n",
            "Joe Biden got tongue tied over the weekend when he was unable to properly deliver a very simple line about his decision to run for President. Get used to it, another low I.Q. individual!\n",
            "\n",
            "\n",
            "NEGATIVE SCORE: 0.7683044672012329\n",
            "POSITIVE SCORE: 0.036020178347826004\n",
            "NEUTRAL SCORE: 0.19567543268203735\n",
            "China should start an investigation into the Bidens, because what happened [ in ] China is just about as bad as what happened with Ukraine.\n",
            "\n",
            "\n",
            "NEGATIVE SCORE: 0.7539414763450623\n",
            "POSITIVE SCORE: 0.08802611380815506\n",
            "NEUTRAL SCORE: 0.1580323576927185\n",
            "The conversation I had was largely congratulatory, with largely corruption -- all of the corruption taking place -- and largely the fact that we don't want our people like Vice President Biden and his son creating to the corruption already in the Ukraine,\n",
            "\n",
            "\n",
            "NEGATIVE SCORE: 0.743530809879303\n",
            "POSITIVE SCORE: 0.026153044775128365\n",
            "NEUTRAL SCORE: 0.2303161472082138\n",
            "The other thing, there's a lot of talk about Biden's son, that Biden stopped the prosecution. And a lot of people want to find out about that, so whatever you can do with the attorney general would be great... Biden went around bragging that he stopped the prosecution, so if you can look into it... It sounds horrible to me.\n",
            "\n",
            "\n",
            "NEGATIVE SCORE: 0.6419102549552917\n",
            "POSITIVE SCORE: 0.1129569485783577\n",
            "NEUTRAL SCORE: 0.24513278901576996\n",
            "If they were honest about it, they would start a major investigation into the Bidens,\n",
            "\n",
            "\n",
            "NEGATIVE SCORE: 0.5814104676246643\n",
            "POSITIVE SCORE: 0.17889800667762756\n",
            "NEUTRAL SCORE: 0.2396915704011917\n",
            "And don't forget, Biden deserted you. He's not from Pennsylvania. I guess he was born here, but he left you, folks. He left you for another state.\n",
            "\n",
            "\n",
            "NEGATIVE SCORE: 0.4808402359485626\n",
            "POSITIVE SCORE: 0.03458114713430405\n",
            "NEUTRAL SCORE: 0.48457860946655273\n",
            "Kim Jong-un made a statement that Joe Biden is a low-I.Q. individual,\n",
            "\n",
            "\n",
            "NEGATIVE SCORE: 0.37501630187034607\n",
            "POSITIVE SCORE: 0.10534984618425369\n",
            "NEUTRAL SCORE: 0.5196338891983032\n",
            "It was largely corruption -- all the corruption taking place, it was largely the fact that we don't want our people, like Vice President Biden and his son,\n",
            "\n",
            "\n",
            "NEGATIVE SCORE: 0.29478469491004944\n",
            "POSITIVE SCORE: 0.1250830739736557\n",
            "NEUTRAL SCORE: 0.5801321864128113\n",
            "I would like to have the attorney general call you.... It's very important that you do it.... I will ask him [ Giuliani ] to call you along with the attorney general.... If you could speak to him, that would be great.... If you can look into it [ the Biden matter ]... it sounds horrible to me.... I will have Mr. Giuliani give you a call and I am also going to [ have ] Attorney General Barr call.... I'm sure you will figure it out.... Your economy is going to get better and better, I predict.... I will tell Rudy and Attorney General Barr to call.... Whenever you would like to come to the White House, feel free to call.\n",
            "\n",
            "\n",
            "NEGATIVE SCORE: 0.2939368486404419\n",
            "POSITIVE SCORE: 0.5402429103851318\n",
            "NEUTRAL SCORE: 0.16582022607326508\n",
            "I believe it will be Crazy Bernie Sanders vs. Sleepy Joe Biden as the two finalists to run against maybe the best Economy in the history of our Country (and MANY other great things)!\n",
            "\n",
            "\n",
            "NEGATIVE SCORE: 0.28298377990722656\n",
            "POSITIVE SCORE: 0.06339091807603836\n",
            "NEUTRAL SCORE: 0.6536253690719604\n",
            "Well, I would think if they were honest about it, they'd start a major investigation into the Bidens,\n",
            "\n",
            "\n",
            "NEGATIVE SCORE: 0.25885316729545593\n",
            "POSITIVE SCORE: 0.18382427096366882\n",
            "NEUTRAL SCORE: 0.5573225021362305\n",
            "They hope -- it's not going to happen, I hope, but they would just love if I got defeated so they could deal with somebody like Elizabeth Warren or Sleepy Joe Biden or any of these people, because then they'd be allowed and able to continue to rip off our country like they've been doing for the last 30 years.\n",
            "\n",
            "\n",
            "NEGATIVE SCORE: 0.24472375214099884\n",
            "POSITIVE SCORE: 0.337303102016449\n",
            "NEUTRAL SCORE: 0.4179731011390686\n",
            "I believe it will be Crazy Bernie Sanders vs. Sleepy Joe Biden as the two finalists,\n",
            "\n",
            "\n",
            "NEGATIVE SCORE: 0.23741309344768524\n",
            "POSITIVE SCORE: 0.009202509187161922\n",
            "NEUTRAL SCORE: 0.7533843517303467\n",
            "I have confidence that Chairman Kim will keep his promise to me, & also smiled when he called Swampman Joe [ Biden ] a low IQ individual, & worse. Perhaps that's sending me a signal?\n",
            "\n",
            "\n",
            "NEGATIVE SCORE: 0.19609518349170685\n",
            "POSITIVE SCORE: 0.03161654248833656\n",
            "NEUTRAL SCORE: 0.7722883224487305\n",
            "North Korea fired off some small weapons, which disturbed some of my people, and others, but not me. I have confidence that Chairman Kim will keep his promise to me, & also smiled when he called Swampman Joe Biden a low IQ individual, & worse. Perhaps that's sending me a signal?,\n",
            "\n",
            "\n",
            "NEGATIVE SCORE: 0.16467298567295074\n",
            "POSITIVE SCORE: 0.12110759317874908\n",
            "NEUTRAL SCORE: 0.7142193913459778\n",
            "China should start an investigation into the Bidens...\n",
            "\n",
            "\n",
            "NEGATIVE SCORE: 0.14333203434944153\n",
            "POSITIVE SCORE: 0.3990436792373657\n",
            "NEUTRAL SCORE: 0.45762425661087036\n",
            "There's a lot of talk about Biden's son -- that Biden stopped the prosecution -- and a lot of people want to find out about that. So whatever you can do with the attorney general would be great,\n",
            "\n",
            "\n",
            "NEGATIVE SCORE: 0.1408947855234146\n",
            "POSITIVE SCORE: 0.07708147913217545\n",
            "NEUTRAL SCORE: 0.7820237278938293\n",
            "never thought Biden was going to win\n",
            "\n",
            "\n",
            "NEGATIVE SCORE: 0.12214343994855881\n",
            "POSITIVE SCORE: 0.39726436138153076\n",
            "NEUTRAL SCORE: 0.4805920720100403\n",
            "The Media (Fake News) is pushing Sleepy Joe hard. Funny, I'm only here because of Biden & Obama. They didn't do the job and now you have Trump, who is getting it done-big time!\n",
            "\n",
            "\n",
            "NEGATIVE SCORE: 0.11156828701496124\n",
            "POSITIVE SCORE: 0.14629723131656647\n",
            "NEUTRAL SCORE: 0.7421344518661499\n",
            "can think of nothing they'd rather see than Biden get in.\n",
            "\n",
            "\n",
            "NEGATIVE SCORE: 0.09175766259431839\n",
            "POSITIVE SCORE: 0.0411832220852375\n",
            "NEUTRAL SCORE: 0.8670591115951538\n",
            "I would say that President Zelensky -- if it were me, I would recommend that they start an investigation into the Bidens.\n",
            "\n",
            "\n",
            "NEGATIVE SCORE: 0.07174312323331833\n",
            "POSITIVE SCORE: 0.7863487005233765\n",
            "NEUTRAL SCORE: 0.1419081836938858\n",
            "I recommend that Nervous Nancy Pelosi (who backed up Schiff's lie), Shifty Adam Schiff, Sleepy Joe Biden, the Whistleblower (who miraculously disappeared after I released the transcript of the call), the 2nd Whistleblower (who also disappeared), & the I.G., be part of the list!\n",
            "\n",
            "\n",
            "NEGATIVE SCORE: 0.030933566391468048\n",
            "POSITIVE SCORE: 0.6670669317245483\n",
            "NEUTRAL SCORE: 0.301999568939209\n",
            "Well, I would think that, if they were honest about it, they'd start a major investigation into the Bidens. It's a very simple answer,\n",
            "\n",
            "\n",
            "NEGATIVE SCORE: 0.030837291851639748\n",
            "POSITIVE SCORE: 0.6486374735832214\n",
            "NEUTRAL SCORE: 0.3205251693725586\n",
            "I'd rather run against Biden than almost any of those candidates,\n",
            "\n",
            "\n",
            "NEGATIVE SCORE: 0.02438977174460888\n",
            "POSITIVE SCORE: 0.00821860134601593\n",
            "NEUTRAL SCORE: 0.9673915505409241\n",
            "You're telling us that Tim Morrison told you that Ambassador Sondland told him that the President told Ambassador Sondland that Zelensky would have to open an investigation into Biden?\n",
            "\n",
            "\n",
            "NEGATIVE SCORE: 0.02087392285466194\n",
            "POSITIVE SCORE: 0.9705696105957031\n",
            "NEUTRAL SCORE: 0.008556469343602657\n",
            "Don't forget, Biden deserted you,\n",
            "\n",
            "\n",
            "NEGATIVE SCORE: 0.02020413987338543\n",
            "POSITIVE SCORE: 0.46541455388069153\n",
            "NEUTRAL SCORE: 0.5143812894821167\n",
            "Wait a second -- curing cancer is already Biden's thing. You can't just steal Democratic platforms. [ As Trump ] `If re-elected, I will cure cancer. And I know I'm just a small-town mayor from Indiana, but the top 1 percent control 90 percent of the wealth. I shoveled snow in Newark. I am Elizabeth Warren.\n",
            "\n",
            "\n",
            "NEGATIVE SCORE: 0.016511276364326477\n",
            "POSITIVE SCORE: 0.02117336168885231\n",
            "NEUTRAL SCORE: 0.9623152613639832\n",
            "Biden went around bragging that he stopped the prosecution, so, if you can look into it...\n",
            "\n",
            "\n",
            "NEGATIVE SCORE: 0.01217418909072876\n",
            "POSITIVE SCORE: 0.03951629623770714\n",
            "NEUTRAL SCORE: 0.9483095407485962\n",
            "Well, I think what Biden did, and his son -- and now, I guess, they're finding also Romania; that just came out today. Or some other country. And I'm sure there are more than that,\n",
            "\n",
            "\n",
            "NEGATIVE SCORE: 0.005742515902966261\n",
            "POSITIVE SCORE: 0.007503457833081484\n",
            "NEUTRAL SCORE: 0.9867541193962097\n",
            "there's a lot of talk about Biden's son....\n",
            "\n",
            "\n",
            "NEGATIVE SCORE: 0.004029358737170696\n",
            "POSITIVE SCORE: 0.3447977900505066\n",
            "NEUTRAL SCORE: 0.6511728763580322\n",
            "wanted nothing less than President Zelensky to go to microphone and say investigations, Biden, and Clinton.\n",
            "\n",
            "\n",
            "NEGATIVE SCORE: 0.0035214789677411318\n",
            "POSITIVE SCORE: 0.9643954634666443\n",
            "NEUTRAL SCORE: 0.03208300843834877\n",
            "quite a bit of background on Hunter Biden from the Chinese.\n",
            "\n",
            "\n",
            "NEGATIVE SCORE: 0.0031645684503018856\n",
            "POSITIVE SCORE: 0.9559305310249329\n",
            "NEUTRAL SCORE: 0.04090486094355583\n",
            "I hope it's Biden,\n",
            "\n",
            "\n",
            "NEGATIVE SCORE: 0.002092981245368719\n",
            "POSITIVE SCORE: 0.9756757020950317\n",
            "NEUTRAL SCORE: 0.022231359034776688\n",
            "Someone ought to look into Joe Biden.\n",
            "\n",
            "\n",
            "NEGATIVE SCORE: 0.0010812287218868732\n",
            "POSITIVE SCORE: 0.9971605539321899\n",
            "NEUTRAL SCORE: 0.0017582037253305316\n",
            "I said, `General, come here. Give me a kiss.' I felt like Joe Biden.\n"
          ]
        }
      ]
    },
    {
      "cell_type": "code",
      "metadata": {
        "colab": {
          "base_uri": "https://localhost:8080/"
        },
        "id": "0jkeqWp1CTO1",
        "outputId": "09ec88df-318a-425e-ba16-ed58bd86d572"
      },
      "source": [
        "np.mean(quotes_19_sample['speaker'] != 'None')"
      ],
      "execution_count": 105,
      "outputs": [
        {
          "output_type": "execute_result",
          "data": {
            "text/plain": [
              "0.6357967878878411"
            ]
          },
          "metadata": {},
          "execution_count": 105
        }
      ]
    },
    {
      "cell_type": "code",
      "metadata": {
        "colab": {
          "base_uri": "https://localhost:8080/"
        },
        "id": "99iv0mtmSdpT",
        "outputId": "01ca301c-a0dd-4e4f-ba5a-82bbe74a5223"
      },
      "source": [
        "threshold = 0.2\n",
        "none_speakers = quotes_19_sample[quotes_19_sample['speaker'] == 'None']\n",
        "np.mean(none_speakers['probas'].apply(lambda x: float(x[0][1]) - float(x[1][1])) > threshold)"
      ],
      "execution_count": 124,
      "outputs": [
        {
          "output_type": "execute_result",
          "data": {
            "text/plain": [
              "0.8520150300336059"
            ]
          },
          "metadata": {},
          "execution_count": 124
        }
      ]
    },
    {
      "cell_type": "code",
      "metadata": {
        "id": "nAssfQRSTMpm"
      },
      "source": [
        ""
      ],
      "execution_count": null,
      "outputs": []
    },
    {
      "cell_type": "markdown",
      "metadata": {
        "id": "YBttrvKrVktZ"
      },
      "source": [
        "## Wikidata Python API"
      ]
    },
    {
      "cell_type": "code",
      "metadata": {
        "colab": {
          "base_uri": "https://localhost:8080/"
        },
        "id": "_kecx59VVo5z",
        "outputId": "d569474b-3a26-420e-f26b-5553e66a8155"
      },
      "source": [
        "!pip install Wikidata"
      ],
      "execution_count": 45,
      "outputs": [
        {
          "output_type": "stream",
          "name": "stdout",
          "text": [
            "Requirement already satisfied: Wikidata in /usr/local/lib/python3.7/dist-packages (0.7.0)\n"
          ]
        }
      ]
    },
    {
      "cell_type": "markdown",
      "metadata": {
        "id": "Zr_qf5EZwkLi"
      },
      "source": [
        "### Genders"
      ]
    },
    {
      "cell_type": "code",
      "metadata": {
        "id": "MtXUv8bMohig"
      },
      "source": [
        "genders = speaker_attributes['gender'].to_frame().apply(\n",
        "    lambda x: 'Q6581097' if x is None or x[0] is None else x[0][0], axis=1\n",
        "    ).unique()\n"
      ],
      "execution_count": null,
      "outputs": []
    },
    {
      "cell_type": "code",
      "metadata": {
        "colab": {
          "base_uri": "https://localhost:8080/"
        },
        "id": "chHVswddaKdv",
        "outputId": "970a2a25-f88d-4f43-d116-d1b0dc290f9d"
      },
      "source": [
        "# genders = [\n",
        "#        'Q6581097', 'Q6581072', 'Q1052281', 'Q2449503',\n",
        "#        'Q48270', 'Q1097630', 'Q12964198', 'Q189125', 'Q15145779',\n",
        "#        'Q301702', 'Q179294', 'Q27679766', 'Q18116794', 'Q859614',\n",
        "#        'Q44148', 'Q1289754', 'Q106299064', 'Q27679684', 'Q15145778',\n",
        "#        'Q52261234', 'Q207959', 'Q43445', 'Q505371', 'Q7130936',\n",
        "#        'Q96000630', 'Q1984232', 'Q93954933', 'Q746411', 'Q48279',\n",
        "#        'Q3177577', 'Q1775415', 'Q6636'\n",
        "#        ]\n",
        "for gender in genders:\n",
        "  print(client.get(gender, load=True).label)\n",
        "\n"
      ],
      "execution_count": 52,
      "outputs": [
        {
          "output_type": "stream",
          "name": "stdout",
          "text": [
            "male\n",
            "female\n",
            "transgender female\n",
            "transgender male\n",
            "non-binary\n",
            "intersex\n",
            "genderqueer\n",
            "transgender person\n",
            "cisgender female\n",
            "two-spirit\n",
            "eunuch\n",
            "transmasculine\n",
            "genderfluid\n",
            "bigender\n",
            "male organism\n",
            "neutrois\n",
            "Erkek\n",
            "transfeminine\n",
            "cisgender male\n",
            "neutral sex\n",
            "androgyny\n",
            "female organism\n",
            "agender\n",
            "pangender\n",
            "X-gender\n",
            "shemale\n",
            "demiboy\n",
            "kathoey\n",
            "third gender\n",
            "muxe\n",
            "feminine\n",
            "homosexuality\n"
          ]
        }
      ]
    },
    {
      "cell_type": "markdown",
      "metadata": {
        "id": "05-1E9SRwnjU"
      },
      "source": [
        "### Occupations"
      ]
    },
    {
      "cell_type": "code",
      "metadata": {
        "id": "4diC143dm-El"
      },
      "source": [
        "def return_string_from_arr(x):\n",
        "  if x is None or x[0] is None:\n",
        "    return '';\n",
        "  sol = ''\n",
        "  for i in range(x[0].shape[0]):\n",
        "    sol += x[0][i]\n",
        "    sol += ','\n",
        "  return sol[0:-1]\n",
        "\n",
        "occupations_series = speaker_attributes['occupation'].to_frame().apply(\n",
        "    return_string_from_arr, axis=1\n",
        "    )"
      ],
      "execution_count": 79,
      "outputs": []
    },
    {
      "cell_type": "code",
      "metadata": {
        "colab": {
          "base_uri": "https://localhost:8080/"
        },
        "id": "FKd0qsl6s4eJ",
        "outputId": "79e39ade-6179-4895-ff11-f40b675c814a"
      },
      "source": [
        "occupation_ids = occupations_series.unique()\n",
        "\n",
        "for ids in occupation_ids:\n",
        "  if ids == '':\n",
        "    continue\n",
        "  for id in ids.split(','):\n",
        "    if id not in occupations:\n",
        "      try:\n",
        "        # Multilngual to basic string\n",
        "        occupations[id] = str(client.get(id, load=True).label)\n",
        "      except Exception:\n",
        "        print(id)\n",
        "      "
      ],
      "execution_count": 88,
      "outputs": [
        {
          "output_type": "stream",
          "name": "stdout",
          "text": [
            "Q57557390\n",
            "Q102046591\n",
            "Q98384826\n",
            "Q105645755\n",
            "Q57557390\n",
            "Q99753484\n",
            "Q57557390\n",
            "Q56411328\n",
            "Q96143085\n",
            "Q96144081\n"
          ]
        }
      ]
    },
    {
      "cell_type": "code",
      "metadata": {
        "id": "CVhzA4KKxM2W"
      },
      "source": [
        "occupation_backup = occupations.copy()"
      ],
      "execution_count": 90,
      "outputs": []
    },
    {
      "cell_type": "code",
      "metadata": {
        "colab": {
          "base_uri": "https://localhost:8080/"
        },
        "id": "6HZ1bVAT34Ln",
        "outputId": "cb5c3c94-a66d-464b-d22d-1fe76332abc7"
      },
      "source": [
        "from google.colab import drive\n",
        "drive.mount('/content/drive')"
      ],
      "execution_count": 95,
      "outputs": [
        {
          "output_type": "stream",
          "name": "stdout",
          "text": [
            "Drive already mounted at /content/drive; to attempt to forcibly remount, call drive.mount(\"/content/drive\", force_remount=True).\n"
          ]
        }
      ]
    },
    {
      "cell_type": "code",
      "metadata": {
        "id": "AYndeosbpkPT"
      },
      "source": [
        "import json\n",
        "\n",
        "with open('/content/drive/MyDrive/occupations.json', 'w') as f:\n",
        "    json.dump(occupations_single_ling, f)"
      ],
      "execution_count": 106,
      "outputs": []
    },
    {
      "cell_type": "markdown",
      "metadata": {
        "id": "rsngB7bYwrvX"
      },
      "source": [
        "### Religions"
      ]
    },
    {
      "cell_type": "code",
      "metadata": {
        "colab": {
          "base_uri": "https://localhost:8080/"
        },
        "id": "V4-qyjpSpvYZ",
        "outputId": "3204f702-45b7-4f3e-ba5a-3892b53e67d7"
      },
      "source": [
        "religion_series = speaker_attributes['religion'].to_frame().apply(\n",
        "    return_string_from_arr, axis=1\n",
        "    )\n",
        "\n",
        "religions = {}\n",
        "\n",
        "religion_ids = religion_series.unique()\n",
        "for ids in religion_ids:\n",
        "  if ids == '':\n",
        "    continue\n",
        "  for id in ids.split(','):\n",
        "    if id not in religions:\n",
        "      religions[id] = str(client.get(id, load=True).label)\n",
        "\n",
        "with open('/content/drive/MyDrive/religions.json', 'w') as f:\n",
        "    json.dump(religions, f)    "
      ],
      "execution_count": 70,
      "outputs": [
        {
          "output_type": "execute_result",
          "data": {
            "text/plain": [
              "0            Q82955\n",
              "1           Q214917\n",
              "2            Q36180\n",
              "3            Q82955\n",
              "4          Q1028181\n",
              "             ...   \n",
              "9055976      Q82955\n",
              "9055977      Q82955\n",
              "9055978            \n",
              "9055979            \n",
              "9055980      Q82955\n",
              "Length: 9055981, dtype: object"
            ]
          },
          "metadata": {},
          "execution_count": 70
        }
      ]
    },
    {
      "cell_type": "markdown",
      "metadata": {
        "id": "SZljobuxwusv"
      },
      "source": [
        "### Nationality"
      ]
    },
    {
      "cell_type": "code",
      "metadata": {
        "id": "bvd0NdYVq6MQ"
      },
      "source": [
        "nationality_series = speaker_attributes['nationality'].to_frame().apply(\n",
        "    return_string_from_arr, axis=1\n",
        "    )\n",
        "\n",
        "nationalities = {}\n",
        "\n",
        "nationality_ids = n_series.unique()\n",
        "for ids in nationality_ids:\n",
        "  if ids == '':\n",
        "    continue\n",
        "  for id in ids.split(','):\n",
        "    if id not in religions:\n",
        "      religions[id] = str(client.get(id, load=True).label)\n",
        "\n",
        "with open('religions.json', 'w') as f:\n",
        "    json.dump(religions, f)    "
      ],
      "execution_count": null,
      "outputs": []
    },
    {
      "cell_type": "code",
      "metadata": {
        "id": "CD4z5c_t68yi"
      },
      "source": [
        ""
      ],
      "execution_count": null,
      "outputs": []
    }
  ]
}