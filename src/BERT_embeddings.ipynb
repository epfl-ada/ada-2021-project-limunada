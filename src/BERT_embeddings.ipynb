{
  "nbformat": 4,
  "nbformat_minor": 0,
  "metadata": {
    "colab": {
      "name": "BERT_embeddings.ipynb",
      "provenance": []
    },
    "kernelspec": {
      "name": "python3",
      "display_name": "Python 3"
    },
    "language_info": {
      "name": "python"
    }
  },
  "cells": [
    {
      "cell_type": "code",
      "metadata": {
        "colab": {
          "base_uri": "https://localhost:8080/"
        },
        "id": "1shpoO0al7a4",
        "outputId": "44e52eec-ec39-40a9-c517-f6af930851da"
      },
      "source": [
        "# !pip install transformers\n",
        "# !pip install torch\n",
        "!pip install sentence_transformers"
      ],
      "execution_count": 12,
      "outputs": [
        {
          "output_type": "stream",
          "name": "stdout",
          "text": [
            "Collecting sentence_transformers\n",
            "  Downloading sentence-transformers-2.1.0.tar.gz (78 kB)\n",
            "\u001b[?25l\r\u001b[K     |████▏                           | 10 kB 20.0 MB/s eta 0:00:01\r\u001b[K     |████████▍                       | 20 kB 24.2 MB/s eta 0:00:01\r\u001b[K     |████████████▌                   | 30 kB 13.3 MB/s eta 0:00:01\r\u001b[K     |████████████████▊               | 40 kB 9.9 MB/s eta 0:00:01\r\u001b[K     |████████████████████▉           | 51 kB 5.5 MB/s eta 0:00:01\r\u001b[K     |█████████████████████████       | 61 kB 6.1 MB/s eta 0:00:01\r\u001b[K     |█████████████████████████████▏  | 71 kB 6.0 MB/s eta 0:00:01\r\u001b[K     |████████████████████████████████| 78 kB 3.4 MB/s \n",
            "\u001b[?25hRequirement already satisfied: transformers<5.0.0,>=4.6.0 in /usr/local/lib/python3.7/dist-packages (from sentence_transformers) (4.12.3)\n",
            "Requirement already satisfied: tokenizers>=0.10.3 in /usr/local/lib/python3.7/dist-packages (from sentence_transformers) (0.10.3)\n",
            "Requirement already satisfied: tqdm in /usr/local/lib/python3.7/dist-packages (from sentence_transformers) (4.62.3)\n",
            "Requirement already satisfied: torch>=1.6.0 in /usr/local/lib/python3.7/dist-packages (from sentence_transformers) (1.9.0+cu111)\n",
            "Requirement already satisfied: torchvision in /usr/local/lib/python3.7/dist-packages (from sentence_transformers) (0.10.0+cu111)\n",
            "Requirement already satisfied: numpy in /usr/local/lib/python3.7/dist-packages (from sentence_transformers) (1.19.5)\n",
            "Requirement already satisfied: scikit-learn in /usr/local/lib/python3.7/dist-packages (from sentence_transformers) (0.22.2.post1)\n",
            "Requirement already satisfied: scipy in /usr/local/lib/python3.7/dist-packages (from sentence_transformers) (1.4.1)\n",
            "Requirement already satisfied: nltk in /usr/local/lib/python3.7/dist-packages (from sentence_transformers) (3.2.5)\n",
            "Collecting sentencepiece\n",
            "  Downloading sentencepiece-0.1.96-cp37-cp37m-manylinux_2_17_x86_64.manylinux2014_x86_64.whl (1.2 MB)\n",
            "\u001b[K     |████████████████████████████████| 1.2 MB 11.7 MB/s \n",
            "\u001b[?25hRequirement already satisfied: huggingface-hub in /usr/local/lib/python3.7/dist-packages (from sentence_transformers) (0.1.2)\n",
            "Requirement already satisfied: typing-extensions in /usr/local/lib/python3.7/dist-packages (from torch>=1.6.0->sentence_transformers) (3.10.0.2)\n",
            "Requirement already satisfied: pyyaml>=5.1 in /usr/local/lib/python3.7/dist-packages (from transformers<5.0.0,>=4.6.0->sentence_transformers) (6.0)\n",
            "Requirement already satisfied: regex!=2019.12.17 in /usr/local/lib/python3.7/dist-packages (from transformers<5.0.0,>=4.6.0->sentence_transformers) (2019.12.20)\n",
            "Requirement already satisfied: packaging>=20.0 in /usr/local/lib/python3.7/dist-packages (from transformers<5.0.0,>=4.6.0->sentence_transformers) (21.2)\n",
            "Requirement already satisfied: filelock in /usr/local/lib/python3.7/dist-packages (from transformers<5.0.0,>=4.6.0->sentence_transformers) (3.3.2)\n",
            "Requirement already satisfied: importlib-metadata in /usr/local/lib/python3.7/dist-packages (from transformers<5.0.0,>=4.6.0->sentence_transformers) (4.8.1)\n",
            "Requirement already satisfied: requests in /usr/local/lib/python3.7/dist-packages (from transformers<5.0.0,>=4.6.0->sentence_transformers) (2.23.0)\n",
            "Requirement already satisfied: sacremoses in /usr/local/lib/python3.7/dist-packages (from transformers<5.0.0,>=4.6.0->sentence_transformers) (0.0.46)\n",
            "Requirement already satisfied: pyparsing<3,>=2.0.2 in /usr/local/lib/python3.7/dist-packages (from packaging>=20.0->transformers<5.0.0,>=4.6.0->sentence_transformers) (2.4.7)\n",
            "Requirement already satisfied: zipp>=0.5 in /usr/local/lib/python3.7/dist-packages (from importlib-metadata->transformers<5.0.0,>=4.6.0->sentence_transformers) (3.6.0)\n",
            "Requirement already satisfied: six in /usr/local/lib/python3.7/dist-packages (from nltk->sentence_transformers) (1.15.0)\n",
            "Requirement already satisfied: idna<3,>=2.5 in /usr/local/lib/python3.7/dist-packages (from requests->transformers<5.0.0,>=4.6.0->sentence_transformers) (2.10)\n",
            "Requirement already satisfied: chardet<4,>=3.0.2 in /usr/local/lib/python3.7/dist-packages (from requests->transformers<5.0.0,>=4.6.0->sentence_transformers) (3.0.4)\n",
            "Requirement already satisfied: urllib3!=1.25.0,!=1.25.1,<1.26,>=1.21.1 in /usr/local/lib/python3.7/dist-packages (from requests->transformers<5.0.0,>=4.6.0->sentence_transformers) (1.24.3)\n",
            "Requirement already satisfied: certifi>=2017.4.17 in /usr/local/lib/python3.7/dist-packages (from requests->transformers<5.0.0,>=4.6.0->sentence_transformers) (2021.10.8)\n",
            "Requirement already satisfied: click in /usr/local/lib/python3.7/dist-packages (from sacremoses->transformers<5.0.0,>=4.6.0->sentence_transformers) (7.1.2)\n",
            "Requirement already satisfied: joblib in /usr/local/lib/python3.7/dist-packages (from sacremoses->transformers<5.0.0,>=4.6.0->sentence_transformers) (1.1.0)\n",
            "Requirement already satisfied: pillow>=5.3.0 in /usr/local/lib/python3.7/dist-packages (from torchvision->sentence_transformers) (7.1.2)\n",
            "Building wheels for collected packages: sentence-transformers\n",
            "  Building wheel for sentence-transformers (setup.py) ... \u001b[?25l\u001b[?25hdone\n",
            "  Created wheel for sentence-transformers: filename=sentence_transformers-2.1.0-py3-none-any.whl size=121000 sha256=f98c853e92b4c20d41f559c23894260b2a58364a5d4aaf9b154d15713719fcc8\n",
            "  Stored in directory: /root/.cache/pip/wheels/90/f0/bb/ed1add84da70092ea526466eadc2bfb197c4bcb8d4fa5f7bad\n",
            "Successfully built sentence-transformers\n",
            "Installing collected packages: sentencepiece, sentence-transformers\n",
            "Successfully installed sentence-transformers-2.1.0 sentencepiece-0.1.96\n"
          ]
        }
      ]
    },
    {
      "cell_type": "code",
      "metadata": {
        "id": "BnSUE8MmqHnE"
      },
      "source": [
        "from sentence_transformers import SentenceTransformer\n",
        "from sklearn.decomposition import PCA\n",
        "import numpy as np \n",
        "\n",
        "model = SentenceTransformer('sentence-transformers/paraphrase-MiniLM-L6-v2')\n"
      ],
      "execution_count": 14,
      "outputs": []
    },
    {
      "cell_type": "code",
      "metadata": {
        "colab": {
          "base_uri": "https://localhost:8080/"
        },
        "id": "piPxfxy0qVSQ",
        "outputId": "74b7337e-ec26-4ca9-9638-785bfc308f95"
      },
      "source": [
        "quotes_and_labels = [\n",
        "  ('I adore ice cream', 1), \n",
        "  ('I hate ice cream', 0),\n",
        "  ('I hate fucking london because of rain', 0),\n",
        "  ('Jana is a dumbass', 0),\n",
        "  ('I am beatiful', 1),\n",
        "  ('hate hate hate you', 0),\n",
        "  ('she is a very smart cute girl', 1),\n",
        "  ('love love love love beautiful', 1),\n",
        "  ('bad ugly smelly stupid', 0),\n",
        "  ('stupid stupid bad worse the worst', 0),\n",
        "  ('beautiful beautiful pretty very nice nice', 1)\n",
        "  ]\n",
        "\n",
        "quotes = [pair[0] for pair in quotes_and_labels]\n",
        "\n",
        "embeddings = model.encode(quotes)\n",
        "print(embeddings.shape)"
      ],
      "execution_count": 34,
      "outputs": [
        {
          "output_type": "stream",
          "name": "stdout",
          "text": [
            "(11, 384)\n"
          ]
        }
      ]
    },
    {
      "cell_type": "code",
      "metadata": {
        "id": "0RJ9vSZkqwWj"
      },
      "source": [
        "out_features = 2\n",
        "quote_num = embeddings.shape[0]\n",
        "pca = PCA(n_components=out_features)\n",
        "\n",
        "embeddings_pca = pca.fit_transform(embeddings)\n"
      ],
      "execution_count": 35,
      "outputs": []
    },
    {
      "cell_type": "code",
      "metadata": {
        "colab": {
          "base_uri": "https://localhost:8080/",
          "height": 320
        },
        "id": "dj739nYhrKaM",
        "outputId": "a1088fa8-20a7-4c6c-ef29-c5c3eafc28d6"
      },
      "source": [
        "import matplotlib.pyplot as plt\n",
        "\n",
        "pos_embeddings_pca = []\n",
        "neg_embeddings_pca = []\n",
        "\n",
        "for ind, (quote, label) in enumerate(quotes_and_labels):\n",
        "  if label == 1:\n",
        "    pos_embeddings_pca.append(list(embeddings_pca[ind, :]))\n",
        "  else:\n",
        "    neg_embeddings_pca.append(list(embeddings_pca[ind, :]))\n",
        "\n",
        "pos_embeddings_pca = np.array(pos_embeddings_pca)\n",
        "neg_embeddings_pca = np.array(neg_embeddings_pca)\n",
        "\n",
        "plt.figure(figsize=(10, 5))\n",
        "plt.scatter(\n",
        "    pos_embeddings_pca[:, 0], pos_embeddings_pca[:, 1], \n",
        "    marker='+', s=200, c='b'\n",
        "    )\n",
        "plt.scatter(\n",
        "    neg_embeddings_pca[:, 0], neg_embeddings_pca[:, 1], \n",
        "    marker='_', s=200, c='r'\n",
        "    )\n",
        "\n",
        "plt.grid()\n",
        "\n"
      ],
      "execution_count": 52,
      "outputs": [
        {
          "output_type": "display_data",
          "data": {
            "image/png": "[encoded data removed]",
            "text/plain": [
              "<Figure size 720x360 with 1 Axes>"
            ]
          },
          "metadata": {
            "needs_background": "light"
          }
        }
      ]
    },
    {
      "cell_type": "code",
      "metadata": {
        "id": "f07lH4A_r65U"
      },
      "source": [
        ""
      ],
      "execution_count": null,
      "outputs": []
    }
  ]
}