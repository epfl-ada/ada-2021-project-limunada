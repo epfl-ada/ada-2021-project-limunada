{
  "cells": [
    {
      "cell_type": "markdown",
      "metadata": {
        "id": "T8r-IrUCx3C1"
      },
      "source": [
        "# LDA models for topic detection"
      ]
    },
    {
      "cell_type": "code",
      "execution_count": 1,
      "metadata": {
        "colab": {
          "base_uri": "https://localhost:8080/"
        },
        "id": "pSe2xl_RLytV",
        "outputId": "cce9d7ea-e1f4-479e-b4cc-537c473cbf15"
      },
      "outputs": [
        {
          "output_type": "stream",
          "name": "stdout",
          "text": [
            "Requirement already satisfied: pandas in /usr/local/lib/python3.7/dist-packages (1.3.5)\n",
            "Requirement already satisfied: pytz>=2017.3 in /usr/local/lib/python3.7/dist-packages (from pandas) (2018.9)\n",
            "Requirement already satisfied: numpy>=1.17.3 in /usr/local/lib/python3.7/dist-packages (from pandas) (1.21.4)\n",
            "Requirement already satisfied: python-dateutil>=2.7.3 in /usr/local/lib/python3.7/dist-packages (from pandas) (2.8.2)\n",
            "Requirement already satisfied: six>=1.5 in /usr/local/lib/python3.7/dist-packages (from python-dateutil>=2.7.3->pandas) (1.15.0)\n",
            "Requirement already satisfied: pyLDAvis in /usr/local/lib/python3.7/dist-packages (3.3.1)\n",
            "Requirement already satisfied: jinja2 in /usr/local/lib/python3.7/dist-packages (from pyLDAvis) (2.11.3)\n",
            "Requirement already satisfied: scikit-learn in /usr/local/lib/python3.7/dist-packages (from pyLDAvis) (1.0.1)\n",
            "Requirement already satisfied: pandas>=1.2.0 in /usr/local/lib/python3.7/dist-packages (from pyLDAvis) (1.3.5)\n",
            "Requirement already satisfied: setuptools in /usr/local/lib/python3.7/dist-packages (from pyLDAvis) (57.4.0)\n",
            "Requirement already satisfied: joblib in /usr/local/lib/python3.7/dist-packages (from pyLDAvis) (1.1.0)\n",
            "Requirement already satisfied: future in /usr/local/lib/python3.7/dist-packages (from pyLDAvis) (0.16.0)\n",
            "Requirement already satisfied: funcy in /usr/local/lib/python3.7/dist-packages (from pyLDAvis) (1.16)\n",
            "Requirement already satisfied: numexpr in /usr/local/lib/python3.7/dist-packages (from pyLDAvis) (2.7.3)\n",
            "Requirement already satisfied: gensim in /usr/local/lib/python3.7/dist-packages (from pyLDAvis) (3.6.0)\n",
            "Requirement already satisfied: numpy>=1.20.0 in /usr/local/lib/python3.7/dist-packages (from pyLDAvis) (1.21.4)\n",
            "Requirement already satisfied: scipy in /usr/local/lib/python3.7/dist-packages (from pyLDAvis) (1.4.1)\n",
            "Requirement already satisfied: sklearn in /usr/local/lib/python3.7/dist-packages (from pyLDAvis) (0.0)\n",
            "Requirement already satisfied: pytz>=2017.3 in /usr/local/lib/python3.7/dist-packages (from pandas>=1.2.0->pyLDAvis) (2018.9)\n",
            "Requirement already satisfied: python-dateutil>=2.7.3 in /usr/local/lib/python3.7/dist-packages (from pandas>=1.2.0->pyLDAvis) (2.8.2)\n",
            "Requirement already satisfied: six>=1.5 in /usr/local/lib/python3.7/dist-packages (from python-dateutil>=2.7.3->pandas>=1.2.0->pyLDAvis) (1.15.0)\n",
            "Requirement already satisfied: smart-open>=1.2.1 in /usr/local/lib/python3.7/dist-packages (from gensim->pyLDAvis) (5.2.1)\n",
            "Requirement already satisfied: MarkupSafe>=0.23 in /usr/local/lib/python3.7/dist-packages (from jinja2->pyLDAvis) (2.0.1)\n",
            "Requirement already satisfied: threadpoolctl>=2.0.0 in /usr/local/lib/python3.7/dist-packages (from scikit-learn->pyLDAvis) (3.0.0)\n"
          ]
        }
      ],
      "source": [
        "!pip3 install --upgrade pandas\n",
        "!pip install pyLDAvis"
      ]
    },
    {
      "cell_type": "code",
      "execution_count": 2,
      "metadata": {
        "colab": {
          "base_uri": "https://localhost:8080/"
        },
        "id": "3OHKMZXgiCVV",
        "outputId": "a7253144-b715-4c83-da84-239ab6037cc9"
      },
      "outputs": [
        {
          "output_type": "stream",
          "name": "stdout",
          "text": [
            "Mounted at /content/drive\n",
            "[nltk_data] Downloading package wordnet to /root/nltk_data...\n",
            "[nltk_data]   Unzipping corpora/wordnet.zip.\n",
            "[nltk_data] Downloading package stopwords to /root/nltk_data...\n",
            "[nltk_data]   Unzipping corpora/stopwords.zip.\n"
          ]
        },
        {
          "output_type": "stream",
          "name": "stderr",
          "text": [
            "/usr/local/lib/python3.7/dist-packages/past/types/oldstr.py:5: DeprecationWarning: Using or importing the ABCs from 'collections' instead of from 'collections.abc' is deprecated since Python 3.3,and in 3.9 it will stop working\n",
            "  from collections import Iterable\n",
            "/usr/local/lib/python3.7/dist-packages/past/builtins/misc.py:4: DeprecationWarning: Using or importing the ABCs from 'collections' instead of from 'collections.abc' is deprecated since Python 3.3,and in 3.9 it will stop working\n",
            "  from collections import Mapping\n",
            "/usr/local/lib/python3.7/dist-packages/scipy/sparse/sparsetools.py:21: DeprecationWarning: `scipy.sparse.sparsetools` is deprecated!\n",
            "scipy.sparse.sparsetools is a private module for scipy.sparse, and should not be used.\n",
            "  _deprecated()\n"
          ]
        }
      ],
      "source": [
        "from google.colab import drive\n",
        "drive.mount('/content/drive')\n",
        "PROJECT_ROOT = '/content/drive/MyDrive'\n",
        "\n",
        "import os \n",
        "os.chdir(PROJECT_ROOT)\n",
        "DATA_PATH = os.path.join(PROJECT_ROOT, 'Quotebank_limunADA')\n",
        "\n",
        "import pandas as pd\n",
        "\n",
        "import spacy\n",
        "spacy.load('en')\n",
        "from spacy.lang.en import English\n",
        "parser = English()\n",
        "\n",
        "import nltk\n",
        "nltk.download('wordnet')\n",
        "from nltk.corpus import wordnet as wn\n",
        "nltk.download('stopwords')\n",
        "en_stop = set(nltk.corpus.stopwords.words('english'))\n",
        "\n",
        "import pyLDAvis \n",
        "import pyLDAvis.gensim_models\n",
        "pyLDAvis.enable_notebook()\n",
        "\n",
        "import gensim\n",
        "from gensim import corpora\n",
        "import pickle\n",
        "import bz2\n",
        "import json\n",
        "\n",
        "import warnings\n",
        "warnings.filterwarnings(\"ignore\")\n",
        "\n",
        "NUM_TOPICS = 10\n"
      ]
    },
    {
      "cell_type": "markdown",
      "metadata": {
        "id": "gfg7EPeT6nL1"
      },
      "source": [
        "## Text preprocessing and LDA modeling"
      ]
    },
    {
      "cell_type": "code",
      "execution_count": 3,
      "metadata": {
        "id": "VPj8LYpOjIuA"
      },
      "outputs": [],
      "source": [
        "def tokenize(text):\n",
        "    \"\"\"\n",
        "    Function that performs tokenization of the given input text.\n",
        "    \"\"\"\n",
        "    lda_tokens = []\n",
        "    tokens = parser(text)\n",
        "\n",
        "    for token in tokens:\n",
        "        if token.orth_.isspace():\n",
        "            continue\n",
        "        elif token.like_url:\n",
        "            lda_tokens.append('URL')\n",
        "        elif token.orth_.startswith('@'):\n",
        "            lda_tokens.append('SCREEN_NAME')\n",
        "        else:\n",
        "            lda_tokens.append(token.lower_)\n",
        "\n",
        "    return lda_tokens\n",
        "\n",
        "\n",
        "def get_lemma(word):\n",
        "    \"\"\"\n",
        "    Function that performs lemmatization of the given word, using the \n",
        "    NLTK wordnet library.\n",
        "    \"\"\"\n",
        "    lemma = wn.morphy(word)\n",
        "    if lemma is None:\n",
        "        return word\n",
        "    else:\n",
        "        return lemma\n",
        "\n",
        "\n",
        "def prepare_text_for_lda(text):\n",
        "    \"\"\"\n",
        "    Given an input text, tokenize each word, remove stopwords and short tokens,\n",
        "    and finally lemmatize what has remained in the token list.\n",
        "    \"\"\"\n",
        "    tokens = tokenize(text)\n",
        "    tokens = [token for token in tokens if len(token) > 4]\n",
        "    tokens = [token for token in tokens if token not in en_stop]\n",
        "    tokens = [get_lemma(token) for token in tokens]\n",
        "    return tokens\n",
        "\n",
        "\n",
        "def get_tokens_per_quote(path_to_file, print_step=5e4):\n",
        "    \"\"\"\n",
        "    Function that reads the input bz2 file line by line, and performs \n",
        "    tokenization and lemmatization on each of the input lines.\n",
        "    Returns a dictionary of form: {quoteID: quote_tokenized_lemmatized}\n",
        "    \"\"\"\n",
        "    tokens_per_quote = {}\n",
        "    # Iterate through the quotes\n",
        "    with bz2.open(path_to_file, 'rb') as s_file:\n",
        "        for i, instance in enumerate(s_file):\n",
        "            if i % int(print_step) == 0:\n",
        "                print(f'Instance {i}')\n",
        "\n",
        "            # Loading a sample and preparing it for LDA fitting\n",
        "            instance = json.loads(instance) \n",
        "            tokens = prepare_text_for_lda(instance['quotation'])\n",
        "\n",
        "            tokens_per_quote[instance['quoteID']] = tokens \n",
        "    \n",
        "    return tokens_per_quote\n",
        "\n",
        "\n",
        "def get_dictionary_and_corpus(tokens_per_quote_list):\n",
        "    \"\"\"\n",
        "    Function that, given a list of tokens per quote, creates the corresponding \n",
        "    dictionary and corpus.\n",
        "    \"\"\"\n",
        "    \n",
        "    # List of all the words in text_data (unique, so more like a set)\n",
        "    dictionary = corpora.Dictionary(tokens_per_quote_list)\n",
        "\n",
        "    # Bag of Words representation of each of the lines \n",
        "    corpus = [dictionary.doc2bow(text) for text in tokens_per_quote_list]\n",
        "\n",
        "    return dictionary, corpus\n",
        "\n"
      ]
    },
    {
      "cell_type": "code",
      "execution_count": 4,
      "metadata": {
        "id": "3PbGw8mg8Age"
      },
      "outputs": [],
      "source": [
        "def generate_LDA_model(num_of_topics, party, year, load_corp_and_dict=False):\n",
        "    \"\"\"\n",
        "    Function that generates and saves the desired LDA model, for given \n",
        "    number of topics, party and year.\n",
        "    \"\"\"\n",
        "\n",
        "    quotes_path = os.path.join(DATA_PATH, f'quotes-{party}-{year}.json.bz2')\n",
        "    lda_path = os.path.join(\n",
        "        DATA_PATH, 'LDA', f'LDA_{party}_{year}_{num_of_topics}.pkl'\n",
        "        )\n",
        "    corpus_path = os.path.join(DATA_PATH, 'LDA', f'corpus_{party}_{year}.pkl')\n",
        "    dictionary_path = os.path.join(\n",
        "        DATA_PATH, 'LDA', f'dictionary_{party}_{year}.pkl'\n",
        "        )\n",
        "    \n",
        "    # Check if file already exists\n",
        "    if os.path.isfile(lda_path):\n",
        "        print(f'Model for {party}-{year} already exists.')\n",
        "        return \n",
        "\n",
        "\n",
        "    print(f'\\n=== Computing topcis for {party}-{year}===\\n')\n",
        "\n",
        "    # If the corpus and dictionary shouldn't be loaded, we generate and save it\n",
        "    if not load_corp_and_dict:\n",
        "        # Tokenization and lemmatization of input quotes\n",
        "        tokens_per_quote = get_tokens_per_quote(quotes_path)\n",
        "        tokens_per_quote_list = [\n",
        "            tokens for qid, tokens in tokens_per_quote.items()\n",
        "            ]\n",
        "\n",
        "        # Converting the tokens per quote into dictionary and corpus\n",
        "        print('\\nCreating dictionary and corpus...')\n",
        "        dictionary, corpus = \\\n",
        "            get_dictionary_and_corpus(tokens_per_quote_list)\n",
        "\n",
        "        # Saving the generated dictionary and corpus\n",
        "        pickle.dump(corpus, open(corpus_path, 'wb'))\n",
        "        pickle.dump(dictionary, open(dictionary_path, 'wb'))\n",
        "        print('Done')\n",
        "\n",
        "    # Otherwise, load the pre-computed dictionary and corpus\n",
        "    else:\n",
        "        print('\\nLoading corpus and dictionary...')\n",
        "        pickle.load(corpus, open(corpus_path, 'wb'))\n",
        "        pickle.load(dictionary, open(dictionary_path, 'wb'))\n",
        "        print('Done')\n",
        "\n",
        "    # Creating and fitting the LDA model\n",
        "    lda_model = gensim.models.ldamodel.LdaModel(\n",
        "        corpus, id2word=dictionary, num_topics=num_of_topics, passes=15\n",
        "        )\n",
        "    \n",
        "    # Saving it\n",
        "    pickle.dump(lda_model, open(lda_path, 'wb'))\n"
      ]
    },
    {
      "cell_type": "code",
      "execution_count": 5,
      "metadata": {
        "colab": {
          "base_uri": "https://localhost:8080/"
        },
        "id": "jUtOqRhl9HFo",
        "outputId": "d0ca81c0-502d-4385-cc1b-5b4ae0cccb22"
      },
      "outputs": [
        {
          "output_type": "stream",
          "name": "stdout",
          "text": [
            "Model for democrates-2015 already exists.\n",
            "Model for republicans-2015 already exists.\n",
            "Model for democrates-2016 already exists.\n",
            "Model for republicans-2016 already exists.\n",
            "Model for democrates-2017 already exists.\n",
            "Model for republicans-2017 already exists.\n",
            "Model for democrates-2018 already exists.\n",
            "Model for republicans-2018 already exists.\n",
            "Model for democrates-2019 already exists.\n",
            "Model for republicans-2019 already exists.\n",
            "Model for democrates-2020 already exists.\n",
            "Model for republicans-2020 already exists.\n"
          ]
        }
      ],
      "source": [
        "# Generating LDA models for all the available years in the dataset, \n",
        "# for both political parties\n",
        "YEARS = range(2015, 2020 + 1)\n",
        "PARTIES = ['democrates', 'republicans']\n",
        "num_of_topics = 8\n",
        "\n",
        "for year in YEARS:\n",
        "  for party in PARTIES:\n",
        "    generate_LDA_model(num_of_topics, party, year)"
      ]
    },
    {
      "cell_type": "code",
      "execution_count": 10,
      "metadata": {
        "id": "kX-xIeKU-T42"
      },
      "outputs": [],
      "source": [
        "def get_LDA_model(party, year, num_of_topics):\n",
        "    \"\"\"\n",
        "    Function that loads the desired LDA model\n",
        "    \"\"\"\n",
        "    lda_path = os.path.join(\n",
        "        DATA_PATH, 'LDA', f'LDA_{party}_{year}_{num_of_topics}.pkl'\n",
        "        )\n",
        "    lda_model = pickle.load(open(lda_path, 'rb'))\n",
        "\n",
        "    return lda_model\n",
        "\n",
        "\n",
        "def get_LDA_display_model(party, year, num_of_topics):\n",
        "    \"\"\"\n",
        "    Function that returns the model used for visualizing LTA results.\n",
        "    \"\"\"\n",
        "\n",
        "    print(f'\\nComputing LDA display model for {party}-{year}')\n",
        "\n",
        "    corpus_path = os.path.join(DATA_PATH, 'LDA', f'corpus_{party}_{year}.pkl')\n",
        "    dictionary_path = os.path.join(\n",
        "        DATA_PATH, 'LDA', f'dictionary_{party}_{year}.pkl'\n",
        "        )\n",
        "    lda_path = os.path.join(\n",
        "        DATA_PATH, 'LDA', f'LDA_{party}_{year}_{num_of_topics}.pkl'\n",
        "        )\n",
        "\n",
        "    # Load corpus\n",
        "    corpus = pickle.load(open(corpus_path, 'rb'))\n",
        "\n",
        "    # Load dictionary\n",
        "    dictionary = pickle.load(open(dictionary_path, 'rb'))\n",
        "\n",
        "    # Load LDA model\n",
        "    lda_model = pickle.load(open(lda_path, 'rb'))\n",
        "\n",
        "    # Prepare LDA model to be displayed\n",
        "    lda_display = pyLDAvis.gensim_models.prepare(\n",
        "        lda_model, corpus, dictionary, sort_topics=False\n",
        "        )\n",
        "\n",
        "    print('Done')\n",
        "\n",
        "    return lda_display\n"
      ]
    },
    {
      "cell_type": "code",
      "execution_count": 12,
      "metadata": {
        "colab": {
          "base_uri": "https://localhost:8080/"
        },
        "id": "DG8pGP1W-T7J",
        "outputId": "27ea7256-c316-4437-b46c-f65791ac407e"
      },
      "outputs": [
        {
          "output_type": "stream",
          "name": "stdout",
          "text": [
            "Computing LDA display model for democrates-2019\n",
            "democrates-2019 done\n",
            "Computing LDA display model for republicans-2019\n",
            "republicans-2019 done\n"
          ]
        }
      ],
      "source": [
        "# Preparing LDA models to be displayed\n",
        "parties_to_display = ['democrates', 'republicans']\n",
        "years_to_display = [2019]\n",
        "\n",
        "num_of_topics = 8\n",
        "lda_display = {}\n",
        "\n",
        "for party in parties_to_display:\n",
        "    lda_display[party] = {}\n",
        "\n",
        "    for year in years_to_display:\n",
        "        lda_display[party][year] = get_LDA_display_model(\n",
        "            party, year, num_of_topics\n",
        "            )\n"
      ]
    },
    {
      "cell_type": "markdown",
      "metadata": {
        "id": "61khhz-REZD_"
      },
      "source": [
        "## Displaying and analyzing LDA results for the year of 2019\n",
        "\n",
        "In the following cells, we visualize the results of our LDA models for the year 2019. After observing and analyzing the keywords per topic, we try to categorize the clusters, i.e. interpret and explain what each topic represents.\n",
        "\n",
        "**NOTE** - the plots below are interactive, so maybe it's not completely informative when looking at a pre-compiled notebook, but everything is explained and visualized in our datastory and report.\n"
      ]
    },
    {
      "cell_type": "markdown",
      "metadata": {
        "id": "AIUG4T-os29X"
      },
      "source": [
        "### Republicans 2019\n",
        "\n",
        "* Cluster 1: *Trade war with China*\n",
        "* Cluster 2: *Promisses*\n",
        "* Claster 3: *Mueller report* - Report On The Investigation Into Russian Interference In The 2016 Presidential Election\n",
        "  - https://en.wikipedia.org/wiki/Mueller_report\n",
        "* Cluster 4: *Ukraine affair; National Security*\n",
        "  - https://en.wikipedia.org/wiki/Trump%E2%80%93Ukraine_scandal\n",
        "* Cluster 5: *Political parties and political system*\n",
        "* Cluster 6: *Relations with Israel + Women and child rights*\n",
        "* Cluster 7: *Immigration and abortion law + Constitution and policy law making*  \n",
        "* Cluster 8: *Education and job opportunities*\n",
        "\n",
        "\n"
      ]
    },
    {
      "cell_type": "code",
      "execution_count": 14,
      "metadata": {
        "colab": {
          "base_uri": "https://localhost:8080/",
          "height": 861
        },
        "id": "WYEAvXTS-UIc",
        "outputId": "1a4a4514-bac0-480d-f440-736d22fe813c"
      },
      "outputs": [
        {
          "output_type": "execute_result",
          "data": {
            "text/html": [
              "\n",
              "<link rel=\"stylesheet\" type=\"text/css\" href=\"https://cdn.jsdelivr.net/gh/bmabey/pyLDAvis@3.3.1/pyLDAvis/js/ldavis.v1.0.0.css\">\n",
              "\n",
              "\n",
              "<div id=\"ldavis_el2621404326858357289352667929\"></div>\n",
              "<script type=\"text/javascript\">\n",
              "\n",
              "var ldavis_el2621404326858357289352667929_data = {\"mdsDat\": {\"x\": [0.008959649193863673, -0.20285467091515152, -0.22581336163940607, 0.2532298224120404, 0.066434622305556, 0.06436136422503481, -0.16932018184017245, 0.20500275625823455], \"y\": [-0.07548632362639907, 0.22854798598494822, -0.17279906053521843, -0.07116990484036784, 0.09238127997652831, 0.2904076185581526, -0.1630905896853369, -0.12879100583230702], \"topics\": [1, 2, 3, 4, 5, 6, 7, 8], \"cluster\": [1, 1, 1, 1, 1, 1, 1, 1], \"Freq\": [12.431494131311075, 14.22700984090713, 10.235543435739448, 12.758868841187907, 12.374396138624768, 9.865816282985291, 11.10620473492212, 17.00066659432225]}, \"tinfo\": {\"Term\": [\"think\", \"going\", \"president\", \"state\", \"trump\", \"people\", \"years\", \"great\", \"right\", \"really\", \"democrat\", \"unite\", \"things\", \"would\", \"house\", \"something\", \"american\", \"happen\", \"border\", \"thing\", \"world\", \"community\", \"country\", \"republican\", \"change\", \"family\", \"never\", \"decision\", \"believe\", \"always\", \"border\", \"trade\", \"dollar\", \"billion\", \"percent\", \"product\", \"agreement\", \"tariff\", \"SCREEN_NAME\", \"project\", \"crisis\", \"budget\", \"price\", \"secure\", \"taxpayer\", \"mexico\", \"priority\", \"spending\", \"tax\", \"patient\", \"amount\", \"option\", \"check\", \"majority\", \"southern\", \"pay\", \"negotiate\", \"facility\", \"available\", \"living\", \"problem\", \"china\", \"money\", \"market\", \"million\", \"increase\", \"build\", \"would\", \"security\", \"government\", \"company\", \"country\", \"federal\", \"include\", \"could\", \"think\", \"going\", \"really\", \"things\", \"something\", \"happen\", \"thing\", \"want\", \"little\", \"anything\", \"thought\", \"talking\", \"everything\", \"probably\", \"enough\", \"maybe\", \"whole\", \"certainly\", \"pretty\", \"look\", \"somebody\", \"conversation\", \"obviously\", \"remember\", \"stuff\", \"exactly\", \"folks\", \"quite\", \"speaker\", \"frankly\", \"never\", \"getting\", \"different\", \"start\", \"might\", \"would\", \"could\", \"actually\", \"people\", \"right\", \"better\", \"point\", \"saying\", \"report\", \"investigation\", \"information\", \"crime\", \"general\", \"justice\", \"involve\", \"mueller\", \"attorney\", \"release\", \"politics\", \"charge\", \"watch\", \"happening\", \"certain\", \"victim\", \"witness\", \"violence\", \"police\", \"collusion\", \"nobody\", \"listen\", \"officer\", \"speech\", \"case\", \"behavior\", \"hours\", \"heart\", \"counsel\", \"sound\", \"person\", \"special\", \"department\", \"criminal\", \"close\", \"office\", \"public\", \"individual\", \"would\", \"commit\", \"believe\", \"unite\", \"force\", \"military\", \"ukraine\", \"threat\", \"partner\", \"freedom\", \"obama\", \"defense\", \"private\", \"peace\", \"democracy\", \"south\", \"chinese\", \"syria\", \"international\", \"regime\", \"class\", \"customer\", \"turkey\", \"environment\", \"corruption\", \"sanction\", \"welcome\", \"venezuela\", \"value\", \"strategy\", \"allies\", \"clean\", \"terrorist\", \"world\", \"state\", \"america\", \"nation\", \"national\", \"security\", \"attack\", \"stand\", \"country\", \"american\", \"citizen\", \"government\", \"protect\", \"russia\", \"interest\", \"administration\", \"effort\", \"people\", \"continue\", \"president\", \"today\", \"support\", \"trump\", \"democrat\", \"house\", \"republican\", \"party\", \"nothing\", \"senate\", \"white\", \"impeachment\", \"donald\", \"everybody\", \"washington\", \"tough\", \"speak\", \"candidate\", \"vote\", \"senator\", \"voter\", \"anybody\", \"hearing\", \"night\", \"truth\", \"fighting\", \"table\", \"figure\", \"impeach\", \"early\", \"voice\", \"totally\", \"chairman\", \"president\", \"try\", \"election\", \"fight\", \"american\", \"congress\", \"campaign\", \"understand\", \"member\", \"people\", \"committee\", \"political\", \"medium\", \"country\", \"would\", \"history\", \"never\", \"years\", \"great\", \"three\", \"israel\", \"happy\", \"leave\", \"treat\", \"love\", \"incredible\", \"numbers\", \"beautiful\", \"street\", \"season\", \"minister\", \"throw\", \"play\", \"california\", \"kill\", \"produce\", \"wonderful\", \"michael\", \"prime\", \"movement\", \"dream\", \"plant\", \"palestinian\", \"driving\", \"bigger\", \"europe\", \"murder\", \"always\", \"coming\", \"child\", \"family\", \"times\", \"honor\", \"people\", \"woman\", \"story\", \"respect\", \"place\", \"every\", \"life\", \"number\", \"thousand\", \"along\", \"country\", \"around\", \"first\", \"world\", \"month\", \"bring\", \"decision\", \"question\", \"court\", \"whether\", \"foreign\", \"human\", \"evidence\", \"make\", \"sense\", \"space\", \"answer\", \"legal\", \"raise\", \"immigration\", \"emergency\", \"moment\", \"abortion\", \"constitution\", \"serious\", \"fact\", \"choice\", \"exist\", \"claim\", \"rule\", \"amendment\", \"discussion\", \"common\", \"parent\", \"couple\", \"ground\", \"believe\", \"right\", \"concern\", \"policy\", \"issue\", \"power\", \"process\", \"base\", \"matter\", \"would\", \"second\", \"community\", \"change\", \"opportunity\", \"school\", \"student\", \"focus\", \"county\", \"industry\", \"legislation\", \"local\", \"growth\", \"resource\", \"florida\", \"education\", \"agency\", \"proud\", \"improve\", \"worker\", \"reform\", \"development\", \"global\", \"veteran\", \"texas\", \"consumer\", \"social\", \"quality\", \"board\", \"abuse\", \"employee\", \"progress\", \"forward\", \"business\", \"provide\", \"ensure\", \"future\", \"program\", \"continue\", \"working\", \"need\", \"important\", \"level\", \"impact\", \"state\", \"support\", \"health\", \"federal\", \"public\", \"family\", \"economic\", \"issue\", \"economy\", \"system\"], \"Freq\": [60924.0, 58404.0, 57414.0, 51864.0, 33896.0, 78355.0, 25777.0, 24532.0, 34029.0, 25665.0, 18480.0, 18480.0, 19319.0, 56282.0, 16151.0, 16649.0, 29494.0, 15557.0, 14275.0, 14938.0, 17658.0, 15178.0, 32195.0, 12216.0, 14369.0, 15776.0, 17836.0, 11177.0, 14702.0, 11934.0, 14274.818800115976, 9143.54986293943, 6764.825249210936, 6565.832413059883, 6402.293056213307, 5792.862467770769, 5672.47157243845, 5302.678215679611, 4901.596585859828, 4764.63037407217, 4746.526887024045, 4446.1801759591335, 4414.040740119352, 4035.730656440292, 3604.537084054373, 3437.6868216703956, 3403.965085991985, 3345.519621154295, 3294.2227469360973, 3273.5579267332246, 3153.698517836537, 3075.400759844988, 2867.4609084933513, 2851.9550368843265, 2848.139513413758, 2825.5813463291133, 2809.173124502248, 2775.5239533925396, 2686.449768587276, 2626.482801252301, 8907.092136087645, 9463.481162735825, 9297.574239744983, 6145.939693586896, 7502.06557759359, 5541.839659137167, 4860.679582893407, 9771.587183520069, 4578.026074882766, 5171.325755823156, 4170.290862474317, 5074.168858666694, 3992.408432202062, 3732.305638698739, 3928.8308872729895, 60923.38462803252, 58403.889779541496, 25664.483769231523, 19318.363259279253, 16648.295209390843, 15556.462635271462, 14937.345306117188, 11772.00511934454, 9369.374273409589, 8806.105564180229, 7519.7365185364215, 7484.787027309599, 7367.868708655565, 6554.347331521464, 6132.861144794908, 5806.700158871918, 5638.374122417466, 5346.852442401576, 4954.768322616536, 4932.083944979891, 4458.877610666336, 4199.191897452371, 3350.4894001117414, 3286.929689850771, 3056.232163889777, 3035.65332061227, 2902.828914231618, 2880.616772421817, 2726.0488689112367, 2709.8323714182097, 13496.640883729251, 8076.774138875645, 7005.231545149194, 8240.10937882548, 5025.469028631726, 27740.559949756655, 13561.376694623616, 6854.740042345433, 27111.4287072704, 12629.079926957484, 7607.919376905654, 6297.42006807552, 5266.39503895629, 9078.850211559544, 7955.376443558225, 7802.098670896989, 7191.240506309715, 6855.150185496071, 6564.593127995422, 5444.163522984303, 5042.953433762219, 4723.604071671574, 3973.4720592672243, 3928.6596289474514, 3819.7147001387216, 3773.841043467814, 3770.917665217518, 3455.689194253009, 3411.8908390222696, 3346.1180579291085, 3278.223147087527, 3262.0738398177464, 3048.770895731987, 2971.4906230552474, 2902.420160199628, 2866.516411832398, 2808.638237602746, 2749.853531916114, 2567.631666355376, 2533.939344476094, 2514.3890102118517, 2426.8796587668007, 2418.0056943531345, 5329.195827826726, 3828.338536795555, 4805.560070188768, 3368.2187587468848, 4182.447421762841, 4681.218962488481, 4836.5901220054875, 3562.346640942114, 6544.378154707858, 3341.9916765875228, 3262.1471503416988, 18479.22483862632, 8010.2891234885765, 7286.214905994577, 5205.329819096094, 5024.19129877254, 4888.940962055439, 4812.511782473064, 4287.006574247001, 4032.4923700832105, 3784.8967391329215, 3419.2038894717016, 3402.754061783464, 3326.1501666899367, 3222.3069559539276, 3153.434624799181, 3123.4614542345025, 2902.3396514970736, 2833.172035025668, 2810.357772144899, 2744.75149385185, 2654.346079803066, 2635.9761930585155, 2561.001298692815, 2540.938805112691, 2508.4050861409096, 2504.570805297666, 2499.3333656661266, 2495.365834052857, 2387.31314695196, 2325.3279885271427, 13636.3862275781, 34029.712082044665, 10984.866593866735, 8981.312846597843, 7987.820869782543, 7637.6346255915205, 4891.89019208931, 5583.665791668009, 13108.231704193298, 11656.203296632759, 4308.623391763894, 7582.634665765217, 5445.935219319092, 3907.353391646308, 4911.946244544599, 4549.981195881692, 4415.8544328780135, 8428.734382978953, 5389.660319345741, 5340.010116265289, 4148.487769246389, 4065.2970188683685, 33895.48884823057, 18479.481703663467, 16150.595345779078, 12215.456359357804, 11157.41649158721, 8992.620077215961, 8502.478921985356, 8191.221457049037, 7793.393437908529, 6075.318200091775, 5596.039457877752, 4671.2299886720675, 4280.216697858775, 4276.049929169189, 4232.526093627314, 4081.736075961445, 3904.9884793235237, 3830.0057744388837, 3767.3012156357095, 3746.6352611061207, 3464.671679344674, 3335.354654334459, 3315.557817786787, 3293.7810633207405, 2919.5500268725586, 2879.0528771329396, 2778.0179117350917, 2717.4869287653996, 2531.8215022685504, 2449.1139549435566, 52074.13235131775, 10055.692708143299, 8800.075695119649, 5539.067329537518, 13183.296929652004, 7770.627700581658, 5679.974936942696, 5498.80561472292, 5650.889548378041, 15413.466165309994, 4744.102368897112, 5222.514726204632, 4475.435199028829, 6601.027598771019, 5763.236517698211, 4417.750909323358, 4339.500617560613, 25777.024381242292, 24531.75225764094, 7769.896592765887, 5081.622737013765, 4405.934147567427, 3626.453996340045, 3391.390666427913, 3258.5945202398007, 2813.522820810445, 2754.895745024043, 2669.131813714004, 2565.743370083632, 2372.5669732638726, 2270.2429794529817, 2231.676090094978, 2177.800983520241, 2162.435333640343, 2125.5606066507257, 1947.1440929763394, 1936.6024755141914, 1907.9982076644728, 1876.7535937498797, 1783.972916312944, 1765.081928165573, 1741.2861283262428, 1710.432492324581, 1684.607405053405, 1682.8632575644294, 1617.1879955482605, 1602.0484965073304, 10407.015844706062, 6073.142101630953, 7327.652634866044, 9855.79488706848, 4558.1590321772655, 3429.5300015156845, 27401.74430480113, 6421.160382514382, 3610.3233558383085, 4148.961423988229, 6753.749355091802, 8111.890825423962, 3709.7736931179697, 3908.8141360554023, 2885.24890183263, 3016.13031462708, 7411.226031483968, 4112.057280268698, 4896.011576036336, 4020.909309164027, 3130.6417063345675, 3281.2208105099567, 11176.666358002725, 9599.291439481362, 8819.447659076235, 8736.722099192402, 5615.09514572477, 5608.3950173530075, 5090.610007888468, 4823.818395222512, 4496.030734189702, 4313.994694151178, 4251.722397482549, 4222.986135610266, 4207.789950106002, 3894.0084308561954, 3756.5377059682455, 3751.207389406379, 3713.124238200411, 3673.562643396092, 3595.5145580680273, 3486.1160394422946, 3404.5517884195506, 3377.0350059789475, 3374.027657564383, 3372.77769114691, 3334.0823472492334, 3030.1239450766893, 3013.74157052753, 3008.244802031741, 2938.6298725264105, 2765.8287609944377, 11439.734002875442, 21399.349375307054, 7025.245793350793, 7658.321019051654, 8637.450866651603, 5467.741381063346, 5983.728359216404, 4150.933473729508, 4168.33979049113, 6462.583590375279, 3569.4190999305556, 15177.711158511152, 14369.091697943612, 10519.857728534576, 8426.527987625235, 6726.752990045113, 6083.4089811235535, 5896.979730697535, 5852.4648128722265, 5681.1772966982335, 5649.458935919698, 4948.856020142093, 4799.2522741751245, 4798.399384935337, 4725.6007288487, 4566.836201474755, 4482.359399702953, 3992.5587877053554, 3840.9381464292037, 3578.886586483692, 3539.0140145236287, 3436.535081096551, 3427.64706332381, 3423.9563058305034, 3370.2535179777105, 3126.1016356970335, 3093.286319889966, 3083.8551886862283, 3024.976865091241, 2969.3108227619564, 2917.4417467747066, 10115.686928007475, 10449.651533891896, 9472.70714033989, 6848.718833376352, 8008.41164341512, 6521.238867755951, 13536.887436058478, 9178.497901196102, 8376.211277336064, 9240.356509455403, 5629.084538438662, 4932.0524928933, 17833.66832894189, 9038.34084227435, 5761.886366381818, 5982.725138162481, 6443.769167958579, 5920.023296013277, 5077.59348219225, 5652.275079635977, 5132.118315806033, 5165.155168252114], \"Total\": [60924.0, 58404.0, 57414.0, 51864.0, 33896.0, 78355.0, 25777.0, 24532.0, 34029.0, 25665.0, 18480.0, 18480.0, 19319.0, 56282.0, 16151.0, 16649.0, 29494.0, 15557.0, 14275.0, 14938.0, 17658.0, 15178.0, 32195.0, 12216.0, 14369.0, 15776.0, 17836.0, 11177.0, 14702.0, 11934.0, 14275.690024225956, 9144.42113016639, 6765.696468230151, 6566.703449606387, 6403.164496376784, 5793.733864401862, 5673.342919418969, 5303.549185321582, 4902.468270433605, 4765.5018292837885, 4747.398158601492, 4447.051368004791, 4414.912115621722, 4036.602055267574, 3605.408387416544, 3438.5579309785403, 3404.8366236869742, 3346.390903852169, 3295.0940098417936, 3274.4291790184225, 3154.569854935855, 3076.2723243682503, 2868.3325200875647, 2852.8269561316806, 2849.0107229540677, 2826.4526061660245, 2810.044416950492, 2776.3954592691334, 2687.3213560402246, 2627.354772646215, 11083.863168069298, 12329.707510617998, 12249.900839852262, 7822.650190101218, 10256.310519888413, 7589.138763965735, 7621.675395825684, 56282.71889962679, 12216.406843851433, 19128.584312464223, 9481.907322339595, 32195.150482210083, 9975.883757944492, 9622.589910494264, 22382.89465090416, 60924.258628721596, 58404.763847076756, 25665.35781325109, 19319.237349545434, 16649.169192909114, 15557.33659101077, 14938.219387247285, 11772.879269452307, 9370.248357741513, 8806.979556891496, 7520.610586658696, 7485.661062187718, 7368.742914177606, 6555.221306896575, 6133.735408224813, 5807.574093575827, 5639.248245000567, 5347.726714586103, 4955.642297748869, 4932.9580943606525, 4459.751533139022, 4200.066196492594, 3351.3636231572655, 3287.8039602329955, 3057.1061240565487, 3036.527700599173, 2903.7032519222334, 2881.4908615594277, 2726.923571798326, 2710.7066532550293, 17836.89216005214, 9829.093930083684, 8508.670632821591, 10532.428610342819, 5872.767848320197, 56282.71889962679, 22382.89465090416, 9575.080102963488, 78355.87252327662, 34029.177596679736, 15029.340731159475, 9830.295330090208, 6575.211999190142, 9079.717772006608, 7956.244017795837, 7802.966385172122, 7192.108106542567, 6856.017892653637, 6565.460720125866, 5445.03149290402, 5043.820792858663, 4724.471457353538, 3974.3399682364734, 3929.527568377649, 3820.5823142620197, 3774.708990983826, 3771.7856809067657, 3456.5570765940747, 3412.75858349145, 3346.9858617902423, 3279.091021626147, 3262.941430654348, 3049.6382724631735, 2972.3584840764915, 2903.2882208510955, 2867.384038680466, 2809.506155373729, 2750.7214116986047, 2568.499586721359, 2534.807265741216, 2515.2568556192173, 2427.746991654376, 2418.8736586411924, 8563.090939290936, 5061.771300938932, 8172.0466929714985, 4310.7553878991375, 6527.5970501724005, 8530.00380125136, 13681.553604037164, 5712.684483834755, 56282.71889962679, 5776.7835761164715, 14702.623225170068, 18480.09453215047, 8011.159194223217, 7287.084826163066, 5206.1997302118625, 5025.061132271793, 4889.810955750129, 4813.381596101702, 4287.876821910853, 4033.3625167834675, 3785.766683443299, 3420.0737948225833, 3403.623818033412, 3327.020258196592, 3223.1768416948644, 3154.3043114018046, 3124.3314037599202, 2903.2092879153347, 2834.0421157020987, 2811.2281457482277, 2745.6211504037324, 2655.2162055077665, 2636.846008193208, 2561.8710252952615, 2541.8090118975288, 2509.2745737566247, 2505.441011462614, 2500.20350230003, 2496.2354959845497, 2388.1835547737005, 2326.197710965839, 17658.039057517137, 51864.12913143162, 14005.041260997024, 11562.437983328107, 10210.640244443448, 12216.406843851433, 6481.931125177528, 7981.664116661566, 32195.150482210083, 29494.8989171594, 6071.582627968438, 19128.584312464223, 11545.416594366488, 5860.65050040956, 10513.497989206962, 9548.758964371349, 8853.823827721055, 78355.87252327662, 20737.564333247843, 57414.88893756673, 16023.674641587226, 17182.969373102336, 33896.360387570916, 18480.353151968153, 16151.466835061368, 12216.327741528869, 11158.288110152182, 8993.491731241716, 8503.350467815048, 8192.09296553301, 7794.264784911096, 6076.189488431278, 5596.911220492014, 4672.1018057655, 4281.088511320924, 4276.921785147344, 4233.397655159674, 4082.607623621261, 3905.8603596088024, 3830.877295387259, 3768.173023559491, 3747.5071025804805, 3465.5435354232045, 3336.2262787662403, 3316.429621367667, 3294.6529915993106, 2920.4221059908077, 2879.924112390351, 2778.88996231472, 2718.3587222391157, 2532.693371746061, 2449.9856109669176, 57414.88893756673, 13283.871055793757, 11613.977554682071, 7407.9938811838165, 29494.8989171594, 13284.108023048815, 8197.762792358506, 9051.777290306834, 9591.99537945023, 78355.87252327662, 6921.765452832255, 10604.267070626445, 6495.672173554207, 32195.150482210083, 56282.71889962679, 8315.996384689135, 17836.89216005214, 25777.893106063737, 24532.620872385993, 7770.765213843785, 5082.491436671413, 4406.802566524423, 3627.322641906338, 3392.2594407419483, 3259.46292868944, 2814.3913430203625, 2755.764457068343, 2670.0002226175857, 2566.612016001846, 2373.4354938429324, 2271.111471847176, 2232.5447203013255, 2178.669556236737, 2163.3039581685725, 2126.4291235623446, 1948.0130353997788, 1937.4708058526378, 1908.86707036017, 1877.6219401618357, 1784.8415771191164, 1765.9504516562133, 1742.1547634524968, 1711.3011571072304, 1685.4762148571156, 1683.7318934276682, 1618.0567248295986, 1602.917090947616, 11934.009182526084, 8337.10692453307, 10655.661216234825, 15776.565504330138, 5947.145649464851, 4151.9676164633165, 78355.87252327662, 10502.196878747769, 4938.4061908036, 6209.252447060559, 13531.417970638164, 18184.41734760064, 5831.801910458864, 7058.216896645016, 3870.748443141046, 4327.722752728969, 32195.150482210083, 9949.982619866585, 17436.9248521827, 17658.039057517137, 6438.816257185432, 10515.753019914715, 11177.535625303326, 9600.160544708933, 8820.316694832847, 8737.591324033783, 5615.964524727472, 5609.264069037146, 5091.479236051504, 4824.687751234807, 4496.899975068893, 4314.86392700885, 4252.591547583451, 4223.8553228807905, 4208.659315847222, 3894.8778071807455, 3757.40695520831, 3752.076757926526, 3713.9931514887794, 3674.431653482092, 3596.3837718080945, 3486.985221531201, 3405.421083423044, 3377.9044153542677, 3374.8971052652355, 3373.646996829557, 3334.9513410815252, 3030.993209308708, 3014.61081378243, 3009.1141384083044, 2939.499316716453, 2766.6980977463786, 14702.623225170068, 34029.177596679736, 9218.41640480097, 12627.83174183404, 16597.255472261655, 8357.3175438073, 11692.74999614203, 6074.50100518332, 6837.908897520378, 56282.71889962679, 4933.238705865498, 15178.584932949801, 14369.965713955935, 10520.731558324951, 8427.401632523713, 6727.626605252394, 6084.2829912564985, 5897.8534281077345, 5853.338501399583, 5682.051165254211, 5650.332562617447, 4949.7295889847055, 4800.126082401183, 4799.273076496599, 4726.474190497107, 4567.710098735827, 4483.233215449537, 3993.4324053402433, 3841.81206709706, 3579.760617593333, 3539.8876270986307, 3437.4091628028527, 3428.5207270632714, 3424.8301501959895, 3371.1273799085857, 3126.9761968478065, 3094.159963087625, 3084.729106842544, 3025.8512107448314, 2970.1845806083134, 2918.315612603065, 11297.843471194501, 12737.10042281161, 11748.685613452051, 7993.906390992855, 9737.02362680814, 7839.278888784886, 20737.564333247843, 13088.87998179703, 12707.570522379436, 15116.236529760465, 7303.480701278049, 6003.913379835407, 51864.12913143162, 17182.969373102336, 8976.644504458522, 9975.883757944492, 13681.553604037164, 15776.565504330138, 7228.286182758402, 16597.255472261655, 8938.824050892094, 10902.40272947283], \"Category\": [\"Default\", \"Default\", \"Default\", \"Default\", \"Default\", \"Default\", \"Default\", \"Default\", \"Default\", \"Default\", \"Default\", \"Default\", \"Default\", \"Default\", \"Default\", \"Default\", \"Default\", \"Default\", \"Default\", \"Default\", \"Default\", \"Default\", \"Default\", \"Default\", \"Default\", \"Default\", \"Default\", \"Default\", \"Default\", \"Default\", \"Topic1\", \"Topic1\", \"Topic1\", \"Topic1\", \"Topic1\", \"Topic1\", \"Topic1\", \"Topic1\", \"Topic1\", \"Topic1\", \"Topic1\", \"Topic1\", \"Topic1\", \"Topic1\", \"Topic1\", \"Topic1\", \"Topic1\", \"Topic1\", \"Topic1\", \"Topic1\", \"Topic1\", \"Topic1\", \"Topic1\", \"Topic1\", \"Topic1\", \"Topic1\", \"Topic1\", \"Topic1\", \"Topic1\", \"Topic1\", \"Topic1\", \"Topic1\", \"Topic1\", \"Topic1\", \"Topic1\", \"Topic1\", \"Topic1\", \"Topic1\", \"Topic1\", \"Topic1\", \"Topic1\", \"Topic1\", \"Topic1\", \"Topic1\", \"Topic1\", \"Topic2\", \"Topic2\", \"Topic2\", \"Topic2\", \"Topic2\", \"Topic2\", \"Topic2\", \"Topic2\", \"Topic2\", \"Topic2\", \"Topic2\", \"Topic2\", \"Topic2\", \"Topic2\", \"Topic2\", \"Topic2\", \"Topic2\", \"Topic2\", \"Topic2\", \"Topic2\", \"Topic2\", \"Topic2\", \"Topic2\", \"Topic2\", \"Topic2\", \"Topic2\", \"Topic2\", \"Topic2\", \"Topic2\", \"Topic2\", \"Topic2\", \"Topic2\", \"Topic2\", \"Topic2\", \"Topic2\", \"Topic2\", \"Topic2\", \"Topic2\", \"Topic2\", \"Topic2\", \"Topic2\", \"Topic2\", \"Topic2\", \"Topic3\", \"Topic3\", \"Topic3\", \"Topic3\", \"Topic3\", \"Topic3\", \"Topic3\", \"Topic3\", \"Topic3\", \"Topic3\", \"Topic3\", \"Topic3\", \"Topic3\", \"Topic3\", \"Topic3\", \"Topic3\", \"Topic3\", \"Topic3\", \"Topic3\", \"Topic3\", \"Topic3\", \"Topic3\", \"Topic3\", \"Topic3\", \"Topic3\", \"Topic3\", \"Topic3\", \"Topic3\", \"Topic3\", \"Topic3\", \"Topic3\", \"Topic3\", \"Topic3\", \"Topic3\", \"Topic3\", \"Topic3\", \"Topic3\", \"Topic3\", \"Topic3\", \"Topic3\", \"Topic3\", \"Topic4\", \"Topic4\", \"Topic4\", \"Topic4\", \"Topic4\", \"Topic4\", \"Topic4\", \"Topic4\", \"Topic4\", \"Topic4\", \"Topic4\", \"Topic4\", \"Topic4\", \"Topic4\", \"Topic4\", \"Topic4\", \"Topic4\", \"Topic4\", \"Topic4\", \"Topic4\", \"Topic4\", \"Topic4\", \"Topic4\", \"Topic4\", \"Topic4\", \"Topic4\", \"Topic4\", \"Topic4\", \"Topic4\", \"Topic4\", \"Topic4\", \"Topic4\", \"Topic4\", \"Topic4\", \"Topic4\", \"Topic4\", \"Topic4\", \"Topic4\", \"Topic4\", \"Topic4\", \"Topic4\", \"Topic4\", \"Topic4\", \"Topic4\", \"Topic4\", \"Topic4\", \"Topic4\", \"Topic4\", \"Topic4\", \"Topic4\", \"Topic4\", \"Topic4\", \"Topic5\", \"Topic5\", \"Topic5\", \"Topic5\", \"Topic5\", \"Topic5\", \"Topic5\", \"Topic5\", \"Topic5\", \"Topic5\", \"Topic5\", \"Topic5\", \"Topic5\", \"Topic5\", \"Topic5\", \"Topic5\", \"Topic5\", \"Topic5\", \"Topic5\", \"Topic5\", \"Topic5\", \"Topic5\", \"Topic5\", \"Topic5\", \"Topic5\", \"Topic5\", \"Topic5\", \"Topic5\", \"Topic5\", \"Topic5\", \"Topic5\", \"Topic5\", \"Topic5\", \"Topic5\", \"Topic5\", \"Topic5\", \"Topic5\", \"Topic5\", \"Topic5\", \"Topic5\", \"Topic5\", \"Topic5\", \"Topic5\", \"Topic5\", \"Topic5\", \"Topic5\", \"Topic5\", \"Topic6\", \"Topic6\", \"Topic6\", \"Topic6\", \"Topic6\", \"Topic6\", \"Topic6\", \"Topic6\", \"Topic6\", \"Topic6\", \"Topic6\", \"Topic6\", \"Topic6\", \"Topic6\", \"Topic6\", \"Topic6\", \"Topic6\", \"Topic6\", \"Topic6\", \"Topic6\", \"Topic6\", \"Topic6\", \"Topic6\", \"Topic6\", \"Topic6\", \"Topic6\", \"Topic6\", \"Topic6\", \"Topic6\", \"Topic6\", \"Topic6\", \"Topic6\", \"Topic6\", \"Topic6\", \"Topic6\", \"Topic6\", \"Topic6\", \"Topic6\", \"Topic6\", \"Topic6\", \"Topic6\", \"Topic6\", \"Topic6\", \"Topic6\", \"Topic6\", \"Topic6\", \"Topic6\", \"Topic6\", \"Topic6\", \"Topic6\", \"Topic6\", \"Topic6\", \"Topic7\", \"Topic7\", \"Topic7\", \"Topic7\", \"Topic7\", \"Topic7\", \"Topic7\", \"Topic7\", \"Topic7\", \"Topic7\", \"Topic7\", \"Topic7\", \"Topic7\", \"Topic7\", \"Topic7\", \"Topic7\", \"Topic7\", \"Topic7\", \"Topic7\", \"Topic7\", \"Topic7\", \"Topic7\", \"Topic7\", \"Topic7\", \"Topic7\", \"Topic7\", \"Topic7\", \"Topic7\", \"Topic7\", \"Topic7\", \"Topic7\", \"Topic7\", \"Topic7\", \"Topic7\", \"Topic7\", \"Topic7\", \"Topic7\", \"Topic7\", \"Topic7\", \"Topic7\", \"Topic7\", \"Topic8\", \"Topic8\", \"Topic8\", \"Topic8\", \"Topic8\", \"Topic8\", \"Topic8\", \"Topic8\", \"Topic8\", \"Topic8\", \"Topic8\", \"Topic8\", \"Topic8\", \"Topic8\", \"Topic8\", \"Topic8\", \"Topic8\", \"Topic8\", \"Topic8\", \"Topic8\", \"Topic8\", \"Topic8\", \"Topic8\", \"Topic8\", \"Topic8\", \"Topic8\", \"Topic8\", \"Topic8\", \"Topic8\", \"Topic8\", \"Topic8\", \"Topic8\", \"Topic8\", \"Topic8\", \"Topic8\", \"Topic8\", \"Topic8\", \"Topic8\", \"Topic8\", \"Topic8\", \"Topic8\", \"Topic8\", \"Topic8\", \"Topic8\", \"Topic8\", \"Topic8\", \"Topic8\", \"Topic8\", \"Topic8\", \"Topic8\", \"Topic8\", \"Topic8\"], \"logprob\": [30.0, 29.0, 28.0, 27.0, 26.0, 25.0, 24.0, 23.0, 22.0, 21.0, 20.0, 19.0, 18.0, 17.0, 16.0, 15.0, 14.0, 13.0, 12.0, 11.0, 10.0, 9.0, 8.0, 7.0, 6.0, 5.0, 4.0, 3.0, 2.0, 1.0, -4.0777, -4.5231, -4.8244, -4.8543, -4.8795, -4.9795, -5.0005, -5.068, -5.1466, -5.175, -5.1788, -5.2441, -5.2514, -5.341, -5.454, -5.5014, -5.5112, -5.5286, -5.544, -5.5503, -5.5876, -5.6127, -5.6827, -5.6882, -5.6895, -5.6975, -5.7033, -5.7153, -5.748, -5.7705, -4.5493, -4.4887, -4.5064, -4.9204, -4.721, -5.0238, -5.155, -4.4567, -5.2149, -5.093, -5.3082, -5.112, -5.3518, -5.4191, -5.3678, -2.7615, -2.8037, -3.626, -3.91, -4.0588, -4.1266, -4.1672, -4.4054, -4.6336, -4.6956, -4.8536, -4.8582, -4.874, -4.991, -5.0574, -5.1121, -5.1415, -5.1946, -5.2707, -5.2753, -5.3762, -5.4362, -5.662, -5.6811, -5.7539, -5.7607, -5.8054, -5.8131, -5.8682, -5.8742, -4.2686, -4.7821, -4.9244, -4.7621, -5.2566, -3.5482, -4.2639, -4.9461, -3.5711, -4.3351, -4.8419, -5.0309, -5.2097, -4.3359, -4.468, -4.4874, -4.5689, -4.6168, -4.6601, -4.8473, -4.9238, -4.9892, -5.1622, -5.1735, -5.2016, -5.2137, -5.2145, -5.3018, -5.3145, -5.334, -5.3545, -5.3594, -5.4271, -5.4527, -5.4763, -5.4887, -5.5091, -5.5303, -5.5988, -5.612, -5.6198, -5.6552, -5.6589, -4.8686, -5.1994, -4.972, -5.3274, -5.1109, -4.9982, -4.9656, -5.2714, -4.6632, -5.3352, -5.3594, -3.8455, -4.6814, -4.7762, -5.1125, -5.1479, -5.1752, -5.1909, -5.3066, -5.3678, -5.4311, -5.5328, -5.5376, -5.5604, -5.5921, -5.6137, -5.6232, -5.6966, -5.7208, -5.7289, -5.7525, -5.786, -5.7929, -5.8218, -5.8296, -5.8425, -5.844, -5.8461, -5.8477, -5.892, -5.9183, -4.1494, -3.2349, -4.3656, -4.567, -4.6842, -4.7291, -5.1746, -5.0423, -4.1889, -4.3063, -5.3015, -4.7363, -5.0673, -5.3993, -5.1705, -5.247, -5.277, -4.6305, -5.0777, -5.0869, -5.3394, -5.3597, -3.2083, -3.8149, -3.9496, -4.2289, -4.3195, -4.5352, -4.5912, -4.6285, -4.6783, -4.9273, -5.0095, -5.1901, -5.2776, -5.2785, -5.2888, -5.325, -5.3693, -5.3887, -5.4052, -5.4107, -5.489, -5.527, -5.5329, -5.5395, -5.6601, -5.6741, -5.7098, -5.7319, -5.8026, -5.8358, -2.7789, -4.4234, -4.5568, -5.0197, -4.1526, -4.6812, -4.9946, -5.027, -4.9998, -3.9963, -5.1747, -5.0786, -5.233, -4.8443, -4.9801, -5.2459, -5.2638, -3.2555, -3.305, -4.4548, -4.8794, -5.0221, -5.2168, -5.2838, -5.3237, -5.4706, -5.4916, -5.5233, -5.5628, -5.641, -5.6851, -5.7023, -5.7267, -5.7338, -5.751, -5.8387, -5.8441, -5.859, -5.8755, -5.9262, -5.9368, -5.9504, -5.9683, -5.9835, -5.9845, -6.0243, -6.0337, -4.1625, -4.7011, -4.5134, -4.217, -4.9881, -5.2726, -3.1944, -4.6454, -5.2212, -5.0822, -4.5949, -4.4117, -5.194, -5.1418, -5.4454, -5.401, -4.502, -5.0911, -4.9166, -5.1135, -5.3638, -5.3168, -4.2096, -4.3618, -4.4465, -4.4559, -4.898, -4.8992, -4.996, -5.0499, -5.1202, -5.1616, -5.1761, -5.1829, -5.1865, -5.264, -5.2999, -5.3014, -5.3116, -5.3223, -5.3438, -5.3747, -5.3983, -5.4064, -5.4073, -5.4077, -5.4192, -5.5148, -5.5203, -5.5221, -5.5455, -5.6061, -4.1864, -3.5601, -4.6739, -4.5877, -4.4673, -4.9246, -4.8344, -5.2001, -5.1959, -4.7574, -5.351, -4.3294, -4.3841, -4.6959, -4.9178, -5.1431, -5.2436, -5.2748, -5.2823, -5.312, -5.3176, -5.45, -5.4807, -5.4809, -5.4962, -5.5304, -5.549, -5.6648, -5.7035, -5.7741, -5.7853, -5.8147, -5.8173, -5.8184, -5.8342, -5.9094, -5.92, -5.923, -5.9423, -5.9609, -5.9785, -4.7351, -4.7026, -4.8008, -5.1251, -4.9687, -5.1741, -4.4438, -4.8323, -4.9238, -4.8256, -5.3212, -5.4534, -4.1681, -4.8477, -5.2979, -5.2603, -5.1861, -5.2709, -5.4244, -5.3171, -5.4137, -5.4073], \"loglift\": [30.0, 29.0, 28.0, 27.0, 26.0, 25.0, 24.0, 23.0, 22.0, 21.0, 20.0, 19.0, 18.0, 17.0, 16.0, 15.0, 14.0, 13.0, 12.0, 11.0, 10.0, 9.0, 8.0, 7.0, 6.0, 5.0, 4.0, 3.0, 2.0, 1.0, 2.0849, 2.0848, 2.0848, 2.0848, 2.0848, 2.0848, 2.0848, 2.0848, 2.0848, 2.0848, 2.0848, 2.0847, 2.0847, 2.0847, 2.0847, 2.0847, 2.0847, 2.0847, 2.0847, 2.0847, 2.0847, 2.0847, 2.0846, 2.0846, 2.0846, 2.0846, 2.0846, 2.0846, 2.0846, 2.0846, 1.8663, 1.8204, 1.8092, 1.8437, 1.7722, 1.7705, 1.6351, 0.334, 1.1034, 0.7769, 1.2635, 0.2373, 1.1692, 1.1378, 0.345, 1.95, 1.95, 1.95, 1.95, 1.95, 1.95, 1.95, 1.95, 1.9499, 1.9499, 1.9499, 1.9499, 1.9499, 1.9499, 1.9499, 1.9499, 1.9499, 1.9499, 1.9499, 1.9499, 1.9498, 1.9498, 1.9498, 1.9498, 1.9497, 1.9497, 1.9497, 1.9497, 1.9497, 1.9497, 1.6712, 1.7537, 1.7556, 1.7046, 1.7942, 1.2425, 1.449, 1.6158, 0.8887, 0.9588, 1.2692, 1.5047, 1.7281, 2.2792, 2.2792, 2.2792, 2.2792, 2.2792, 2.2792, 2.2791, 2.2791, 2.2791, 2.2791, 2.2791, 2.2791, 2.2791, 2.2791, 2.2791, 2.279, 2.279, 2.279, 2.279, 2.279, 2.279, 2.279, 2.279, 2.279, 2.279, 2.279, 2.279, 2.279, 2.2789, 2.2789, 1.805, 2.0, 1.7484, 2.0326, 1.8342, 1.6793, 1.2395, 1.807, 0.1275, 1.732, 0.7737, 2.0589, 2.0588, 2.0588, 2.0588, 2.0588, 2.0588, 2.0588, 2.0587, 2.0587, 2.0587, 2.0587, 2.0587, 2.0587, 2.0587, 2.0587, 2.0587, 2.0586, 2.0586, 2.0586, 2.0586, 2.0586, 2.0586, 2.0586, 2.0586, 2.0586, 2.0586, 2.0586, 2.0586, 2.0586, 2.0586, 1.8005, 1.6376, 1.816, 1.8063, 1.8134, 1.5893, 1.7775, 1.7016, 1.1604, 1.1306, 1.7159, 1.1336, 1.3075, 1.6535, 1.298, 1.3177, 1.3633, -0.1707, 0.7115, -0.3161, 0.7076, 0.6175, 2.0895, 2.0895, 2.0895, 2.0895, 2.0895, 2.0894, 2.0894, 2.0894, 2.0894, 2.0894, 2.0894, 2.0894, 2.0893, 2.0893, 2.0893, 2.0893, 2.0893, 2.0893, 2.0893, 2.0893, 2.0893, 2.0893, 2.0893, 2.0893, 2.0892, 2.0892, 2.0892, 2.0892, 2.0892, 2.0892, 1.9919, 1.8111, 1.8121, 1.7988, 1.2843, 1.5533, 1.7226, 1.5911, 1.5604, 0.4635, 1.7118, 1.3813, 1.717, 0.505, -0.1893, 1.457, 0.676, 2.3161, 2.3161, 2.316, 2.3159, 2.3159, 2.3159, 2.3158, 2.3158, 2.3158, 2.3158, 2.3158, 2.3158, 2.3157, 2.3157, 2.3157, 2.3157, 2.3157, 2.3157, 2.3156, 2.3156, 2.3156, 2.3156, 2.3156, 2.3156, 2.3156, 2.3156, 2.3156, 2.3156, 2.3156, 2.3156, 2.1792, 1.9993, 1.9417, 1.8456, 2.0501, 2.1249, 1.2654, 1.8241, 2.0028, 1.9129, 1.6212, 1.5089, 1.8637, 1.7251, 2.0223, 1.955, 0.8473, 1.4324, 1.0459, 0.8364, 1.595, 1.1514, 2.1976, 2.1976, 2.1976, 2.1976, 2.1975, 2.1975, 2.1975, 2.1975, 2.1975, 2.1975, 2.1975, 2.1975, 2.1975, 2.1974, 2.1974, 2.1974, 2.1974, 2.1974, 2.1974, 2.1974, 2.1974, 2.1974, 2.1974, 2.1974, 2.1974, 2.1974, 2.1974, 2.1974, 2.1974, 2.1974, 1.9467, 1.7338, 1.926, 1.6976, 1.5445, 1.7734, 1.5277, 1.8169, 1.7027, 0.0333, 1.8741, 1.7719, 1.7719, 1.7718, 1.7718, 1.7718, 1.7718, 1.7718, 1.7718, 1.7718, 1.7718, 1.7717, 1.7717, 1.7717, 1.7717, 1.7717, 1.7717, 1.7717, 1.7717, 1.7717, 1.7717, 1.7717, 1.7717, 1.7717, 1.7717, 1.7716, 1.7716, 1.7716, 1.7716, 1.7716, 1.7716, 1.6614, 1.574, 1.5566, 1.6173, 1.5765, 1.5878, 1.3454, 1.417, 1.3551, 1.2797, 1.5115, 1.5753, 0.7044, 1.1295, 1.3286, 1.2606, 1.019, 0.7917, 1.4188, 0.6947, 1.217, 1.0249]}, \"token.table\": {\"Topic\": [1, 7, 8, 1, 2, 5, 4, 5, 8, 8, 1, 4, 1, 6, 5, 6, 7, 4, 5, 4, 5, 8, 1, 7, 5, 2, 2, 4, 6, 4, 5, 3, 1, 7, 8, 6, 3, 3, 7, 2, 6, 8, 6, 1, 8, 1, 2, 5, 6, 8, 1, 1, 8, 4, 8, 6, 3, 5, 5, 3, 3, 2, 5, 8, 3, 1, 6, 7, 1, 4, 4, 7, 4, 8, 7, 4, 4, 1, 3, 3, 1, 6, 3, 4, 8, 3, 5, 8, 7, 8, 1, 4, 8, 1, 7, 1, 5, 7, 7, 8, 1, 4, 8, 2, 4, 1, 2, 3, 7, 3, 1, 4, 5, 6, 8, 7, 7, 3, 3, 7, 1, 4, 7, 4, 4, 5, 3, 8, 8, 2, 6, 7, 1, 5, 6, 6, 5, 4, 8, 1, 4, 8, 8, 4, 8, 4, 5, 7, 8, 2, 4, 8, 4, 6, 5, 6, 7, 8, 5, 2, 7, 2, 7, 1, 7, 6, 8, 1, 8, 4, 5, 5, 5, 2, 5, 6, 7, 8, 8, 8, 2, 4, 7, 5, 8, 2, 4, 4, 8, 3, 1, 2, 8, 2, 1, 4, 7, 8, 6, 7, 8, 2, 3, 6, 1, 8, 5, 3, 4, 5, 8, 4, 6, 3, 5, 7, 7, 1, 8, 5, 5, 1, 4, 5, 8, 8, 1, 3, 4, 8, 1, 8, 6, 1, 3, 4, 8, 3, 1, 2, 4, 7, 4, 3, 3, 6, 5, 7, 8, 3, 6, 6, 7, 8, 1, 8, 6, 8, 3, 2, 1, 8, 2, 6, 1, 7, 1, 8, 3, 5, 7, 2, 3, 5, 5, 8, 1, 6, 2, 3, 4, 1, 6, 6, 7, 1, 2, 1, 2, 6, 6, 3, 6, 4, 8, 4, 7, 1, 5, 8, 1, 2, 5, 5, 3, 5, 1, 6, 6, 4, 2, 3, 5, 8, 3, 8, 1, 6, 7, 4, 5, 1, 1, 4, 2, 4, 5, 6, 1, 3, 5, 7, 1, 3, 4, 6, 8, 6, 6, 1, 2, 7, 3, 7, 8, 3, 4, 5, 7, 3, 4, 7, 4, 5, 2, 1, 6, 1, 4, 2, 1, 5, 3, 5, 7, 8, 6, 1, 1, 8, 8, 1, 4, 7, 8, 8, 1, 8, 3, 7, 8, 8, 7, 2, 7, 2, 8, 4, 3, 2, 3, 5, 8, 6, 7, 2, 7, 7, 3, 4, 4, 2, 5, 8, 6, 5, 7, 1, 1, 4, 5, 5, 7, 7, 8, 2, 2, 3, 4, 1, 7, 5, 2, 2, 3, 3, 1, 4, 5, 1, 2, 6, 4, 8, 5, 6, 4, 6, 8, 2, 4, 5, 8, 4, 1, 4, 7, 8, 5, 2, 1, 1, 1, 4, 8, 2, 2, 2, 2, 1, 6, 4, 6, 6, 5, 6, 2, 3, 4, 5, 8, 5, 5, 1, 6, 5, 5, 3, 5, 4, 4, 3, 4, 5, 4, 4, 4, 8, 3, 3, 5, 5, 5, 2, 5, 3, 4, 7, 5, 2, 3, 6, 7, 8, 6, 8, 5, 6, 8, 4, 6, 1, 2, 3, 5, 7, 6], \"Freq\": [0.9999044827201782, 0.9997325919978121, 0.9997186871774102, 0.0889809788365432, 0.7159209036672578, 0.1949853139528476, 0.47650171262853247, 0.30328548566422636, 0.2201333186692693, 0.9998445394474523, 0.9997632930993167, 0.9995050563191906, 0.3029306808467136, 0.6969023138319513, 0.1278698530108714, 0.8720455834103137, 0.9997147361432815, 0.7843604167445326, 0.21556523424230714, 0.3951869790344943, 0.4469586431547476, 0.15782390077261246, 0.999819355740383, 0.9998608971548686, 0.9996887023095391, 0.9998887749329758, 0.3151764299304926, 0.27145776060021065, 0.41326705353130916, 0.7547133571040555, 0.2451429935483124, 0.9999002095032653, 0.9995082999518258, 0.6833483106609065, 0.31656921257550547, 0.9996253848186555, 0.9998054947238685, 0.22186516991169566, 0.7780924413825255, 0.5062098288999974, 0.19195785441331395, 0.30180964562176504, 0.9995653147448682, 0.9998928762945083, 0.9997636399121963, 0.9999516643871655, 0.27273367818439503, 0.10479515807503602, 0.31200808860634593, 0.3103914663855876, 0.9997635808724057, 0.6377862802530689, 0.3621251046077906, 0.17955420967743013, 0.8204379060468495, 0.9993972376541683, 0.30703498792941486, 0.6928719632256958, 0.9999060671375415, 0.9997377372730163, 0.9998388348342786, 0.9998641077555214, 0.9995977074467272, 0.999932796363251, 0.9998475849454033, 0.9995354373740727, 0.6877095518798173, 0.31222839507425654, 0.7674959030334442, 0.23236560944635082, 0.9996348814375802, 0.9998763490879017, 0.7096996391271708, 0.2902044010540903, 0.9997341829284704, 0.999632286444748, 0.9995044121414642, 0.3590907928267558, 0.6406645459050738, 0.9997907055177866, 0.2714370848886219, 0.7284301442901462, 0.5785226252576194, 0.133119060090697, 0.288395779078155, 0.16455339432715724, 0.6853742780404161, 0.14996174127444178, 0.9997973822094589, 0.9999614632752404, 0.43978493548185, 0.34085969100176, 0.219259683661095, 0.2377848758121191, 0.7620614747172156, 0.15002889140482836, 0.584984704017522, 0.26497827282739383, 0.9998825251024379, 0.999665577778133, 0.08728122410682954, 0.25991480548939844, 0.6527767573116858, 0.9997461476932235, 0.9996791590443358, 0.1755358304311765, 0.6058644429822307, 0.13586267761293147, 0.08269707867857157, 0.9996923107486309, 0.1576013754867745, 0.4071420634372566, 0.205030878909775, 0.23018994752315447, 0.9998552985220577, 0.9998301354541526, 0.9998507202316649, 0.999845927435162, 0.7813015810301885, 0.21852318566818218, 0.9999161311968809, 0.9995631283963612, 0.9999520801971667, 0.9996621883657127, 0.999816719453511, 0.9999267788901529, 0.5881023665874888, 0.4118919196698892, 0.9997492499219931, 0.823277842366904, 0.1766433400538839, 0.9996723155612299, 0.9998970589009688, 0.9998042377655367, 0.9994617903037303, 0.9997174597583058, 0.9996797417937417, 0.29744256738594343, 0.7025178405515446, 0.2149052256832692, 0.21087785029305697, 0.5741247361824766, 0.999899673524493, 0.4987675478897194, 0.5011394044353906, 0.24220814847932648, 0.7577076809875837, 0.9998916925387211, 0.999601176096581, 0.9998801043449271, 0.14310900629121745, 0.8567776084690109, 0.999541956129507, 0.9993469173154546, 0.2215633266100555, 0.44609622870706633, 0.11696827890285134, 0.21534921494290826, 0.9998371922554931, 0.9998991803369641, 0.9999058748883605, 0.9998262157795996, 0.9997322554924418, 0.9998575637819126, 0.9997174574973482, 0.6247240565314965, 0.37524009889067167, 0.4001650477152856, 0.59974636284583, 0.25216003549148297, 0.7477058011709444, 0.9998704566607115, 0.9998554640474944, 0.20995674587321098, 0.19292392600859923, 0.2807834547378424, 0.1665431275650928, 0.14973970594781585, 0.9997347355575923, 0.9997891302461864, 0.9997578086115487, 0.9998553025604519, 0.9998282530590737, 0.1045332237971903, 0.895392118486348, 0.9997393103181487, 0.999920721826416, 0.17746696179748817, 0.8224279109226188, 0.9998515329642403, 0.1782463381123761, 0.8217441055557431, 0.9998809676755155, 0.9999869214936172, 0.2703284213579029, 0.3964224365029932, 0.11898423651336047, 0.21423435906491706, 0.9999746919666993, 0.99974767837989, 0.9998526002336917, 0.9999140861288852, 0.9997916952411313, 0.9998178800814632, 0.35804024526131895, 0.6418879568126072, 0.9998646826899591, 0.9995003072483792, 0.30014443062956003, 0.5312652622281234, 0.1684704917115439, 0.17389345647522322, 0.8261143430886643, 0.9996815277626325, 0.9999710964294367, 0.9997746461885929, 0.9997746252323687, 0.17838365283500487, 0.8214642164166611, 0.9996791191870732, 0.9998377287728863, 0.11206493075607117, 0.13971731626730952, 0.13687269287739742, 0.6112632586694791, 0.9998917208815992, 0.387837373795794, 0.17136758558126056, 0.2565837288054168, 0.184150007064884, 0.7302541398128297, 0.26972757563999683, 0.9998609493234362, 0.18432665115318123, 0.6235247211848353, 0.1920288094159922, 0.999771326842064, 0.9998761515653896, 0.1955581293790769, 0.17206452142351658, 0.46720891610409815, 0.16502595061901673, 0.9995738596237524, 0.9998436425789538, 0.9998105625458065, 0.9999033079194454, 0.13899888471654842, 0.5203872420012261, 0.34053822991674537, 0.9999298266876453, 0.9997981952195869, 0.9996353668981475, 0.9997975018518847, 0.999815002501097, 0.22920578125263805, 0.7707284006398444, 0.6361670126940382, 0.3636954808420633, 0.9995562890236513, 0.9998667743165546, 0.9994843586940294, 0.9997641620908717, 0.9998057769106639, 0.99985797393633, 0.9997101274825299, 0.9998574516589946, 0.7856672420015852, 0.21424964165223834, 0.19655131709744963, 0.19377268984681606, 0.6095430726653052, 0.9999011474384009, 0.3108223361732975, 0.6889202349556743, 0.5891370644429865, 0.41075916367109666, 0.9998377427428184, 0.9995457670292325, 0.8556442430186157, 0.1442250097187597, 0.9998511302957294, 0.7314521128677391, 0.26842011020059797, 0.9995106044503083, 0.9997130234811291, 0.7590265522600048, 0.24098154251145776, 0.311547949168668, 0.20221108166381144, 0.48626950590583223, 0.9995284863766594, 0.9998372676404711, 0.9994278612706825, 0.7767393012572015, 0.22313633195007013, 0.782321167798171, 0.21761612854876514, 0.19090981991621025, 0.14983194440249972, 0.659134646174022, 0.9996283272448677, 0.756690116130665, 0.24331592976269437, 0.9998431601226045, 0.9995429608898896, 0.9999453236566607, 0.4461466750188443, 0.5538225953155486, 0.9997225970941087, 0.9997955114040653, 0.999593113934924, 0.548768805860707, 0.2950760701455671, 0.1560374451186928, 0.999866066534763, 0.9999304650707135, 0.9995864071076634, 0.9992396679556801, 0.9996297453811793, 0.9998341539667959, 0.9998845602354531, 0.9998689301264561, 0.9998398677674492, 0.9996860316803079, 0.3459983167432196, 0.10757330278590232, 0.19670510331464142, 0.3497121417652504, 0.9998181373635735, 0.6223220140695208, 0.19549015791938035, 0.18206042783531298, 0.15482486791450403, 0.0001478041698467819, 0.18179912891154174, 0.49913468157258245, 0.1640626285299279, 0.999337163679874, 0.9996926765535322, 0.17537621628954453, 0.6405707853684814, 0.18392122914819983, 0.9997114779182048, 0.606438235523066, 0.3934958987090774, 0.1106158485247114, 0.13192802394379477, 0.4925375761675769, 0.26498766782134614, 0.9998657425432272, 0.3456850819484207, 0.6542769221509048, 0.09300723381711573, 0.9069772834817387, 0.9998703906153273, 0.9997934011826659, 0.9996687617733194, 0.9997542837500178, 0.9997974826481907, 0.9998136894485484, 0.8036006819048014, 0.1963214419922362, 0.15582305279777303, 0.14564580620999312, 0.511770114128361, 0.18669688488339106, 0.9994799647736593, 0.999873334809807, 0.1680001462741861, 0.8318367151510765, 0.9995491876898498, 0.9998946953958333, 0.47170233793532756, 0.22476451835148276, 0.303410446160017, 0.9997249272142954, 0.19363868221949548, 0.806302961171552, 0.35354172047922205, 0.17549176573715364, 0.4709991413620233, 0.9996251121139621, 0.9998791119478129, 0.9998296501418845, 0.9998433430226249, 0.9999470954871945, 0.9997875227774744, 0.9995834651258632, 0.9996628450894531, 0.9997554719676965, 0.999920947762405, 0.999891314185657, 0.9997654056618821, 0.6681963787708655, 0.33176296463436555, 0.37112269211090854, 0.6288427023898433, 0.9998082203531772, 0.33323945863407456, 0.6666495467912593, 0.9996600042364892, 0.8008867243593978, 0.1989289471063601, 0.9999523420692135, 0.9998165133014728, 0.2762890833519625, 0.7234598228049554, 0.9998508509733357, 0.37474193995954924, 0.6252247569705193, 0.9998411840344392, 0.9997797259682657, 0.999799867670199, 0.9998932895284695, 0.9996878144295468, 0.9998314854239215, 0.999929774699532, 0.9996388159265486, 0.9996933417540581, 0.9996452372236003, 0.9997997788520185, 0.9997844746306689, 0.9996613136474093, 0.24359061812438762, 0.7562570042012617, 0.9998198418705149, 0.999883186434759, 0.6996034809762929, 0.3003133137357045, 0.08943806170923944, 0.7823456777963195, 0.12817556614381448, 0.6561374994606154, 0.34386001073701483, 0.2687101766701909, 0.731005077452441, 0.9995186382632762, 0.9997615471298232, 0.9999068608754379, 0.9996381793723664, 0.236571451169739, 0.23738621139516983, 0.5259859226745636, 0.9995864979174361, 0.1777589810327718, 0.1254769277878389, 0.22297837094461723, 0.47374878071943566, 0.9998018026174607, 0.9999116895378743, 0.9998964494714028, 0.9996679882763508, 0.9998867292210311, 0.9994851207357857, 0.9997576083602446, 0.9999183713121574, 0.9999359524642176, 0.9999793410908902, 0.9999188115576974, 0.25447274977153755, 0.7453338914628282, 0.9997888319676395, 0.9999015265777916, 0.9997560092318097, 0.23338927307504198, 0.766418088383315, 0.1936509614309438, 0.07438992782007252, 0.2588669635886416, 0.19564800647309338, 0.2774020378860925, 0.9997262314681294, 0.9997457395898156, 0.9999539467659684, 0.9996287310083591, 0.999959866264243, 0.9996324353734503, 0.24292617614596196, 0.7570082514173515, 0.9997737668929156, 0.9997695573980959, 0.19410552686503865, 0.19841407299351702, 0.607505004115451, 0.9999407723727514, 0.9998239785089347, 0.9994920548871157, 0.9998481190272058, 0.9997777213146223, 0.9996672792493556, 0.9995001681610305, 0.999851167764018, 0.999770993608092, 0.9999253139837603, 0.9997641734253007, 0.999812173339582, 0.9996817180623162, 0.9999323241369557, 0.9998665828698957, 0.999778650460782, 0.9997054478772984, 0.6113958892727984, 0.23756934180589193, 0.1509208043135626, 0.999756999769382, 0.9997886239402455, 0.15990673020997803, 0.13882012842404687, 0.7012059101133199, 0.7722261772999687, 0.22771497938714974, 0.17362345300743456, 0.4928866362954607, 0.11627014699965736, 0.10239377401574348, 0.11483098411656258, 0.9999653537990842], \"Term\": [\"SCREEN_NAME\", \"abortion\", \"abuse\", \"actually\", \"actually\", \"actually\", \"administration\", \"administration\", \"administration\", \"agency\", \"agreement\", \"allies\", \"along\", \"along\", \"always\", \"always\", \"amendment\", \"america\", \"america\", \"american\", \"american\", \"american\", \"amount\", \"answer\", \"anybody\", \"anything\", \"around\", \"around\", \"around\", \"attack\", \"attack\", \"attorney\", \"available\", \"base\", \"base\", \"beautiful\", \"behavior\", \"believe\", \"believe\", \"better\", \"better\", \"better\", \"bigger\", \"billion\", \"board\", \"border\", \"bring\", \"bring\", \"bring\", \"bring\", \"budget\", \"build\", \"build\", \"business\", \"business\", \"california\", \"campaign\", \"campaign\", \"candidate\", \"case\", \"certain\", \"certainly\", \"chairman\", \"change\", \"charge\", \"check\", \"child\", \"child\", \"china\", \"china\", \"chinese\", \"choice\", \"citizen\", \"citizen\", \"claim\", \"class\", \"clean\", \"close\", \"close\", \"collusion\", \"coming\", \"coming\", \"commit\", \"commit\", \"commit\", \"committee\", \"committee\", \"committee\", \"common\", \"community\", \"company\", \"company\", \"company\", \"concern\", \"concern\", \"congress\", \"congress\", \"congress\", \"constitution\", \"consumer\", \"continue\", \"continue\", \"continue\", \"conversation\", \"corruption\", \"could\", \"could\", \"could\", \"could\", \"counsel\", \"country\", \"country\", \"country\", \"country\", \"county\", \"couple\", \"court\", \"crime\", \"criminal\", \"criminal\", \"crisis\", \"customer\", \"decision\", \"defense\", \"democracy\", \"democrat\", \"department\", \"department\", \"development\", \"different\", \"different\", \"discussion\", \"dollar\", \"donald\", \"dream\", \"driving\", \"early\", \"economic\", \"economic\", \"economy\", \"economy\", \"economy\", \"education\", \"effort\", \"effort\", \"election\", \"election\", \"emergency\", \"employee\", \"enough\", \"ensure\", \"ensure\", \"environment\", \"europe\", \"every\", \"every\", \"every\", \"every\", \"everybody\", \"everything\", \"evidence\", \"exactly\", \"exist\", \"facility\", \"fact\", \"family\", \"family\", \"federal\", \"federal\", \"fight\", \"fight\", \"fighting\", \"figure\", \"first\", \"first\", \"first\", \"first\", \"first\", \"florida\", \"focus\", \"folks\", \"force\", \"foreign\", \"forward\", \"forward\", \"frankly\", \"freedom\", \"future\", \"future\", \"general\", \"getting\", \"getting\", \"global\", \"going\", \"government\", \"government\", \"government\", \"government\", \"great\", \"ground\", \"growth\", \"happen\", \"happening\", \"happy\", \"health\", \"health\", \"hearing\", \"heart\", \"history\", \"history\", \"history\", \"honor\", \"honor\", \"hours\", \"house\", \"human\", \"immigration\", \"impact\", \"impact\", \"impeach\", \"impeachment\", \"important\", \"important\", \"important\", \"important\", \"improve\", \"include\", \"include\", \"include\", \"include\", \"increase\", \"increase\", \"incredible\", \"individual\", \"individual\", \"individual\", \"industry\", \"information\", \"interest\", \"interest\", \"interest\", \"interest\", \"international\", \"investigation\", \"involve\", \"israel\", \"issue\", \"issue\", \"issue\", \"justice\", \"kill\", \"leave\", \"legal\", \"legislation\", \"level\", \"level\", \"life\", \"life\", \"listen\", \"little\", \"living\", \"local\", \"look\", \"love\", \"majority\", \"make\", \"market\", \"market\", \"matter\", \"matter\", \"matter\", \"maybe\", \"medium\", \"medium\", \"member\", \"member\", \"mexico\", \"michael\", \"might\", \"might\", \"military\", \"million\", \"million\", \"minister\", \"moment\", \"money\", \"money\", \"month\", \"month\", \"month\", \"movement\", \"mueller\", \"murder\", \"nation\", \"nation\", \"national\", \"national\", \"need\", \"need\", \"need\", \"negotiate\", \"never\", \"never\", \"night\", \"nobody\", \"nothing\", \"number\", \"number\", \"numbers\", \"obama\", \"obviously\", \"office\", \"office\", \"office\", \"officer\", \"opportunity\", \"option\", \"palestinian\", \"parent\", \"partner\", \"party\", \"patient\", \"pay\", \"peace\", \"people\", \"people\", \"people\", \"people\", \"percent\", \"person\", \"person\", \"person\", \"place\", \"place\", \"place\", \"place\", \"place\", \"plant\", \"play\", \"point\", \"point\", \"point\", \"police\", \"policy\", \"policy\", \"political\", \"political\", \"political\", \"political\", \"politics\", \"power\", \"power\", \"president\", \"president\", \"pretty\", \"price\", \"prime\", \"priority\", \"private\", \"probably\", \"problem\", \"problem\", \"process\", \"process\", \"process\", \"process\", \"produce\", \"product\", \"program\", \"program\", \"progress\", \"project\", \"protect\", \"protect\", \"protect\", \"proud\", \"provide\", \"provide\", \"public\", \"public\", \"public\", \"quality\", \"question\", \"quite\", \"raise\", \"really\", \"reform\", \"regime\", \"release\", \"remember\", \"report\", \"republican\", \"resource\", \"respect\", \"respect\", \"right\", \"right\", \"rule\", \"russia\", \"russia\", \"sanction\", \"saying\", \"saying\", \"school\", \"season\", \"second\", \"second\", \"secure\", \"security\", \"security\", \"senate\", \"senator\", \"sense\", \"serious\", \"social\", \"somebody\", \"something\", \"sound\", \"south\", \"southern\", \"space\", \"speak\", \"speaker\", \"special\", \"special\", \"speech\", \"spending\", \"stand\", \"stand\", \"start\", \"start\", \"start\", \"state\", \"state\", \"story\", \"story\", \"strategy\", \"street\", \"student\", \"stuff\", \"support\", \"support\", \"support\", \"syria\", \"system\", \"system\", \"system\", \"system\", \"table\", \"talking\", \"tariff\", \"tax\", \"taxpayer\", \"terrorist\", \"texas\", \"thing\", \"things\", \"think\", \"thought\", \"thousand\", \"thousand\", \"threat\", \"three\", \"throw\", \"times\", \"times\", \"today\", \"today\", \"today\", \"today\", \"today\", \"totally\", \"tough\", \"trade\", \"treat\", \"trump\", \"truth\", \"try\", \"try\", \"turkey\", \"ukraine\", \"understand\", \"understand\", \"understand\", \"unite\", \"value\", \"venezuela\", \"veteran\", \"victim\", \"violence\", \"voice\", \"vote\", \"voter\", \"want\", \"washington\", \"watch\", \"welcome\", \"whether\", \"white\", \"whole\", \"witness\", \"woman\", \"woman\", \"woman\", \"wonderful\", \"worker\", \"working\", \"working\", \"working\", \"world\", \"world\", \"would\", \"would\", \"would\", \"would\", \"would\", \"years\"]}, \"R\": 30, \"lambda.step\": 0.01, \"plot.opts\": {\"xlab\": \"PC1\", \"ylab\": \"PC2\"}, \"topic.order\": [1, 2, 3, 4, 5, 6, 7, 8]};\n",
              "\n",
              "function LDAvis_load_lib(url, callback){\n",
              "  var s = document.createElement('script');\n",
              "  s.src = url;\n",
              "  s.async = true;\n",
              "  s.onreadystatechange = s.onload = callback;\n",
              "  s.onerror = function(){console.warn(\"failed to load library \" + url);};\n",
              "  document.getElementsByTagName(\"head\")[0].appendChild(s);\n",
              "}\n",
              "\n",
              "if(typeof(LDAvis) !== \"undefined\"){\n",
              "   // already loaded: just create the visualization\n",
              "   !function(LDAvis){\n",
              "       new LDAvis(\"#\" + \"ldavis_el2621404326858357289352667929\", ldavis_el2621404326858357289352667929_data);\n",
              "   }(LDAvis);\n",
              "}else if(typeof define === \"function\" && define.amd){\n",
              "   // require.js is available: use it to load d3/LDAvis\n",
              "   require.config({paths: {d3: \"https://d3js.org/d3.v5\"}});\n",
              "   require([\"d3\"], function(d3){\n",
              "      window.d3 = d3;\n",
              "      LDAvis_load_lib(\"https://cdn.jsdelivr.net/gh/bmabey/pyLDAvis@3.3.1/pyLDAvis/js/ldavis.v3.0.0.js\", function(){\n",
              "        new LDAvis(\"#\" + \"ldavis_el2621404326858357289352667929\", ldavis_el2621404326858357289352667929_data);\n",
              "      });\n",
              "    });\n",
              "}else{\n",
              "    // require.js not available: dynamically load d3 & LDAvis\n",
              "    LDAvis_load_lib(\"https://d3js.org/d3.v5.js\", function(){\n",
              "         LDAvis_load_lib(\"https://cdn.jsdelivr.net/gh/bmabey/pyLDAvis@3.3.1/pyLDAvis/js/ldavis.v3.0.0.js\", function(){\n",
              "                 new LDAvis(\"#\" + \"ldavis_el2621404326858357289352667929\", ldavis_el2621404326858357289352667929_data);\n",
              "            })\n",
              "         });\n",
              "}\n",
              "</script>"
            ],
            "text/plain": [
              "<IPython.core.display.HTML object>"
            ]
          },
          "metadata": {},
          "execution_count": 14
        }
      ],
      "source": [
        "pyLDAvis.display(lda_display['republicans'][2019])"
      ]
    },
    {
      "cell_type": "markdown",
      "source": [
        "### Democrates 2019\n",
        "\n",
        "* Cluster 1: *Miscellaneous*\n",
        "* Cluster 2: *Relationship with China and the world trade*\n",
        "* Cluster 3: *Economy and labor system*\n",
        "* Cluster 4: *Police and Law towards minorities*\n",
        "* Cluster 5: *State system: Republicans and Democrats*\n",
        "* Cluster 6: *Education system + Climate change*\n",
        "* Cluster 7: *Housing, Economy and Government*\n",
        "* Cluster 8: *US president and state congress*"
      ],
      "metadata": {
        "id": "Mb8rhPPBlJw7"
      }
    },
    {
      "cell_type": "code",
      "source": [
        "pyLDAvis.display(lda_display['democrates'][2019])\n"
      ],
      "metadata": {
        "colab": {
          "base_uri": "https://localhost:8080/",
          "height": 861
        },
        "id": "nTog1uHDiEvq",
        "outputId": "f4decf60-4874-48d0-9ae0-4d19f564c5a3"
      },
      "execution_count": 13,
      "outputs": [
        {
          "output_type": "execute_result",
          "data": {
            "text/html": [
              "\n",
              "<link rel=\"stylesheet\" type=\"text/css\" href=\"https://cdn.jsdelivr.net/gh/bmabey/pyLDAvis@3.3.1/pyLDAvis/js/ldavis.v1.0.0.css\">\n",
              "\n",
              "\n",
              "<div id=\"ldavis_el2621404324382724648671249180\"></div>\n",
              "<script type=\"text/javascript\">\n",
              "\n",
              "var ldavis_el2621404324382724648671249180_data = {\"mdsDat\": {\"x\": [-0.11682333952104339, -0.21468523261923314, -0.2006444976098487, 0.1096908960411704, -0.17088870710243975, 0.21187299803424134, 0.19800902882173893, 0.18346885395541476], \"y\": [0.23605932187767387, 0.04150501272193071, -0.3101585478449449, 0.21875658697471664, 0.03171393290691387, -0.15723593033934785, 0.008236548803818817, -0.06887692510076066], \"topics\": [1, 2, 3, 4, 5, 6, 7, 8], \"cluster\": [1, 1, 1, 1, 1, 1, 1, 1], \"Freq\": [14.583095122830924, 10.276149371941488, 8.655627598320125, 14.033950510259647, 9.514232818483077, 11.416638300085578, 16.72793107575448, 14.792375202324692]}, \"tinfo\": {\"Term\": [\"people\", \"think\", \"going\", \"president\", \"trump\", \"state\", \"really\", \"would\", \"change\", \"right\", \"never\", \"country\", \"woman\", \"things\", \"something\", \"years\", \"community\", \"american\", \"unite\", \"happen\", \"health\", \"thing\", \"family\", \"school\", \"question\", \"republican\", \"little\", \"nothing\", \"money\", \"house\", \"think\", \"going\", \"really\", \"things\", \"something\", \"happen\", \"thing\", \"different\", \"talking\", \"everybody\", \"maybe\", \"certainly\", \"pretty\", \"israel\", \"night\", \"happening\", \"vote\", \"whatever\", \"leave\", \"russia\", \"powerful\", \"racist\", \"exactly\", \"table\", \"sometimes\", \"week\", \"movement\", \"discussion\", \"frankly\", \"quite\", \"actually\", \"looking\", \"want\", \"understand\", \"people\", \"whole\", \"always\", \"moment\", \"would\", \"right\", \"believe\", \"better\", \"could\", \"point\", \"important\", \"great\", \"coming\", \"still\", \"someone\", \"start\", \"getting\", \"never\", \"little\", \"thought\", \"china\", \"three\", \"close\", \"break\", \"percent\", \"probably\", \"water\", \"middle\", \"class\", \"tough\", \"price\", \"big\", \"area\", \"thinking\", \"amount\", \"higher\", \"stuff\", \"healthcare\", \"playing\", \"claim\", \"nobody\", \"dream\", \"realize\", \"ahead\", \"play\", \"patient\", \"rural\", \"years\", \"trade\", \"month\", \"anything\", \"times\", \"great\", \"start\", \"could\", \"take\", \"would\", \"getting\", \"since\", \"country\", \"first\", \"money\", \"world\", \"question\", \"nothing\", \"saying\", \"answer\", \"happy\", \"ability\", \"absolutely\", \"prevent\", \"love\", \"statement\", \"taxpayer\", \"plan\", \"works\", \"reality\", \"hours\", \"facility\", \"request\", \"secretary\", \"design\", \"character\", \"sorry\", \"additional\", \"guess\", \"simple\", \"extremely\", \"crazy\", \"kill\", \"honest\", \"shooting\", \"propose\", \"money\", \"wrong\", \"cause\", \"industry\", \"region\", \"medium\", \"event\", \"raise\", \"would\", \"ask\", \"woman\", \"fight\", \"young\", \"human\", \"black\", \"sense\", \"police\", \"voice\", \"fighting\", \"values\", \"honor\", \"death\", \"officer\", \"common\", \"difference\", \"movie\", \"faith\", \"color\", \"asking\", \"south\", \"hands\", \"standing\", \"forget\", \"virginia\", \"equal\", \"progressive\", \"telling\", \"abortion\", \"african\", \"supporting\", \"people\", \"america\", \"stand\", \"country\", \"american\", \"right\", \"serve\", \"family\", \"life\", \"experience\", \"violence\", \"history\", \"community\", \"world\", \"around\", \"every\", \"nation\", \"together\", \"child\", \"bring\", \"proud\", \"working\", \"believe\", \"great\", \"today\", \"republican\", \"conversation\", \"agree\", \"chance\", \"treat\", \"majority\", \"anybody\", \"watch\", \"fact\", \"seem\", \"heart\", \"willing\", \"welcome\", \"presidential\", \"accept\", \"impeach\", \"present\", \"legislature\", \"worry\", \"mistake\", \"constitutional\", \"greatest\", \"smart\", \"politician\", \"voting\", \"suppose\", \"appropriate\", \"totally\", \"father\", \"oppose\", \"democrat\", \"person\", \"senate\", \"friend\", \"would\", \"try\", \"somebody\", \"voter\", \"respect\", \"process\", \"clear\", \"single\", \"house\", \"every\", \"could\", \"right\", \"change\", \"school\", \"student\", \"climate\", \"energy\", \"general\", \"investment\", \"threat\", \"budget\", \"services\", \"require\", \"college\", \"parent\", \"emergency\", \"board\", \"approach\", \"practice\", \"short\", \"medical\", \"weapon\", \"teacher\", \"property\", \"proposal\", \"undermine\", \"invest\", \"piece\", \"defense\", \"nuclear\", \"review\", \"amendment\", \"problem\", \"border\", \"national\", \"crisis\", \"child\", \"address\", \"security\", \"future\", \"issue\", \"action\", \"public\", \"concern\", \"health\", \"business\", \"ensure\", \"federal\", \"economy\", \"access\", \"worker\", \"economic\", \"legislation\", \"dollar\", \"billion\", \"housing\", \"project\", \"local\", \"county\", \"resident\", \"solution\", \"funding\", \"improve\", \"infrastructure\", \"private\", \"affordable\", \"protection\", \"quality\", \"development\", \"insurance\", \"growth\", \"progress\", \"option\", \"mexico\", \"million\", \"provide\", \"opportunity\", \"continue\", \"state\", \"government\", \"benefit\", \"community\", \"public\", \"support\", \"program\", \"increase\", \"forward\", \"create\", \"working\", \"system\", \"family\", \"every\", \"need\", \"protect\", \"across\", \"president\", \"trump\", \"unite\", \"election\", \"white\", \"report\", \"donald\", \"impeachment\", \"committee\", \"court\", \"democratic\", \"investigation\", \"foreign\", \"democracy\", \"SCREEN_NAME\", \"elect\", \"running\", \"criminal\", \"official\", \"biden\", \"constitution\", \"abuse\", \"mueller\", \"obama\", \"check\", \"words\", \"immigration\", \"accountable\", \"environment\", \"witness\", \"congress\", \"office\", \"power\", \"house\", \"administration\", \"party\", \"political\", \"state\", \"justice\", \"policy\", \"candidate\", \"campaign\", \"government\", \"country\", \"interest\", \"american\"], \"Freq\": [115046.0, 75139.0, 72135.0, 62571.0, 40173.0, 59218.0, 35730.0, 64630.0, 25824.0, 49057.0, 22556.0, 45318.0, 25255.0, 24584.0, 24059.0, 29402.0, 34687.0, 38034.0, 20480.0, 19745.0, 20469.0, 18190.0, 27042.0, 15102.0, 13290.0, 13765.0, 12999.0, 12068.0, 15975.0, 19767.0, 75138.37946035538, 72134.70948853821, 35729.99514473566, 24583.558622862867, 24058.940903595114, 19745.03018875641, 18189.76716919042, 11740.851760158697, 9818.045871160277, 7402.12858808594, 7035.323178682753, 5685.756552322714, 5401.751122261047, 5229.206748302592, 5055.175636015943, 5027.986524745322, 4802.57341674299, 4677.330189972988, 4481.943759796123, 4474.253316245929, 4351.433130221063, 4092.6017964462567, 4023.1665073943923, 3848.6458232854425, 3660.9527912261956, 3592.743647655652, 3353.66832442398, 3162.7217227164665, 3144.490268964565, 2987.027484426358, 9155.295624731523, 7799.995364826783, 10664.27830015435, 8334.384429482068, 41810.92036282682, 5861.491859100028, 9317.48423986581, 5859.607435996446, 19379.211013959644, 15102.38366578397, 9365.984055058532, 8852.516282338749, 10746.494456972718, 7125.138482917884, 8902.684246299554, 8741.152726960558, 6260.904465517562, 6857.950450638576, 6013.717672877653, 6140.566116129587, 6015.949553110399, 22555.695382935653, 12999.061138359672, 10872.213183708966, 9490.608292620154, 8573.687593956276, 7397.717279444909, 7382.468926326192, 7138.7417817529395, 6515.002109553376, 6177.435966968457, 5857.8813689630915, 5630.296992104379, 4998.693716719479, 4982.533044057259, 3986.5112012944364, 3960.3304202365625, 3813.988286104223, 3765.4617139454217, 3587.1500875302922, 3546.6374368385264, 3501.9512677603893, 3391.7927427250934, 3389.9081428830586, 3318.9066974423686, 3239.492216758994, 3149.213388577066, 3052.9536832782433, 2963.191808411359, 2858.2317559186795, 2815.485358905085, 19014.499801009977, 6266.530570238599, 5865.534693111699, 7784.101886475254, 5518.725433581688, 10609.012951152372, 7316.933486658014, 10206.32984500207, 5763.164612120888, 12743.337678839662, 5556.626876670847, 4470.8737640098525, 6576.7267101242705, 5247.795676750307, 4569.973901881021, 4037.5677842000787, 13289.853459724109, 12067.534607324173, 9614.959184087627, 6080.356856783915, 5923.004706074141, 5313.259071983495, 5068.142032046097, 4961.319533827077, 4660.682656796727, 4167.736382830785, 3812.6848185304757, 3780.8666046486037, 3655.008242690182, 3643.2829923784, 3609.7170915501733, 3574.5357289368944, 3518.974505719185, 3516.2419692955336, 3248.253834481185, 3056.947524976173, 2986.0976359590295, 2906.715015279352, 2845.0218063649527, 2814.401334991972, 2535.141794318698, 2524.000859971722, 2491.8829474152244, 2484.339975448178, 2471.329300159797, 2461.2835198344937, 11404.39210404872, 6116.663711552693, 4453.928450130923, 4983.847614890353, 3403.480912903588, 4040.6957104777894, 3360.142976414242, 3700.314825944508, 8058.206072114364, 3397.968491523723, 25254.786846397237, 13337.881877722983, 8189.391599711982, 7347.849323341614, 6962.218647366678, 6924.752926640729, 6069.306298113992, 5721.115184417531, 5331.372514232023, 5043.058655466027, 4960.922836382579, 4584.779431243223, 4454.119407764087, 4259.34218621605, 4118.595237926082, 3999.599891703806, 3570.4128417056822, 3529.9627833200625, 3385.6554428640875, 3372.6291046838114, 3228.7516726254566, 3161.88442560035, 2929.3625546636226, 2859.4768502647476, 2825.3505965560284, 2704.8519925968358, 2679.5718434296264, 2601.9986831137803, 2584.47565094649, 2571.793353216691, 73234.58163325198, 15121.33070680341, 10039.9840455017, 30244.08079371325, 24715.65896930529, 29023.37750782261, 6451.229298490403, 17717.85118548799, 7991.774764958235, 7403.251777768277, 5925.5201362908465, 7572.990531457291, 16958.8081031562, 11058.142472599206, 8046.284988861265, 10987.20303769664, 7526.222070682836, 7769.606521264197, 8477.239155718655, 6766.618856377956, 5824.678752615702, 6360.887688166664, 6439.521687259971, 6222.902446401884, 6094.542375983827, 13764.411246293823, 6977.478640850826, 6646.024703583308, 5909.389419856621, 5539.101958774258, 4598.884249211874, 4470.612952570125, 4392.719604151399, 4374.187998311472, 4370.773824908273, 4342.872903777249, 4257.356264383493, 4090.0953079480933, 3964.0349738704085, 3856.4946800045914, 3659.370886398321, 3561.3232745229034, 3475.6011524706214, 3452.8469358261277, 3408.2888116427052, 3397.484587430345, 3316.8062357748627, 3260.6389196661307, 3107.7877719906774, 3070.628758358396, 3012.96562102062, 2997.8449116559423, 2922.8745829688173, 2910.5473583014727, 2801.178345878962, 10650.597974844552, 9346.867178075257, 7446.802575007705, 6501.963240472698, 24449.56346257116, 9180.187201689385, 4488.3850821674705, 4409.997881430599, 4424.6041131070915, 5119.569595497778, 5323.313169084439, 4056.3822731961754, 5106.72442345383, 5532.42589273731, 5138.682181387233, 4931.299675692081, 25823.445383773338, 15101.99870421747, 10592.219194825144, 9065.478339588752, 7992.999299113196, 7635.456632443226, 6935.288995079287, 6361.471425353915, 6141.344391731572, 5877.778074769931, 5375.335252361985, 4906.807092632505, 4876.063602649654, 4781.339217018815, 4123.398832000373, 4037.3885791291677, 4033.8824787848844, 3932.1842888671918, 3778.635459295392, 3523.6296894865363, 3437.7276867117243, 3245.5703500039754, 3177.429458664477, 3134.987093947943, 3032.084968663315, 2985.792555112463, 2934.8384483079703, 2912.5481805960108, 2868.022926738411, 2767.3147163347394, 9701.569784211299, 8670.176743996617, 8666.49161464676, 6198.42688807438, 11032.333554680468, 6627.439599155182, 8093.421155629401, 7072.823980797295, 8168.305241541857, 6103.121005130866, 5360.870448883287, 3914.0042865674177, 20468.739286501135, 14601.363482591458, 12426.716900305812, 12116.406732877564, 10189.163581275809, 8834.631543676218, 8595.637187480788, 8452.264704269073, 8302.037395142335, 8224.96754285418, 7531.220253202628, 7048.954476486263, 6939.107128225316, 6831.38611130971, 6398.226591200265, 6022.114704185471, 6007.667580725288, 5911.79491316147, 5451.80376209719, 4945.548467059402, 4650.491693775203, 4544.144624464636, 4495.173254672419, 4457.523904525373, 4333.878787419747, 4292.768133155716, 4254.26913164068, 4059.857917908891, 4036.446582768079, 4035.5691406493215, 12218.469281807545, 12042.716507012065, 10758.181236718598, 15419.06497672303, 29415.867111462714, 13662.055085684971, 5946.957668937976, 17727.963931206184, 12931.68568693, 12279.275444487761, 7047.688980591538, 7013.410784077279, 9133.03981372071, 8284.411958746767, 9651.960912876777, 8680.941235874521, 9323.47220533036, 8592.555803261495, 7758.1337666922855, 7672.63043828085, 7220.283099324128, 62570.919175429626, 40172.19387383313, 20479.222420499755, 13770.521465900069, 12478.42185469598, 9838.859042415625, 9619.566096272505, 9300.619767267957, 9212.909302019105, 9033.208101776285, 8982.517983855187, 8095.211052787804, 6963.970104407768, 6861.866999875946, 6588.869585363867, 6283.138686598822, 6236.535234287888, 6189.6566603115, 6007.366679081542, 5747.761515922927, 5685.796204867065, 5433.681663610802, 5236.62921724257, 4771.4494294163205, 4643.559213139041, 4246.776229768048, 4005.2838423120993, 3964.247557819765, 3882.9221329657908, 3801.6800238231417, 16055.642459183451, 10739.477906093178, 11225.52138657983, 14660.322473764738, 11208.244465261645, 9866.820154772413, 10318.972122558045, 29802.145024477693, 8877.57675059586, 8816.505734801123, 6897.761086616798, 7494.858416363433, 7692.966994266589, 8496.699875364635, 6992.836301110605, 6887.923838744397], \"Total\": [115046.0, 75139.0, 72135.0, 62571.0, 40173.0, 59218.0, 35730.0, 64630.0, 25824.0, 49057.0, 22556.0, 45318.0, 25255.0, 24584.0, 24059.0, 29402.0, 34687.0, 38034.0, 20480.0, 19745.0, 20469.0, 18190.0, 27042.0, 15102.0, 13290.0, 13765.0, 12999.0, 12068.0, 15975.0, 19767.0, 75139.25559299148, 72135.58565361373, 35730.87128231194, 24584.434789395676, 24059.817071967605, 19745.906332386083, 18190.64332026121, 11741.728082025855, 9818.922056317573, 7403.004675279879, 7036.1993046362695, 5686.632900137137, 5402.627289778618, 5230.083200152825, 5056.051930036839, 5028.8627322624025, 4803.450210594347, 4678.206371698508, 4482.820269058977, 4475.130163269376, 4352.310024916538, 4093.478246294442, 4024.0429749298296, 3849.5220474284083, 3661.8289856027245, 3593.620440476018, 3354.545095692085, 3163.5983705857457, 3145.366506278315, 2987.903613088097, 11152.946000505652, 9472.6941492014, 15459.470542583902, 11723.923511227158, 115046.25625984557, 7273.225257793287, 15562.01216925457, 7632.962383056604, 64630.8103938199, 49057.687765919414, 20897.759841680094, 18620.52764819797, 29059.89583098852, 11852.820517600328, 20084.51297400175, 25573.695967991407, 9781.47172318061, 14675.590915474972, 9435.91566711099, 13458.24959076671, 11573.32642250167, 22556.566163059324, 12999.931848608818, 10873.084023461954, 9491.478872492233, 8574.558419495997, 7398.588122072117, 7383.339922060967, 7139.612560031535, 6515.872744406383, 6178.3067617923325, 5858.752201949264, 5631.167716452462, 4999.564423993406, 4983.403942030813, 3987.382115011207, 3961.2014620984164, 3814.8591105578143, 3766.3325489987114, 3588.021169198773, 3547.508110269536, 3502.822389584161, 3392.663417551426, 3390.779484804853, 3319.7774497588566, 3240.363049921994, 3150.084249002529, 3053.8246598546743, 2964.0626500208537, 2859.102815945038, 2816.3563052355157, 29402.030281366722, 8235.37554586743, 7719.894958734212, 11702.308266957332, 7374.229124645586, 25573.695967991407, 13458.24959076671, 29059.89583098852, 9575.881540166505, 64630.8103938199, 11573.32642250167, 7230.540639307566, 45318.1339305596, 22618.640919410263, 15975.106424118318, 21294.01400280514, 13290.720165306375, 12068.40135377383, 9615.825984011139, 6081.223409966731, 5923.871401795909, 5314.12608339053, 5069.008743274256, 4962.186649923956, 4661.549483433849, 4168.603139819246, 3813.5517251271217, 3781.7333703513304, 3655.875301808047, 3644.149848374297, 3610.5838448748714, 3575.402572750094, 3519.841370318334, 3517.108809597425, 3249.120787638589, 3057.8143217848415, 2986.964232314839, 2907.5819184914076, 2845.888572448185, 2815.2681607318564, 2536.008697025283, 2524.867662387197, 2492.7498584498453, 2485.206718271638, 2472.196105708088, 2462.150426915671, 15975.106424118318, 8512.03834071389, 5906.423676895205, 7230.684798755272, 4048.0953797372626, 5662.5600739026495, 4409.2325734589085, 6125.291357560233, 64630.8103938199, 5138.3854150085745, 25255.66171865676, 13338.756836737002, 8190.266517801553, 7348.724408836739, 6963.093520229872, 6925.628044739768, 6070.181350035117, 5721.990253991057, 5332.247656355897, 5043.9335433410515, 4961.797831754277, 4585.654581457217, 4454.994483569537, 4260.217241914576, 4119.4703518689375, 4000.475069665687, 3571.2880045138672, 3530.837747516793, 3386.5309927675985, 3373.5044638656195, 3229.626927286018, 3162.7598318670357, 2930.2375678107232, 2860.352120920012, 2826.225884915886, 2705.727061383834, 2680.446995103926, 2602.8735689270898, 2585.3502925044213, 2572.6690912950057, 115046.25625984557, 19294.096563717, 12349.79415091085, 45318.1339305596, 38034.31562115757, 49057.687765919414, 7753.422788939448, 27042.077429524743, 10420.645306286246, 9790.299878529475, 7281.47637850051, 10477.509895060446, 34687.52590979863, 21294.01400280514, 13811.438853675492, 28532.497943102786, 13651.724302829094, 14677.783824996055, 19510.321700632576, 14356.362693685509, 8943.190941316196, 18470.376019122716, 20897.759841680094, 25573.695967991407, 19181.576324384805, 13765.280870617955, 6978.348514531315, 6646.8945257769365, 5910.259313440529, 5539.971766394747, 4599.753904150233, 4471.482660960709, 4393.5895069740645, 4375.057674227572, 4371.643646773525, 4343.742750872929, 4258.226099020643, 4090.9654182405534, 3964.905001119944, 3857.364533724632, 3660.240344366542, 3562.193184212702, 3476.47112451617, 3453.7168161489817, 3409.158563901675, 3398.3543994625093, 3317.6761408568277, 3261.508862223059, 3108.6576623336978, 3071.4985810573826, 3013.8354283354165, 2998.7149557805233, 2923.7443203217586, 2911.4172697460776, 2802.0482388998707, 15109.544215824193, 13545.261899348921, 10606.343460839698, 9007.69993339945, 64630.8103938199, 16473.41902681693, 5839.575972438312, 6839.6108302395205, 7406.533509362478, 11287.259618663129, 12780.417154728762, 6670.657182005825, 19767.794355692906, 28532.497943102786, 29059.89583098852, 49057.687765919414, 25824.31649407984, 15102.869675008555, 10593.090112837466, 9066.349037175887, 7993.870310368111, 7636.327965169437, 6936.1601930789275, 6362.342363898209, 6142.215480009939, 5878.649323944356, 5376.206345873753, 4907.678175030786, 4876.934623655007, 4782.210140165298, 4124.269967595134, 4038.259694756854, 4034.753711314113, 3933.0556073160765, 3779.506638194741, 3524.500679866411, 3438.5986386029585, 3246.4415365930386, 3178.3006238036305, 3135.8587121176315, 3032.9561118652605, 2986.663940116395, 2935.7096681708435, 2913.4189746826414, 2868.8942096060255, 2768.1858821511196, 13862.17610732905, 12845.47474586555, 12877.991911336232, 8366.490840595248, 19510.321700632576, 9759.417200761465, 13585.176253293477, 12969.842007121142, 23211.460437479687, 12749.731282792896, 23353.864020304714, 10716.167145797623, 20469.615214981655, 14602.239574089635, 12427.592906928448, 12117.28269776599, 10190.039582778036, 8835.507530497061, 8596.513127879767, 8453.140684928232, 8302.91347397883, 8225.843388797859, 7532.096197513636, 7049.830211756788, 6939.9830942786875, 6832.261953975846, 6399.102552355288, 6022.99060813368, 6008.543673889224, 5912.6707997118665, 5452.679595834896, 4946.424265995432, 4651.367797774324, 4545.020259903213, 4496.049460552605, 4458.399738638778, 4334.754648940988, 4293.643829550812, 4255.145052494656, 4060.734063222974, 4037.322669848961, 4036.445333513867, 14101.10901936036, 14429.26375414657, 13821.599813406941, 22503.19765346031, 59218.765943000675, 21355.775865188363, 6770.492343176635, 34687.52590979863, 23353.864020304714, 21657.94619764504, 9046.010223372838, 8998.213647320485, 14910.468943848926, 12788.57437608344, 18470.376019122716, 15964.326500694133, 27042.077429524743, 28532.497943102786, 16335.024678994774, 16635.964960119094, 11720.251112880325, 62571.793885754676, 40173.06853474161, 20480.097183342517, 13771.396268449596, 12479.29667064759, 9839.733830880394, 9620.440569210434, 9301.49427753373, 9213.784126252465, 9034.08286224732, 8983.392755910454, 8096.0856528808035, 6964.84469428212, 6862.741701765159, 6589.744494559789, 6284.013477882026, 6237.410110528761, 6190.5314892543065, 6008.241497948078, 5748.636327691803, 5686.670717022208, 5434.556477880206, 5237.503640324796, 4772.324087167876, 4644.434157461892, 4247.6511786974015, 4006.158760775837, 3965.1223644609327, 3883.7978849512765, 3802.55468833627, 18766.284506160686, 12558.157211965794, 13970.06996514213, 19767.794355692906, 14254.552115973294, 12841.989605610375, 13667.799686566817, 59218.765943000675, 11463.726248106244, 15844.601959668904, 8922.751870175965, 11021.812242608117, 21355.775865188363, 45318.1339305596, 13360.2720078003, 38034.31562115757], \"Category\": [\"Default\", \"Default\", \"Default\", \"Default\", \"Default\", \"Default\", \"Default\", \"Default\", \"Default\", \"Default\", \"Default\", \"Default\", \"Default\", \"Default\", \"Default\", \"Default\", \"Default\", \"Default\", \"Default\", \"Default\", \"Default\", \"Default\", \"Default\", \"Default\", \"Default\", \"Default\", \"Default\", \"Default\", \"Default\", \"Default\", \"Topic1\", \"Topic1\", \"Topic1\", \"Topic1\", \"Topic1\", \"Topic1\", \"Topic1\", \"Topic1\", \"Topic1\", \"Topic1\", \"Topic1\", \"Topic1\", \"Topic1\", \"Topic1\", \"Topic1\", \"Topic1\", \"Topic1\", \"Topic1\", \"Topic1\", \"Topic1\", \"Topic1\", \"Topic1\", \"Topic1\", \"Topic1\", \"Topic1\", \"Topic1\", \"Topic1\", \"Topic1\", \"Topic1\", \"Topic1\", \"Topic1\", \"Topic1\", \"Topic1\", \"Topic1\", \"Topic1\", \"Topic1\", \"Topic1\", \"Topic1\", \"Topic1\", \"Topic1\", \"Topic1\", \"Topic1\", \"Topic1\", \"Topic1\", \"Topic1\", \"Topic1\", \"Topic1\", \"Topic1\", \"Topic1\", \"Topic1\", \"Topic1\", \"Topic2\", \"Topic2\", \"Topic2\", \"Topic2\", \"Topic2\", \"Topic2\", \"Topic2\", \"Topic2\", \"Topic2\", \"Topic2\", \"Topic2\", \"Topic2\", \"Topic2\", \"Topic2\", \"Topic2\", \"Topic2\", \"Topic2\", \"Topic2\", \"Topic2\", \"Topic2\", \"Topic2\", \"Topic2\", \"Topic2\", \"Topic2\", \"Topic2\", \"Topic2\", \"Topic2\", \"Topic2\", \"Topic2\", \"Topic2\", \"Topic2\", \"Topic2\", \"Topic2\", \"Topic2\", \"Topic2\", \"Topic2\", \"Topic2\", \"Topic2\", \"Topic2\", \"Topic2\", \"Topic2\", \"Topic2\", \"Topic2\", \"Topic2\", \"Topic2\", \"Topic2\", \"Topic3\", \"Topic3\", \"Topic3\", \"Topic3\", \"Topic3\", \"Topic3\", \"Topic3\", \"Topic3\", \"Topic3\", \"Topic3\", \"Topic3\", \"Topic3\", \"Topic3\", \"Topic3\", \"Topic3\", \"Topic3\", \"Topic3\", \"Topic3\", \"Topic3\", \"Topic3\", \"Topic3\", \"Topic3\", \"Topic3\", \"Topic3\", \"Topic3\", \"Topic3\", \"Topic3\", \"Topic3\", \"Topic3\", \"Topic3\", \"Topic3\", \"Topic3\", \"Topic3\", \"Topic3\", \"Topic3\", \"Topic3\", \"Topic3\", \"Topic3\", \"Topic3\", \"Topic3\", \"Topic4\", \"Topic4\", \"Topic4\", \"Topic4\", \"Topic4\", \"Topic4\", \"Topic4\", \"Topic4\", \"Topic4\", \"Topic4\", \"Topic4\", \"Topic4\", \"Topic4\", \"Topic4\", \"Topic4\", \"Topic4\", \"Topic4\", \"Topic4\", \"Topic4\", \"Topic4\", \"Topic4\", \"Topic4\", \"Topic4\", \"Topic4\", \"Topic4\", \"Topic4\", \"Topic4\", \"Topic4\", \"Topic4\", \"Topic4\", \"Topic4\", \"Topic4\", \"Topic4\", \"Topic4\", \"Topic4\", \"Topic4\", \"Topic4\", \"Topic4\", \"Topic4\", \"Topic4\", \"Topic4\", \"Topic4\", \"Topic4\", \"Topic4\", \"Topic4\", \"Topic4\", \"Topic4\", \"Topic4\", \"Topic4\", \"Topic4\", \"Topic4\", \"Topic4\", \"Topic4\", \"Topic4\", \"Topic4\", \"Topic5\", \"Topic5\", \"Topic5\", \"Topic5\", \"Topic5\", \"Topic5\", \"Topic5\", \"Topic5\", \"Topic5\", \"Topic5\", \"Topic5\", \"Topic5\", \"Topic5\", \"Topic5\", \"Topic5\", \"Topic5\", \"Topic5\", \"Topic5\", \"Topic5\", \"Topic5\", \"Topic5\", \"Topic5\", \"Topic5\", \"Topic5\", \"Topic5\", \"Topic5\", \"Topic5\", \"Topic5\", \"Topic5\", \"Topic5\", \"Topic5\", \"Topic5\", \"Topic5\", \"Topic5\", \"Topic5\", \"Topic5\", \"Topic5\", \"Topic5\", \"Topic5\", \"Topic5\", \"Topic5\", \"Topic5\", \"Topic5\", \"Topic5\", \"Topic5\", \"Topic5\", \"Topic6\", \"Topic6\", \"Topic6\", \"Topic6\", \"Topic6\", \"Topic6\", \"Topic6\", \"Topic6\", \"Topic6\", \"Topic6\", \"Topic6\", \"Topic6\", \"Topic6\", \"Topic6\", \"Topic6\", \"Topic6\", \"Topic6\", \"Topic6\", \"Topic6\", \"Topic6\", \"Topic6\", \"Topic6\", \"Topic6\", \"Topic6\", \"Topic6\", \"Topic6\", \"Topic6\", \"Topic6\", \"Topic6\", \"Topic6\", \"Topic6\", \"Topic6\", \"Topic6\", \"Topic6\", \"Topic6\", \"Topic6\", \"Topic6\", \"Topic6\", \"Topic6\", \"Topic6\", \"Topic6\", \"Topic6\", \"Topic7\", \"Topic7\", \"Topic7\", \"Topic7\", \"Topic7\", \"Topic7\", \"Topic7\", \"Topic7\", \"Topic7\", \"Topic7\", \"Topic7\", \"Topic7\", \"Topic7\", \"Topic7\", \"Topic7\", \"Topic7\", \"Topic7\", \"Topic7\", \"Topic7\", \"Topic7\", \"Topic7\", \"Topic7\", \"Topic7\", \"Topic7\", \"Topic7\", \"Topic7\", \"Topic7\", \"Topic7\", \"Topic7\", \"Topic7\", \"Topic7\", \"Topic7\", \"Topic7\", \"Topic7\", \"Topic7\", \"Topic7\", \"Topic7\", \"Topic7\", \"Topic7\", \"Topic7\", \"Topic7\", \"Topic7\", \"Topic7\", \"Topic7\", \"Topic7\", \"Topic7\", \"Topic7\", \"Topic7\", \"Topic7\", \"Topic7\", \"Topic7\", \"Topic8\", \"Topic8\", \"Topic8\", \"Topic8\", \"Topic8\", \"Topic8\", \"Topic8\", \"Topic8\", \"Topic8\", \"Topic8\", \"Topic8\", \"Topic8\", \"Topic8\", \"Topic8\", \"Topic8\", \"Topic8\", \"Topic8\", \"Topic8\", \"Topic8\", \"Topic8\", \"Topic8\", \"Topic8\", \"Topic8\", \"Topic8\", \"Topic8\", \"Topic8\", \"Topic8\", \"Topic8\", \"Topic8\", \"Topic8\", \"Topic8\", \"Topic8\", \"Topic8\", \"Topic8\", \"Topic8\", \"Topic8\", \"Topic8\", \"Topic8\", \"Topic8\", \"Topic8\", \"Topic8\", \"Topic8\", \"Topic8\", \"Topic8\", \"Topic8\", \"Topic8\"], \"logprob\": [30.0, 29.0, 28.0, 27.0, 26.0, 25.0, 24.0, 23.0, 22.0, 21.0, 20.0, 19.0, 18.0, 17.0, 16.0, 15.0, 14.0, 13.0, 12.0, 11.0, 10.0, 9.0, 8.0, 7.0, 6.0, 5.0, 4.0, 3.0, 2.0, 1.0, -2.8266, -2.8674, -3.57, -3.9439, -3.9655, -4.1631, -4.2451, -4.6829, -4.8617, -5.1442, -5.195, -5.408, -5.4592, -5.4917, -5.5256, -5.5309, -5.5768, -5.6032, -5.6459, -5.6476, -5.6755, -5.7368, -5.7539, -5.7982, -5.8482, -5.8671, -5.9359, -5.9945, -6.0003, -6.0517, -4.9316, -5.0918, -4.7791, -5.0256, -3.4128, -5.3776, -4.9141, -5.3779, -4.1818, -4.4311, -4.9089, -4.9653, -4.7714, -5.1823, -4.9596, -4.9779, -5.3116, -5.2206, -5.3519, -5.331, -5.3516, -3.6799, -4.2311, -4.4097, -4.5456, -4.6472, -4.7948, -4.7968, -4.8304, -4.9218, -4.975, -5.0281, -5.0678, -5.1868, -5.19, -5.413, -5.4196, -5.4573, -5.4701, -5.5186, -5.5299, -5.5426, -5.5746, -5.5751, -5.5963, -5.6205, -5.6488, -5.6798, -5.7097, -5.7457, -5.7608, -3.8507, -4.9607, -5.0268, -4.7438, -5.0878, -4.4342, -4.8057, -4.4729, -5.0444, -4.2509, -5.0809, -5.2983, -4.9124, -5.1381, -5.2764, -5.4003, -4.0373, -4.1338, -4.361, -4.8192, -4.8455, -4.9541, -5.0013, -5.0226, -5.0852, -5.1969, -5.286, -5.2944, -5.3282, -5.3314, -5.3407, -5.3505, -5.3661, -5.3669, -5.4462, -5.5069, -5.5303, -5.5573, -5.5787, -5.5896, -5.6941, -5.6985, -5.7113, -5.7143, -5.7196, -5.7236, -4.1903, -4.8133, -5.1305, -5.0181, -5.3995, -5.2279, -5.4123, -5.3159, -4.5376, -5.4011, -3.8786, -4.517, -5.0047, -5.1132, -5.1671, -5.1725, -5.3043, -5.3634, -5.434, -5.4896, -5.506, -5.5848, -5.6138, -5.6585, -5.6921, -5.7214, -5.8349, -5.8463, -5.888, -5.8919, -5.9355, -5.9564, -6.0328, -6.0569, -6.069, -6.1125, -6.1219, -6.1513, -6.1581, -6.163, -2.8139, -4.3915, -4.801, -3.6983, -3.9001, -3.7395, -5.2433, -4.233, -5.0292, -5.1057, -5.3283, -5.083, -4.2768, -4.7044, -5.0224, -4.7109, -5.0892, -5.0574, -4.9702, -5.1956, -5.3455, -5.2574, -5.2451, -5.2793, -5.3002, -4.0968, -4.7762, -4.8249, -4.9423, -5.0071, -5.1931, -5.2214, -5.2389, -5.2432, -5.244, -5.2504, -5.2702, -5.3103, -5.3416, -5.3691, -5.4216, -5.4488, -5.4731, -5.4797, -5.4927, -5.4959, -5.5199, -5.537, -5.585, -5.597, -5.616, -5.621, -5.6463, -5.6506, -5.6889, -4.3533, -4.4839, -4.7111, -4.8468, -3.5223, -4.5018, -5.2174, -5.235, -5.2317, -5.0858, -5.0468, -5.3186, -5.0883, -5.0083, -5.0821, -5.1233, -3.6499, -4.1863, -4.5411, -4.6967, -4.8226, -4.8684, -4.9646, -5.0509, -5.0861, -5.13, -5.2194, -5.3106, -5.3168, -5.3365, -5.4845, -5.5056, -5.5064, -5.532, -5.5718, -5.6417, -5.6664, -5.7239, -5.7451, -5.7586, -5.7919, -5.8073, -5.8245, -5.8321, -5.8476, -5.8833, -4.6289, -4.7413, -4.7417, -5.0769, -4.5003, -5.01, -4.8101, -4.9449, -4.8009, -5.0924, -5.222, -5.5366, -4.2643, -4.6021, -4.7633, -4.7886, -4.9619, -5.1045, -5.1319, -5.1487, -5.1667, -5.176, -5.2641, -5.3303, -5.346, -5.3617, -5.4272, -5.4877, -5.4901, -5.5062, -5.5872, -5.6847, -5.7462, -5.7693, -5.7802, -5.7886, -5.8167, -5.8263, -5.8353, -5.882, -5.8878, -5.888, -4.7802, -4.7947, -4.9075, -4.5476, -3.9016, -4.6686, -5.5003, -4.408, -4.7235, -4.7753, -5.3305, -5.3354, -5.0713, -5.1688, -5.016, -5.1221, -5.0506, -5.1323, -5.2344, -5.2455, -5.3063, -3.0239, -3.467, -4.1408, -4.5377, -4.6362, -4.8739, -4.8964, -4.9301, -4.9396, -4.9593, -4.9649, -5.0689, -5.2195, -5.2342, -5.2748, -5.3223, -5.3298, -5.3373, -5.3672, -5.4114, -5.4222, -5.4676, -5.5045, -5.5976, -5.6247, -5.7141, -5.7726, -5.7829, -5.8036, -5.8248, -4.3842, -4.7863, -4.742, -4.4751, -4.7436, -4.871, -4.8262, -3.7656, -4.9767, -4.9836, -5.229, -5.146, -5.1199, -5.0205, -5.2153, -5.2304], \"loglift\": [30.0, 29.0, 28.0, 27.0, 26.0, 25.0, 24.0, 23.0, 22.0, 21.0, 20.0, 19.0, 18.0, 17.0, 16.0, 15.0, 14.0, 13.0, 12.0, 11.0, 10.0, 9.0, 8.0, 7.0, 6.0, 5.0, 4.0, 3.0, 2.0, 1.0, 1.9253, 1.9253, 1.9253, 1.9253, 1.9253, 1.9253, 1.9253, 1.9252, 1.9252, 1.9252, 1.9252, 1.9252, 1.9251, 1.9251, 1.9251, 1.9251, 1.9251, 1.9251, 1.9251, 1.9251, 1.9251, 1.9251, 1.9251, 1.9251, 1.9251, 1.9251, 1.925, 1.925, 1.925, 1.925, 1.7279, 1.731, 1.554, 1.5841, 0.9131, 1.7095, 1.4124, 1.6609, 0.7208, 0.7472, 1.1227, 1.1817, 0.9305, 1.4164, 1.1117, 0.8518, 1.4791, 1.1645, 1.4748, 1.1406, 1.271, 2.2753, 2.2753, 2.2753, 2.2753, 2.2752, 2.2752, 2.2752, 2.2752, 2.2752, 2.2752, 2.2752, 2.2752, 2.2752, 2.2752, 2.2751, 2.2751, 2.2751, 2.2751, 2.2751, 2.2751, 2.2751, 2.2751, 2.2751, 2.2751, 2.2751, 2.2751, 2.2751, 2.2751, 2.275, 2.275, 1.8395, 2.0021, 2.0006, 1.8676, 1.9855, 1.3955, 1.6659, 1.229, 1.7676, 0.6517, 1.5416, 1.7946, 0.3452, 0.8144, 1.0238, 0.6126, 2.4469, 2.4469, 2.4469, 2.4468, 2.4468, 2.4468, 2.4468, 2.4468, 2.4468, 2.4468, 2.4467, 2.4467, 2.4467, 2.4467, 2.4467, 2.4467, 2.4467, 2.4467, 2.4467, 2.4467, 2.4467, 2.4467, 2.4467, 2.4467, 2.4466, 2.4466, 2.4466, 2.4466, 2.4466, 2.4466, 2.1099, 2.1165, 2.1647, 2.0748, 2.2735, 2.1095, 2.1752, 1.943, 0.365, 2.0334, 1.9637, 1.9636, 1.9636, 1.9636, 1.9636, 1.9636, 1.9635, 1.9635, 1.9635, 1.9635, 1.9635, 1.9635, 1.9635, 1.9635, 1.9635, 1.9635, 1.9634, 1.9634, 1.9634, 1.9634, 1.9634, 1.9634, 1.9634, 1.9634, 1.9634, 1.9634, 1.9634, 1.9634, 1.9634, 1.9634, 1.512, 1.72, 1.7566, 1.5593, 1.5326, 1.4388, 1.7798, 1.5409, 1.6983, 1.6842, 1.7576, 1.639, 1.2481, 1.3084, 1.4234, 1.0094, 1.3682, 1.3276, 1.1301, 1.2115, 1.5349, 0.8977, 0.7865, 0.5504, 0.8171, 2.3523, 2.3523, 2.3523, 2.3522, 2.3522, 2.3522, 2.3522, 2.3522, 2.3522, 2.3522, 2.3522, 2.3522, 2.3522, 2.3522, 2.3522, 2.3521, 2.3521, 2.3521, 2.3521, 2.3521, 2.3521, 2.3521, 2.3521, 2.3521, 2.3521, 2.3521, 2.3521, 2.3521, 2.3521, 2.3521, 2.0027, 1.9814, 1.9987, 2.0264, 1.3803, 1.7677, 2.0892, 1.9135, 1.8372, 1.5618, 1.4766, 1.855, 0.9989, 0.712, 0.6198, 0.055, 2.1701, 2.17, 2.17, 2.17, 2.17, 2.17, 2.17, 2.17, 2.17, 2.17, 2.1699, 2.1699, 2.1699, 2.1699, 2.1699, 2.1699, 2.1699, 2.1699, 2.1699, 2.1699, 2.1698, 2.1698, 2.1698, 2.1698, 2.1698, 2.1698, 2.1698, 2.1698, 2.1698, 2.1698, 1.8132, 1.777, 1.774, 1.8702, 1.6, 1.7831, 1.6522, 1.5637, 1.1257, 1.4334, 0.6985, 1.1629, 1.788, 1.788, 1.788, 1.788, 1.788, 1.788, 1.788, 1.788, 1.788, 1.788, 1.788, 1.788, 1.788, 1.788, 1.788, 1.7879, 1.7879, 1.7879, 1.7879, 1.7879, 1.7879, 1.7879, 1.7879, 1.7879, 1.7879, 1.7879, 1.7879, 1.7879, 1.7879, 1.7879, 1.6448, 1.6073, 1.5375, 1.41, 1.0884, 1.3414, 1.6584, 1.1169, 1.197, 1.2206, 1.5385, 1.5389, 1.2979, 1.3539, 1.1391, 1.1789, 0.7232, 0.5879, 1.0435, 1.0142, 1.3037, 1.911, 1.911, 1.911, 1.911, 1.911, 1.911, 1.911, 1.911, 1.911, 1.911, 1.911, 1.911, 1.9109, 1.9109, 1.9109, 1.9109, 1.9109, 1.9109, 1.9109, 1.9109, 1.9109, 1.9109, 1.9109, 1.9109, 1.9109, 1.9109, 1.9108, 1.9108, 1.9108, 1.9108, 1.7551, 1.7546, 1.6923, 1.6121, 1.6706, 1.6475, 1.63, 1.2244, 1.6554, 1.3249, 1.6537, 1.5254, 0.89, 0.237, 1.2637, 0.2023]}, \"token.table\": {\"Topic\": [8, 3, 4, 3, 8, 5, 7, 8, 4, 7, 4, 6, 8, 1, 2, 3, 6, 7, 7, 8, 7, 4, 5, 2, 1, 4, 5, 6, 4, 8, 4, 7, 8, 2, 3, 5, 2, 5, 6, 5, 2, 1, 4, 1, 3, 4, 1, 4, 8, 7, 8, 1, 2, 4, 7, 8, 2, 7, 4, 6, 6, 7, 2, 1, 4, 7, 6, 7, 3, 4, 8, 4, 8, 2, 3, 1, 5, 6, 3, 8, 4, 6, 2, 2, 2, 1, 3, 4, 5, 6, 2, 6, 4, 1, 4, 7, 8, 4, 4, 7, 1, 3, 6, 7, 8, 5, 8, 8, 5, 4, 7, 8, 5, 1, 2, 3, 5, 2, 4, 8, 7, 8, 3, 4, 6, 7, 8, 6, 7, 4, 6, 8, 5, 8, 8, 3, 7, 4, 1, 1, 7, 8, 2, 7, 7, 8, 8, 6, 6, 7, 8, 4, 1, 3, 1, 4, 5, 7, 1, 1, 4, 6, 3, 3, 5, 4, 4, 7, 5, 7, 4, 4, 1, 2, 4, 5, 6, 7, 8, 8, 4, 1, 5, 7, 1, 2, 5, 7, 4, 6, 7, 6, 1, 2, 1, 7, 8, 1, 2, 4, 5, 7, 3, 4, 1, 1, 3, 7, 2, 5, 2, 4, 8, 3, 4, 3, 5, 8, 7, 4, 8, 5, 8, 1, 4, 6, 7, 7, 6, 7, 2, 3, 7, 7, 1, 6, 8, 6, 8, 6, 1, 1, 4, 6, 7, 8, 4, 8, 3, 1, 7, 5, 4, 7, 2, 7, 1, 2, 3, 5, 1, 6, 3, 8, 7, 2, 4, 7, 5, 1, 8, 2, 3, 1, 2, 7, 1, 4, 8, 4, 7, 8, 6, 8, 1, 6, 7, 8, 2, 1, 2, 3, 6, 8, 7, 8, 4, 8, 4, 7, 5, 7, 6, 1, 8, 2, 1, 4, 2, 4, 5, 6, 3, 2, 2, 1, 2, 3, 5, 4, 6, 7, 8, 4, 5, 8, 5, 4, 8, 1, 6, 5, 8, 5, 1, 3, 2, 7, 2, 1, 6, 5, 7, 8, 6, 7, 7, 4, 7, 6, 6, 3, 4, 6, 7, 8, 7, 4, 7, 6, 7, 6, 7, 8, 7, 3, 1, 1, 3, 7, 3, 2, 1, 2, 3, 8, 5, 3, 6, 7, 4, 5, 6, 1, 4, 5, 8, 2, 1, 3, 6, 3, 6, 7, 8, 5, 5, 8, 4, 4, 6, 6, 3, 6, 3, 2, 7, 8, 5, 7, 5, 7, 2, 5, 1, 4, 5, 1, 1, 3, 4, 4, 8, 4, 1, 2, 7, 8, 3, 1, 2, 4, 5, 7, 6, 2, 4, 5, 7, 8, 4, 5, 6, 7, 8, 1, 2, 5, 6, 1, 3, 6, 4, 1, 1, 1, 2, 2, 6, 2, 2, 5, 1, 4, 5, 6, 7, 8, 1, 4, 7, 5, 2, 2, 7, 5, 8, 2, 4, 5, 6, 1, 4, 8, 8, 4, 4, 6, 4, 4, 1, 5, 8, 5, 1, 2, 5, 5, 2, 6, 1, 5, 1, 8, 1, 2, 5, 8, 4, 8, 7, 1, 4, 7, 3, 1, 2, 4, 6, 5, 1, 2, 3, 5, 3, 5, 1, 2, 7, 4], \"Freq\": [0.9998870222418481, 0.9997880962226227, 0.9996643828814744, 0.9998009979218138, 0.9998976038095342, 0.9996462523277999, 0.9999425578558663, 0.9997169407756511, 0.38386549542916254, 0.6160277566122591, 0.09011954640571103, 0.47867675519064784, 0.4311463416816306, 0.8208593495911243, 0.17905582972512016, 0.9997998617037385, 0.6790364489677659, 0.32081833736503323, 0.21368612463009123, 0.7862751427623318, 0.999775521373972, 0.9994777139065696, 0.9998654219991806, 0.9997299583484556, 0.5987014981524905, 0.247911385625449, 0.15332207519500293, 0.9995716031359144, 0.7837112222416982, 0.2162319436011087, 0.6498342246035075, 0.16905785985598612, 0.18109961721431297, 0.9996461945456554, 0.9997988217363095, 0.9998920579598971, 0.6651679158016135, 0.3347202885656372, 0.9996880599931477, 0.999761579279436, 0.9996966925035466, 0.41733522923037725, 0.5825605923642636, 0.33862777107331804, 0.6612972219006522, 0.9998432045155552, 0.44818200950514, 0.30816700205136677, 0.2436624805039689, 0.8783703900047154, 0.1215568910331059, 0.47544302542128886, 0.134206723204315, 0.18044601439235633, 0.20992960424396456, 0.9998893080627248, 0.9999041689509093, 0.999854463155423, 0.9998429548265156, 0.9996920745719575, 0.6749458600423103, 0.3250171817389441, 0.9998185208760383, 0.29547874280619824, 0.47135894685750673, 0.23313704671672456, 0.9998021104902792, 0.9999151106867309, 0.1443501272730371, 0.17565169478353224, 0.6800152130178585, 0.22683584946087768, 0.7730798861566869, 0.24583404094087344, 0.754094227514222, 0.9998887038871243, 0.9997869275485655, 0.9999490211452394, 0.9997336915524792, 0.9999065209135983, 0.4344879664247234, 0.5654442899135955, 0.9999495471149791, 0.9997701163380438, 0.9997926333380108, 0.2137645404625277, 0.18943043647868946, 0.1802758057194963, 0.4164965771896175, 0.9998512039222894, 0.9999205088778544, 0.9998618134672651, 0.999762734065766, 0.6400877267949746, 0.21489608716228026, 0.14496795984591504, 0.999914896394172, 0.9997142770320254, 0.4889077429188853, 0.5110770957288754, 0.16386455867185878, 0.1777687837527853, 0.3652425299781636, 0.09956918229093013, 0.19344603082389708, 0.14440791404981354, 0.8555769254552791, 0.9998820545349671, 0.9996014543207373, 0.15406699320649128, 0.6851915108886325, 0.16073271255491173, 0.9998067573540491, 0.3697879738626185, 0.35120566361826583, 0.10213388297266442, 0.17684165249208977, 0.14512954152255814, 0.6673708155402537, 0.18749668759573918, 0.9998277020337981, 0.9998801358960471, 0.9996563533209591, 0.1438784297521917, 0.20823274914678616, 0.6477657130799761, 0.9999141448104691, 0.7408123809717854, 0.25900942716454645, 0.9998572545215542, 0.9997582635031871, 0.9998919234035913, 0.7049186823812482, 0.2950452996015026, 0.9999562797796862, 0.9996550489465172, 0.9998259073460658, 0.9998858222468516, 0.9999379919190116, 0.9998108576008544, 0.999897470841834, 0.9999542048820671, 0.9995793527141884, 0.9998650578559203, 0.9998979804965828, 0.9998387212431048, 0.9999712252525546, 0.9997469496049255, 0.9998911277848751, 0.9999522910886373, 0.9997945606401486, 0.9995662466604567, 0.2376830848770302, 0.7620373713614709, 0.11986332240590673, 0.38506968516774776, 0.19388418115481756, 0.30116535948361306, 0.9998642881743364, 0.9997408141671629, 0.7561566133673883, 0.24371061454742513, 0.9996022501711189, 0.9998874049168164, 0.999758249077766, 0.9996393445411741, 0.6552011414868354, 0.3447590158077529, 0.999856678137341, 0.9998941431178934, 0.9999432603243117, 0.9997660168026125, 0.2413053914002498, 0.2320210139370669, 0.18427278698355465, 0.059773706334396805, 0.09677858222336878, 0.09921020489229765, 0.08660997833512081, 0.9998787202989876, 0.9995776561517339, 0.33325578281358353, 0.05412304623275547, 0.6125226533379872, 0.999565549427837, 0.27809540931883914, 0.7218268867828711, 0.999886548780646, 0.19776648000736452, 0.5453420323945767, 0.2568265672142422, 0.9998260989869091, 0.5198159786025971, 0.4801558166713152, 0.9999918812108002, 0.6397332546587624, 0.3602304148799487, 0.34179650884019364, 0.4148403114386929, 0.24333596550881195, 0.999796200464385, 0.9997309016542257, 0.9996877697683642, 0.9998058824439685, 0.9999541002387621, 0.9998284438632878, 0.9998528999472127, 0.9999699449659804, 0.9997652208725722, 0.9998290067079181, 0.9997153948790661, 0.7227862417548507, 0.2771650925731, 0.9995144394779051, 0.9998392051064292, 0.9998382962700894, 0.25834951072977147, 0.7416103049341002, 0.9998822366309753, 0.9999014238667233, 0.9997107551534946, 0.9996611303494178, 0.9999468604162964, 0.44327686768030783, 0.13034919011423632, 0.10480712192149252, 0.32154127951021316, 0.9998753647957942, 0.22048820774452288, 0.779376915782429, 0.3106206483218074, 0.6892846443614817, 0.9999142277385407, 0.9998500505453244, 0.25456068544220883, 0.2220014681039669, 0.523417487003048, 0.9996847590832192, 0.9998659039778789, 0.9998327326580367, 0.9997928904548223, 0.23005876835640507, 0.11197055036672224, 0.35189513481931023, 0.18275454969435773, 0.12325807795274811, 0.2254938703222288, 0.7744427778416817, 0.9996991842373179, 0.9998170194186373, 0.999889981512912, 0.9998644819705684, 0.7669390680804415, 0.23299900616858257, 0.9999283189620015, 0.999815294849005, 0.8234193859893157, 0.17650733504796615, 0.9998821242945503, 0.9998360990248732, 0.9998295522078974, 0.9998659512356399, 0.7136348130987569, 0.2862662786520873, 0.9998896718580159, 0.9998716105540333, 0.13346467979334645, 0.8664566725372513, 0.9996601613330801, 0.7677228978630672, 0.23228203036027617, 0.28607008170540077, 0.7138606590302824, 0.11230722757685775, 0.7598548984611851, 0.12785148052867196, 0.9998375053318601, 0.9998812466876024, 0.9999038396229611, 0.5512856715426315, 0.2828946669542443, 0.1656933549069137, 0.6729310019500399, 0.32699197429167065, 0.19308204682762017, 0.21818148855219982, 0.4749304119494855, 0.11380454186827707, 0.9999749002993084, 0.9997919463543107, 0.9997658126875604, 0.9999667434184475, 0.9998561914073183, 0.9997225487742049, 0.1447664628905708, 0.8551413888788997, 0.9997767710884481, 0.9997933675022047, 0.221609657445652, 0.778346945739577, 0.9996259026217613, 0.9996723893636644, 0.9998083583793652, 0.23158405288700176, 0.7683388869657184, 0.9996142790182684, 0.36342773210772644, 0.6365700404417342, 0.9999142026228476, 0.30992387088519746, 0.6900567939885519, 0.9997776984188019, 0.9998060756062075, 0.9996414886774252, 0.9998044552406838, 0.6011227445332562, 0.14713797424084193, 0.101832302126546, 0.1499221216892065, 0.9998053847213131, 0.2115546991039745, 0.2320033036713038, 0.556467118735007, 0.10543028380905116, 0.1395250181983765, 0.7549861891919493, 0.9997884416989151, 0.1964199182142094, 0.8035750735687736, 0.999699004687387, 0.9998131952113956, 0.9996650422503782, 0.9999873124021963, 0.9997717470860744, 0.999883891716942, 0.9997608614895664, 0.9999189425469996, 0.9997059364398192, 0.9998660587091526, 0.3000971829957183, 0.699890112842418, 0.45360877422667245, 0.22893067824252375, 0.31743754649495454, 0.22087085363198258, 0.7791280162153219, 0.9998192289345855, 0.9997312879801474, 0.9998583434188049, 0.9998639936718214, 0.999590780118819, 0.9995327552276683, 0.25667281761150285, 0.08157026077255487, 0.4612296322091478, 0.20052939567961905, 0.9997665816264228, 0.6513335159925275, 0.34864513353900445, 0.1653584022479546, 0.834623318638775, 0.22955516035114995, 0.5537413418506009, 0.21670932037626747, 0.9999103403323587, 0.9999458144255979, 0.999697576225639, 0.9998831687221313, 0.6040528987136619, 0.39573627742754497, 0.9996844673182663, 0.9996558031732414, 0.999975615419365, 0.1590871606493121, 0.8406422479652316, 0.999925421673695, 0.9999069491839655, 0.9997609635691457, 0.9997756139187851, 0.9998355288596428, 0.4024824833684701, 0.5974454843695002, 0.9996883086162497, 0.30784165923310036, 0.5916096196478792, 0.10051431742010447, 0.9999342498694981, 0.9995184184497556, 0.9997474568944046, 0.9999141016057786, 0.999942416571998, 0.9996847383298465, 0.595722856230003, 0.2075055889920151, 0.19668497119072875, 0.9998527677858647, 0.7021269891452699, 0.29784062826774643, 0.9999093158431682, 0.8320196351477952, 0.16779686022745025, 0.9998895453855852, 0.9995161768496738, 0.9997316063077998, 0.9995495417631809, 0.6183493355523365, 0.1620902306569757, 0.21948566216093895, 0.6080360434262919, 0.39186543824367037, 0.9998439795062485, 0.9999095165286745, 0.23118116903894104, 0.7685489530716796, 0.6373520294338658, 0.1943637549021799, 0.16818717504348937, 0.9999660399759001, 0.9997736143315311, 0.9996771865212153, 0.9998504629618775, 0.8129690161078116, 0.18696667910288217, 0.9997597566974957, 0.45630005288452596, 0.5436814015561108, 0.4967344309118756, 0.5032526349617799, 0.9998553136868595, 0.4673065663590039, 0.19045229702149546, 0.1992424030378722, 0.06282540889224288, 0.0801330594981319, 0.9998970920830603, 0.9998567698074982, 0.17688657848898715, 0.13560842626524544, 0.5669512652744122, 0.12051004172703117, 0.9997399232970654, 0.999722802271298, 0.24153853279261986, 0.5437748970883644, 0.21466611822622103, 0.9998643864298018, 0.6018244874716561, 0.19904172707287465, 0.19904172707287465, 0.9999060939365559, 0.9998553251229068, 0.9998259062292882, 0.9998332385961213, 0.9999646345514074, 0.9999823144441025, 0.9999832897866558, 0.9997747988764679, 0.9999003021167119, 0.9997890141992631, 0.9999348748391839, 0.7484172117129937, 0.25155171729074166, 0.1474331385583192, 0.317752821609956, 0.06047469615546332, 0.08038963919976244, 0.21171356990287632, 0.18225822220646531, 0.29657065752575695, 0.5293714700149624, 0.1740726005004156, 0.9997454222256765, 0.9998871053664801, 0.7609853327386904, 0.23896906571401672, 0.9998245900095302, 0.9999734017146168, 0.20378283309221784, 0.23893036373278803, 0.5572613666328745, 0.9997261636456026, 0.7108541771036913, 0.20035954667825423, 0.08862220902456626, 0.9999464268488233, 0.999814917596945, 0.8138459416688177, 0.1860886349917732, 0.9995272886473932, 0.9998269388889003, 0.9999062734962145, 0.6447735272454914, 0.3551371650066437, 0.9998376749836522, 0.6898037012733047, 0.14832332023815525, 0.16184254131524836, 0.999865825659605, 0.9997884919213766, 0.9998579430359396, 0.9998273494693458, 0.9997640121238256, 0.999742129439649, 0.9998960942526, 0.8058323222864461, 0.19399921630202618, 0.9997120634291999, 0.999854127453322, 0.9999737991954386, 0.9998466967578065, 0.9999403097660489, 0.13302382135892757, 0.34438930714861143, 0.5225665135353557, 0.9997605766784184, 0.17211409739456338, 0.1896307572385394, 0.5193008701198041, 0.11895361765359591, 0.9997924508038326, 0.29984151338837384, 0.1971660253422802, 0.12467737834168514, 0.37830254411196346, 0.718629281865638, 0.2813662138414587, 0.12468526713691928, 0.6466900352813375, 0.22858965641768536, 0.9998453630539617], \"Term\": [\"SCREEN_NAME\", \"ability\", \"abortion\", \"absolutely\", \"abuse\", \"accept\", \"access\", \"accountable\", \"across\", \"across\", \"action\", \"action\", \"action\", \"actually\", \"actually\", \"additional\", \"address\", \"address\", \"administration\", \"administration\", \"affordable\", \"african\", \"agree\", \"ahead\", \"always\", \"always\", \"always\", \"amendment\", \"america\", \"america\", \"american\", \"american\", \"american\", \"amount\", \"answer\", \"anybody\", \"anything\", \"anything\", \"approach\", \"appropriate\", \"area\", \"around\", \"around\", \"ask\", \"ask\", \"asking\", \"believe\", \"believe\", \"believe\", \"benefit\", \"benefit\", \"better\", \"better\", \"better\", \"better\", \"biden\", \"big\", \"billion\", \"black\", \"board\", \"border\", \"border\", \"break\", \"bring\", \"bring\", \"bring\", \"budget\", \"business\", \"campaign\", \"campaign\", \"campaign\", \"candidate\", \"candidate\", \"cause\", \"cause\", \"certainly\", \"chance\", \"change\", \"character\", \"check\", \"child\", \"child\", \"china\", \"claim\", \"class\", \"clear\", \"clear\", \"clear\", \"clear\", \"climate\", \"close\", \"college\", \"color\", \"coming\", \"coming\", \"coming\", \"committee\", \"common\", \"community\", \"community\", \"concern\", \"concern\", \"concern\", \"concern\", \"concern\", \"congress\", \"congress\", \"constitution\", \"constitutional\", \"continue\", \"continue\", \"continue\", \"conversation\", \"could\", \"could\", \"could\", \"could\", \"country\", \"country\", \"country\", \"county\", \"court\", \"crazy\", \"create\", \"create\", \"create\", \"criminal\", \"crisis\", \"crisis\", \"death\", \"defense\", \"democracy\", \"democrat\", \"democrat\", \"democratic\", \"design\", \"development\", \"difference\", \"different\", \"discussion\", \"dollar\", \"donald\", \"dream\", \"economic\", \"economy\", \"elect\", \"election\", \"emergency\", \"energy\", \"ensure\", \"environment\", \"equal\", \"event\", \"event\", \"every\", \"every\", \"every\", \"every\", \"everybody\", \"exactly\", \"experience\", \"experience\", \"extremely\", \"facility\", \"fact\", \"faith\", \"family\", \"family\", \"father\", \"federal\", \"fight\", \"fighting\", \"first\", \"first\", \"first\", \"first\", \"first\", \"first\", \"first\", \"foreign\", \"forget\", \"forward\", \"forward\", \"forward\", \"frankly\", \"friend\", \"friend\", \"funding\", \"future\", \"future\", \"future\", \"general\", \"getting\", \"getting\", \"going\", \"government\", \"government\", \"great\", \"great\", \"great\", \"greatest\", \"growth\", \"guess\", \"hands\", \"happen\", \"happening\", \"happy\", \"health\", \"healthcare\", \"heart\", \"higher\", \"history\", \"history\", \"honest\", \"honor\", \"hours\", \"house\", \"house\", \"housing\", \"human\", \"immigration\", \"impeach\", \"impeachment\", \"important\", \"important\", \"important\", \"important\", \"improve\", \"increase\", \"increase\", \"industry\", \"industry\", \"infrastructure\", \"insurance\", \"interest\", \"interest\", \"interest\", \"invest\", \"investigation\", \"investment\", \"israel\", \"issue\", \"issue\", \"issue\", \"issue\", \"issue\", \"justice\", \"justice\", \"kill\", \"leave\", \"legislation\", \"legislature\", \"life\", \"life\", \"little\", \"local\", \"looking\", \"looking\", \"love\", \"majority\", \"maybe\", \"medical\", \"medium\", \"medium\", \"mexico\", \"middle\", \"million\", \"million\", \"mistake\", \"moment\", \"moment\", \"money\", \"money\", \"month\", \"month\", \"month\", \"movement\", \"movie\", \"mueller\", \"nation\", \"nation\", \"nation\", \"national\", \"national\", \"need\", \"need\", \"need\", \"need\", \"never\", \"night\", \"nobody\", \"nothing\", \"nuclear\", \"obama\", \"office\", \"office\", \"officer\", \"official\", \"opportunity\", \"opportunity\", \"oppose\", \"option\", \"parent\", \"party\", \"party\", \"patient\", \"people\", \"people\", \"percent\", \"person\", \"person\", \"piece\", \"plan\", \"play\", \"playing\", \"point\", \"point\", \"point\", \"point\", \"police\", \"policy\", \"policy\", \"policy\", \"political\", \"political\", \"political\", \"politician\", \"power\", \"power\", \"powerful\", \"practice\", \"present\", \"president\", \"presidential\", \"pretty\", \"prevent\", \"price\", \"private\", \"probably\", \"problem\", \"problem\", \"process\", \"process\", \"process\", \"program\", \"program\", \"progress\", \"progressive\", \"project\", \"property\", \"proposal\", \"propose\", \"protect\", \"protect\", \"protect\", \"protect\", \"protection\", \"proud\", \"proud\", \"provide\", \"provide\", \"public\", \"public\", \"public\", \"quality\", \"question\", \"quite\", \"racist\", \"raise\", \"raise\", \"reality\", \"realize\", \"really\", \"region\", \"region\", \"report\", \"republican\", \"request\", \"require\", \"resident\", \"respect\", \"respect\", \"review\", \"right\", \"right\", \"right\", \"running\", \"rural\", \"russia\", \"saying\", \"school\", \"secretary\", \"security\", \"security\", \"security\", \"seem\", \"senate\", \"senate\", \"sense\", \"serve\", \"serve\", \"services\", \"shooting\", \"short\", \"simple\", \"since\", \"since\", \"since\", \"single\", \"single\", \"smart\", \"solution\", \"somebody\", \"somebody\", \"someone\", \"someone\", \"someone\", \"something\", \"sometimes\", \"sorry\", \"south\", \"stand\", \"stand\", \"standing\", \"start\", \"start\", \"state\", \"state\", \"statement\", \"still\", \"still\", \"still\", \"still\", \"still\", \"student\", \"stuff\", \"support\", \"support\", \"support\", \"support\", \"supporting\", \"suppose\", \"system\", \"system\", \"system\", \"table\", \"take\", \"take\", \"take\", \"talking\", \"taxpayer\", \"teacher\", \"telling\", \"thing\", \"things\", \"think\", \"thinking\", \"thought\", \"threat\", \"three\", \"times\", \"times\", \"today\", \"today\", \"today\", \"today\", \"today\", \"today\", \"together\", \"together\", \"together\", \"totally\", \"tough\", \"trade\", \"trade\", \"treat\", \"trump\", \"try\", \"try\", \"try\", \"undermine\", \"understand\", \"understand\", \"understand\", \"unite\", \"values\", \"violence\", \"violence\", \"virginia\", \"voice\", \"vote\", \"voter\", \"voter\", \"voting\", \"want\", \"want\", \"want\", \"watch\", \"water\", \"weapon\", \"week\", \"welcome\", \"whatever\", \"white\", \"whole\", \"whole\", \"willing\", \"witness\", \"woman\", \"words\", \"worker\", \"working\", \"working\", \"working\", \"works\", \"world\", \"world\", \"world\", \"world\", \"worry\", \"would\", \"would\", \"would\", \"would\", \"wrong\", \"wrong\", \"years\", \"years\", \"years\", \"young\"]}, \"R\": 30, \"lambda.step\": 0.01, \"plot.opts\": {\"xlab\": \"PC1\", \"ylab\": \"PC2\"}, \"topic.order\": [1, 2, 3, 4, 5, 6, 7, 8]};\n",
              "\n",
              "function LDAvis_load_lib(url, callback){\n",
              "  var s = document.createElement('script');\n",
              "  s.src = url;\n",
              "  s.async = true;\n",
              "  s.onreadystatechange = s.onload = callback;\n",
              "  s.onerror = function(){console.warn(\"failed to load library \" + url);};\n",
              "  document.getElementsByTagName(\"head\")[0].appendChild(s);\n",
              "}\n",
              "\n",
              "if(typeof(LDAvis) !== \"undefined\"){\n",
              "   // already loaded: just create the visualization\n",
              "   !function(LDAvis){\n",
              "       new LDAvis(\"#\" + \"ldavis_el2621404324382724648671249180\", ldavis_el2621404324382724648671249180_data);\n",
              "   }(LDAvis);\n",
              "}else if(typeof define === \"function\" && define.amd){\n",
              "   // require.js is available: use it to load d3/LDAvis\n",
              "   require.config({paths: {d3: \"https://d3js.org/d3.v5\"}});\n",
              "   require([\"d3\"], function(d3){\n",
              "      window.d3 = d3;\n",
              "      LDAvis_load_lib(\"https://cdn.jsdelivr.net/gh/bmabey/pyLDAvis@3.3.1/pyLDAvis/js/ldavis.v3.0.0.js\", function(){\n",
              "        new LDAvis(\"#\" + \"ldavis_el2621404324382724648671249180\", ldavis_el2621404324382724648671249180_data);\n",
              "      });\n",
              "    });\n",
              "}else{\n",
              "    // require.js not available: dynamically load d3 & LDAvis\n",
              "    LDAvis_load_lib(\"https://d3js.org/d3.v5.js\", function(){\n",
              "         LDAvis_load_lib(\"https://cdn.jsdelivr.net/gh/bmabey/pyLDAvis@3.3.1/pyLDAvis/js/ldavis.v3.0.0.js\", function(){\n",
              "                 new LDAvis(\"#\" + \"ldavis_el2621404324382724648671249180\", ldavis_el2621404324382724648671249180_data);\n",
              "            })\n",
              "         });\n",
              "}\n",
              "</script>"
            ],
            "text/plain": [
              "<IPython.core.display.HTML object>"
            ]
          },
          "metadata": {},
          "execution_count": 13
        }
      ]
    },
    {
      "cell_type": "code",
      "source": [
        ""
      ],
      "metadata": {
        "id": "35MxAy9ukyAm"
      },
      "execution_count": null,
      "outputs": []
    }
  ],
  "metadata": {
    "colab": {
      "collapsed_sections": [],
      "name": "topic_modelling.ipynb",
      "provenance": []
    },
    "kernelspec": {
      "display_name": "Python 3",
      "name": "python3"
    },
    "language_info": {
      "name": "python"
    }
  },
  "nbformat": 4,
  "nbformat_minor": 0
}